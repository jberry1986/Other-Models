{
 "cells": [
  {
   "cell_type": "markdown",
   "metadata": {},
   "source": [
    "## Import the source data"
   ]
  },
  {
   "cell_type": "code",
   "execution_count": 1,
   "metadata": {},
   "outputs": [],
   "source": [
    "import pandas as pd\n",
    "import numpy as np"
   ]
  },
  {
   "cell_type": "code",
   "execution_count": 2,
   "metadata": {},
   "outputs": [],
   "source": [
    "PATH = '~/Documents/To transfer out/job applications/QBE/QBE_Data_Science_Challenge/'\n",
    "fnames = ['smetradesmanliability.csv','data_dictionary.xlsx']"
   ]
  },
  {
   "cell_type": "code",
   "execution_count": 3,
   "metadata": {},
   "outputs": [],
   "source": [
    "df = pd.read_csv(f'{PATH}{fnames[0]}')"
   ]
  },
  {
   "cell_type": "code",
   "execution_count": 4,
   "metadata": {},
   "outputs": [
    {
     "data": {
      "text/html": [
       "<div>\n",
       "<style scoped>\n",
       "    .dataframe tbody tr th:only-of-type {\n",
       "        vertical-align: middle;\n",
       "    }\n",
       "\n",
       "    .dataframe tbody tr th {\n",
       "        vertical-align: top;\n",
       "    }\n",
       "\n",
       "    .dataframe thead th {\n",
       "        text-align: right;\n",
       "    }\n",
       "</style>\n",
       "<table border=\"1\" class=\"dataframe\">\n",
       "  <thead>\n",
       "    <tr style=\"text-align: right;\">\n",
       "      <th></th>\n",
       "      <th>Unnamed: 0</th>\n",
       "      <th>Source System</th>\n",
       "      <th>Product</th>\n",
       "      <th>Underwriting Year</th>\n",
       "      <th>Effective Date</th>\n",
       "      <th>Expiry Date</th>\n",
       "      <th>Transaction Type</th>\n",
       "      <th>Public Liability Limit</th>\n",
       "      <th>Employers Liability Limit</th>\n",
       "      <th>Tools Sum Insured</th>\n",
       "      <th>...</th>\n",
       "      <th>Location</th>\n",
       "      <th>Public_Liability_Limit_5000000.2</th>\n",
       "      <th>Public_Liability_Limit_5000000.3</th>\n",
       "      <th>Professional_Indemnity_Limit_g</th>\n",
       "      <th>Risk_Postcode2</th>\n",
       "      <th>TotalEmployees</th>\n",
       "      <th>Claim Count</th>\n",
       "      <th>Claim Incurred</th>\n",
       "      <th>Capped Incurred (£50k)</th>\n",
       "      <th>Capped Incurred (£100k)</th>\n",
       "    </tr>\n",
       "  </thead>\n",
       "  <tbody>\n",
       "    <tr>\n",
       "      <th>0</th>\n",
       "      <td>0</td>\n",
       "      <td>Simply Business</td>\n",
       "      <td>Maltings Tradesman</td>\n",
       "      <td>2014</td>\n",
       "      <td>19/09/2014 01:00</td>\n",
       "      <td>18/09/2015 01:00</td>\n",
       "      <td>New Business</td>\n",
       "      <td>1000000</td>\n",
       "      <td>0</td>\n",
       "      <td>0.0</td>\n",
       "      <td>...</td>\n",
       "      <td>BRIGHTON</td>\n",
       "      <td>0</td>\n",
       "      <td>0</td>\n",
       "      <td>1</td>\n",
       "      <td>BN21 3</td>\n",
       "      <td>1</td>\n",
       "      <td>0</td>\n",
       "      <td>0.0</td>\n",
       "      <td>0.0</td>\n",
       "      <td>0.0</td>\n",
       "    </tr>\n",
       "    <tr>\n",
       "      <th>1</th>\n",
       "      <td>1</td>\n",
       "      <td>Simply Business</td>\n",
       "      <td>Maltings Tradesman</td>\n",
       "      <td>2014</td>\n",
       "      <td>08/10/2014 01:00</td>\n",
       "      <td>07/10/2015 01:00</td>\n",
       "      <td>New Business</td>\n",
       "      <td>5000000</td>\n",
       "      <td>0</td>\n",
       "      <td>0.0</td>\n",
       "      <td>...</td>\n",
       "      <td>BRISTOL</td>\n",
       "      <td>1</td>\n",
       "      <td>0</td>\n",
       "      <td>0</td>\n",
       "      <td>BS15 4</td>\n",
       "      <td>1</td>\n",
       "      <td>0</td>\n",
       "      <td>0.0</td>\n",
       "      <td>0.0</td>\n",
       "      <td>0.0</td>\n",
       "    </tr>\n",
       "    <tr>\n",
       "      <th>2</th>\n",
       "      <td>2</td>\n",
       "      <td>Simply Business</td>\n",
       "      <td>Maltings Tradesman</td>\n",
       "      <td>2014</td>\n",
       "      <td>18/09/2014 01:00</td>\n",
       "      <td>17/09/2015 01:00</td>\n",
       "      <td>New Business</td>\n",
       "      <td>5000000</td>\n",
       "      <td>10000000</td>\n",
       "      <td>4000.0</td>\n",
       "      <td>...</td>\n",
       "      <td>NORTHAMPTON</td>\n",
       "      <td>1</td>\n",
       "      <td>0</td>\n",
       "      <td>0</td>\n",
       "      <td>NN10 8</td>\n",
       "      <td>8</td>\n",
       "      <td>0</td>\n",
       "      <td>0.0</td>\n",
       "      <td>0.0</td>\n",
       "      <td>0.0</td>\n",
       "    </tr>\n",
       "    <tr>\n",
       "      <th>3</th>\n",
       "      <td>3</td>\n",
       "      <td>Simply Business</td>\n",
       "      <td>Maltings Tradesman</td>\n",
       "      <td>2014</td>\n",
       "      <td>03/10/2014 01:00</td>\n",
       "      <td>02/10/2015 01:00</td>\n",
       "      <td>New Business</td>\n",
       "      <td>2000000</td>\n",
       "      <td>0</td>\n",
       "      <td>2000.0</td>\n",
       "      <td>...</td>\n",
       "      <td>CAMBRIDGE</td>\n",
       "      <td>0</td>\n",
       "      <td>0</td>\n",
       "      <td>0</td>\n",
       "      <td>CB8 7</td>\n",
       "      <td>10</td>\n",
       "      <td>0</td>\n",
       "      <td>0.0</td>\n",
       "      <td>0.0</td>\n",
       "      <td>0.0</td>\n",
       "    </tr>\n",
       "    <tr>\n",
       "      <th>4</th>\n",
       "      <td>4</td>\n",
       "      <td>Simply Business</td>\n",
       "      <td>Maltings Tradesman</td>\n",
       "      <td>2014</td>\n",
       "      <td>20/09/2014 01:00</td>\n",
       "      <td>19/09/2015 01:00</td>\n",
       "      <td>New Business</td>\n",
       "      <td>1000000</td>\n",
       "      <td>0</td>\n",
       "      <td>0.0</td>\n",
       "      <td>...</td>\n",
       "      <td>NEWCASTLE UPON TYNE</td>\n",
       "      <td>0</td>\n",
       "      <td>0</td>\n",
       "      <td>1</td>\n",
       "      <td>NE5 1</td>\n",
       "      <td>1</td>\n",
       "      <td>0</td>\n",
       "      <td>0.0</td>\n",
       "      <td>0.0</td>\n",
       "      <td>0.0</td>\n",
       "    </tr>\n",
       "  </tbody>\n",
       "</table>\n",
       "<p>5 rows × 68 columns</p>\n",
       "</div>"
      ],
      "text/plain": [
       "   Unnamed: 0    Source System             Product  Underwriting Year  \\\n",
       "0           0  Simply Business  Maltings Tradesman               2014   \n",
       "1           1  Simply Business  Maltings Tradesman               2014   \n",
       "2           2  Simply Business  Maltings Tradesman               2014   \n",
       "3           3  Simply Business  Maltings Tradesman               2014   \n",
       "4           4  Simply Business  Maltings Tradesman               2014   \n",
       "\n",
       "     Effective Date       Expiry Date Transaction Type  \\\n",
       "0  19/09/2014 01:00  18/09/2015 01:00     New Business   \n",
       "1  08/10/2014 01:00  07/10/2015 01:00     New Business   \n",
       "2  18/09/2014 01:00  17/09/2015 01:00     New Business   \n",
       "3  03/10/2014 01:00  02/10/2015 01:00     New Business   \n",
       "4  20/09/2014 01:00  19/09/2015 01:00     New Business   \n",
       "\n",
       "   Public Liability Limit  Employers Liability Limit  Tools Sum Insured  \\\n",
       "0                 1000000                          0                0.0   \n",
       "1                 5000000                          0                0.0   \n",
       "2                 5000000                   10000000             4000.0   \n",
       "3                 2000000                          0             2000.0   \n",
       "4                 1000000                          0                0.0   \n",
       "\n",
       "            ...                       Location  \\\n",
       "0           ...                       BRIGHTON   \n",
       "1           ...                        BRISTOL   \n",
       "2           ...                    NORTHAMPTON   \n",
       "3           ...                      CAMBRIDGE   \n",
       "4           ...            NEWCASTLE UPON TYNE   \n",
       "\n",
       "   Public_Liability_Limit_5000000.2  Public_Liability_Limit_5000000.3  \\\n",
       "0                                 0                                 0   \n",
       "1                                 1                                 0   \n",
       "2                                 1                                 0   \n",
       "3                                 0                                 0   \n",
       "4                                 0                                 0   \n",
       "\n",
       "   Professional_Indemnity_Limit_g Risk_Postcode2 TotalEmployees  Claim Count  \\\n",
       "0                               1         BN21 3              1            0   \n",
       "1                               0         BS15 4              1            0   \n",
       "2                               0         NN10 8              8            0   \n",
       "3                               0          CB8 7             10            0   \n",
       "4                               1          NE5 1              1            0   \n",
       "\n",
       "   Claim Incurred  Capped Incurred (£50k) Capped Incurred (£100k)  \n",
       "0             0.0                     0.0                     0.0  \n",
       "1             0.0                     0.0                     0.0  \n",
       "2             0.0                     0.0                     0.0  \n",
       "3             0.0                     0.0                     0.0  \n",
       "4             0.0                     0.0                     0.0  \n",
       "\n",
       "[5 rows x 68 columns]"
      ]
     },
     "execution_count": 4,
     "metadata": {},
     "output_type": "execute_result"
    }
   ],
   "source": [
    "df.head()"
   ]
  },
  {
   "cell_type": "code",
   "execution_count": 5,
   "metadata": {},
   "outputs": [
    {
     "data": {
      "text/plain": [
       "0    229689\n",
       "1      3098\n",
       "2       150\n",
       "3        22\n",
       "4         3\n",
       "Name: Claim Count, dtype: int64"
      ]
     },
     "execution_count": 5,
     "metadata": {},
     "output_type": "execute_result"
    }
   ],
   "source": [
    "df['Claim Count'].value_counts()"
   ]
  },
  {
   "cell_type": "raw",
   "metadata": {},
   "source": [
    "Looks like we have imbalanced classes here. May need to readdress through over sampling at a later point"
   ]
  },
  {
   "cell_type": "markdown",
   "metadata": {
    "heading_collapsed": true
   },
   "source": [
    "### make a few amendments to the dataframe"
   ]
  },
  {
   "cell_type": "code",
   "execution_count": 6,
   "metadata": {
    "hidden": true
   },
   "outputs": [
    {
     "data": {
      "text/plain": [
       "(Index(['Unnamed: 0', 'Source System', 'Product', 'Underwriting Year',\n",
       "        'Effective Date', 'Expiry Date', 'Transaction Type',\n",
       "        'Public Liability Limit', 'Employers Liability Limit',\n",
       "        'Tools Sum Insured', 'Professional Indemnity Limit',\n",
       "        'Contract Works Sum Insured', 'Hired in Plan Sum Insured',\n",
       "        'Own Plant Sum Insured', 'Trade 1', 'Trade 2', 'Manual EE',\n",
       "        'Clerical EE', 'Subcontractor EE', 'Match Type', 'Trade 1 Category',\n",
       "        'Trade 2 Category', 'Trade 1 Risk Level', 'Trade 2 Risk Level',\n",
       "        'Effective_Date2', 'CancellationEffectiveDate',\n",
       "        'Total Gross Premium excl IPT', 'Commission Amount',\n",
       "        'Net Premium to UW', 'Policy Count', 'Gross Premium Excl PI',\n",
       "        'Gross PI Premium', 'DurationofPolicy', 'CombinedTradeRiskLevel',\n",
       "        'Public_Liability_Limit_1000000', 'Public_Liability_Limit_1000000.1',\n",
       "        'Public_Liability_Limit_2000000', 'Public_Liability_Limit_5000000',\n",
       "        'Public_Liability_Limit_5000000.1', 'Public_Liability_Limit_1000000.2',\n",
       "        'Public_Liability_Limit_1000000.3', 'Employers_Liability_Limit_1000',\n",
       "        'Professional_Indemnity_Limit_5', 'Professional_Indemnity_Limit_5.1',\n",
       "        'Professional_Indemnity_Limit_1', 'Professional_Indemnity_Limit_1.1',\n",
       "        'Professional_Indemnity_Limit_2', 'Professional_Indemnity_Limit_2.1',\n",
       "        'Professional_Indemnity_Limit_5.2', 'Professional_Indemnity_Limit_5.3',\n",
       "        'Professional_Indemnity_Limit_1.2', 'Professional_Indemnity_Limit_1.3',\n",
       "        'Professional_Indemnity_Limit_2.2', 'Professional_Indemnity_Limit_2.3',\n",
       "        'Tools_Sum_Insured_Ind', 'Contract_Works_Sum_Insured_Ind',\n",
       "        'Hired_in_Plan_Sum_Insured_Ind', 'Own_Plant_Sum_Insured_Ind',\n",
       "        'Location', 'Public_Liability_Limit_5000000.2',\n",
       "        'Public_Liability_Limit_5000000.3', 'Professional_Indemnity_Limit_g',\n",
       "        'Risk_Postcode2', 'TotalEmployees', 'Claim Count', 'Claim Incurred',\n",
       "        'Capped Incurred (£50k)', 'Capped Incurred (£100k)'],\n",
       "       dtype='object'), (232962, 68))"
      ]
     },
     "execution_count": 6,
     "metadata": {},
     "output_type": "execute_result"
    }
   ],
   "source": [
    "df.columns,df.shape"
   ]
  },
  {
   "cell_type": "code",
   "execution_count": 7,
   "metadata": {
    "hidden": true
   },
   "outputs": [],
   "source": [
    "df.set_index('Unnamed: 0', inplace= True)"
   ]
  },
  {
   "cell_type": "markdown",
   "metadata": {
    "heading_collapsed": true
   },
   "source": [
    "### look into the date types - this is a chunk of code worth re-running as we tidy the data up"
   ]
  },
  {
   "cell_type": "code",
   "execution_count": 8,
   "metadata": {
    "hidden": true
   },
   "outputs": [
    {
     "data": {
      "text/plain": [
       "int64      44\n",
       "object     13\n",
       "float64    10\n",
       "dtype: int64"
      ]
     },
     "execution_count": 8,
     "metadata": {},
     "output_type": "execute_result"
    }
   ],
   "source": [
    "data_types = df.dtypes\n",
    "\n",
    "data_types.value_counts()"
   ]
  },
  {
   "cell_type": "markdown",
   "metadata": {},
   "source": [
    "### look into the object data types"
   ]
  },
  {
   "cell_type": "code",
   "execution_count": 9,
   "metadata": {},
   "outputs": [],
   "source": [
    "objects = data_types[data_types == 'object'].index.values.tolist()"
   ]
  },
  {
   "cell_type": "code",
   "execution_count": 10,
   "metadata": {},
   "outputs": [
    {
     "data": {
      "text/plain": [
       "[('Source System', 2),\n",
       " ('Product', 6),\n",
       " ('Effective Date', 3290),\n",
       " ('Expiry Date', 3438),\n",
       " ('Transaction Type', 3),\n",
       " ('Trade 1', 880),\n",
       " ('Trade 2', 759),\n",
       " ('Match Type', 8),\n",
       " ('Trade 1 Category', 16),\n",
       " ('Trade 2 Category', 17),\n",
       " ('Effective_Date2', 1813),\n",
       " ('Location', 121),\n",
       " ('Risk_Postcode2', 20857)]"
      ]
     },
     "execution_count": 10,
     "metadata": {},
     "output_type": "execute_result"
    }
   ],
   "source": [
    "cardinality = [(a,df[a].value_counts().count()) for a in objects]\n",
    "cardinality"
   ]
  },
  {
   "cell_type": "code",
   "execution_count": 11,
   "metadata": {},
   "outputs": [
    {
     "data": {
      "text/plain": [
       "Source System           0\n",
       "Product                 0\n",
       "Effective Date          0\n",
       "Expiry Date             0\n",
       "Transaction Type        0\n",
       "Trade 1                 0\n",
       "Trade 2             25172\n",
       "Match Type              0\n",
       "Trade 1 Category        0\n",
       "Trade 2 Category        0\n",
       "Effective_Date2         0\n",
       "Location              351\n",
       "Risk_Postcode2          0\n",
       "dtype: int64"
      ]
     },
     "execution_count": 11,
     "metadata": {},
     "output_type": "execute_result"
    }
   ],
   "source": [
    "df[objects].isnull().sum()"
   ]
  },
  {
   "cell_type": "raw",
   "metadata": {},
   "source": [
    "Trade 2 and Location have some missing values. Lets replace these with unknown for now"
   ]
  },
  {
   "cell_type": "code",
   "execution_count": 12,
   "metadata": {},
   "outputs": [],
   "source": [
    "df['Trade 2'].fillna('Unknown',inplace = True)\n",
    "#also add this in for blanks\n",
    "df['Trade 2'] = df['Trade 2'].apply(lambda x : 'Unknown' if x == ' ' else x)"
   ]
  },
  {
   "cell_type": "code",
   "execution_count": 13,
   "metadata": {},
   "outputs": [],
   "source": [
    "df['Location'].fillna('Unknown',inplace = True)"
   ]
  },
  {
   "cell_type": "code",
   "execution_count": 14,
   "metadata": {},
   "outputs": [],
   "source": [
    "df.drop(['Effective_Date2'],inplace= True,axis = 1)"
   ]
  },
  {
   "cell_type": "raw",
   "metadata": {},
   "source": [
    "There are also two date fields in here, which I think we can do a bit more with in terms of features"
   ]
  },
  {
   "cell_type": "code",
   "execution_count": 15,
   "metadata": {},
   "outputs": [
    {
     "data": {
      "text/plain": [
       "int64      44\n",
       "object     12\n",
       "float64    10\n",
       "dtype: int64"
      ]
     },
     "execution_count": 15,
     "metadata": {},
     "output_type": "execute_result"
    }
   ],
   "source": [
    "data_types = df.dtypes\n",
    "\n",
    "data_types.value_counts()"
   ]
  },
  {
   "cell_type": "markdown",
   "metadata": {},
   "source": [
    "### date fields"
   ]
  },
  {
   "cell_type": "code",
   "execution_count": 16,
   "metadata": {},
   "outputs": [],
   "source": [
    "df['Effective Date'] = pd.to_datetime(df['Effective Date'])\n",
    "df['Expiry Date'] = pd.to_datetime(df['Expiry Date'])"
   ]
  },
  {
   "cell_type": "code",
   "execution_count": 17,
   "metadata": {},
   "outputs": [],
   "source": [
    "lamdafunc = lambda x : pd.Series([x['Effective Date'].weekofyear\n",
    "                                  ,x['Effective Date'].dayofweek\n",
    "                                  ,x['Effective Date'].is_month_start\n",
    "                                  ,x['Effective Date'].is_month_end\n",
    "                                  ,x['Effective Date'].quarter\n",
    "                                  ,x['Effective Date'].is_quarter_start\n",
    "                                  ,x['Effective Date'].is_quarter_end\n",
    "                                  ,x['Effective Date'].month\n",
    "                                  ,x['Effective Date'].day\n",
    "                                 ])"
   ]
  },
  {
   "cell_type": "code",
   "execution_count": 18,
   "metadata": {},
   "outputs": [],
   "source": [
    "df[['eff_woy','eff_dow','eff_month_start'\n",
    "    ,'eff_month_end','eff_quarter','eff_qstart','eff_qend','eff_month','eff_day']] = df.apply(lamdafunc,axis = 1)"
   ]
  },
  {
   "cell_type": "code",
   "execution_count": 19,
   "metadata": {},
   "outputs": [
    {
     "data": {
      "text/plain": [
       "int64             49\n",
       "float64           10\n",
       "object            10\n",
       "bool               4\n",
       "datetime64[ns]     2\n",
       "dtype: int64"
      ]
     },
     "execution_count": 19,
     "metadata": {},
     "output_type": "execute_result"
    }
   ],
   "source": [
    "data_types = df.dtypes\n",
    "\n",
    "data_types.value_counts()"
   ]
  },
  {
   "cell_type": "markdown",
   "metadata": {
    "heading_collapsed": true
   },
   "source": [
    "### integer data types"
   ]
  },
  {
   "cell_type": "code",
   "execution_count": 20,
   "metadata": {
    "hidden": true
   },
   "outputs": [],
   "source": [
    "ints = data_types[data_types == 'int64'].index.values.tolist()"
   ]
  },
  {
   "cell_type": "code",
   "execution_count": 21,
   "metadata": {
    "hidden": true
   },
   "outputs": [
    {
     "data": {
      "text/plain": [
       "Underwriting Year                   0\n",
       "Public Liability Limit              0\n",
       "Employers Liability Limit           0\n",
       "Professional Indemnity Limit        0\n",
       "Contract Works Sum Insured          0\n",
       "Hired in Plan Sum Insured           0\n",
       "Own Plant Sum Insured               0\n",
       "Manual EE                           0\n",
       "Clerical EE                         0\n",
       "Subcontractor EE                    0\n",
       "Trade 1 Risk Level                  0\n",
       "Trade 2 Risk Level                  0\n",
       "Policy Count                        0\n",
       "DurationofPolicy                    0\n",
       "CombinedTradeRiskLevel              0\n",
       "Public_Liability_Limit_1000000      0\n",
       "Public_Liability_Limit_1000000.1    0\n",
       "Public_Liability_Limit_2000000      0\n",
       "Public_Liability_Limit_5000000      0\n",
       "Public_Liability_Limit_5000000.1    0\n",
       "Public_Liability_Limit_1000000.2    0\n",
       "Public_Liability_Limit_1000000.3    0\n",
       "Employers_Liability_Limit_1000      0\n",
       "Professional_Indemnity_Limit_5      0\n",
       "Professional_Indemnity_Limit_5.1    0\n",
       "Professional_Indemnity_Limit_1      0\n",
       "Professional_Indemnity_Limit_1.1    0\n",
       "Professional_Indemnity_Limit_2      0\n",
       "Professional_Indemnity_Limit_2.1    0\n",
       "Professional_Indemnity_Limit_5.2    0\n",
       "Professional_Indemnity_Limit_5.3    0\n",
       "Professional_Indemnity_Limit_1.2    0\n",
       "Professional_Indemnity_Limit_1.3    0\n",
       "Professional_Indemnity_Limit_2.2    0\n",
       "Professional_Indemnity_Limit_2.3    0\n",
       "Tools_Sum_Insured_Ind               0\n",
       "Contract_Works_Sum_Insured_Ind      0\n",
       "Hired_in_Plan_Sum_Insured_Ind       0\n",
       "Own_Plant_Sum_Insured_Ind           0\n",
       "Public_Liability_Limit_5000000.2    0\n",
       "Public_Liability_Limit_5000000.3    0\n",
       "Professional_Indemnity_Limit_g      0\n",
       "TotalEmployees                      0\n",
       "Claim Count                         0\n",
       "eff_woy                             0\n",
       "eff_dow                             0\n",
       "eff_quarter                         0\n",
       "eff_month                           0\n",
       "eff_day                             0\n",
       "dtype: int64"
      ]
     },
     "execution_count": 21,
     "metadata": {},
     "output_type": "execute_result"
    }
   ],
   "source": [
    "df[ints].isnull().sum()"
   ]
  },
  {
   "cell_type": "code",
   "execution_count": 22,
   "metadata": {
    "hidden": true
   },
   "outputs": [
    {
     "data": {
      "text/plain": [
       "int64             49\n",
       "float64           10\n",
       "object            10\n",
       "bool               4\n",
       "datetime64[ns]     2\n",
       "dtype: int64"
      ]
     },
     "execution_count": 22,
     "metadata": {},
     "output_type": "execute_result"
    }
   ],
   "source": [
    "data_types = df.dtypes\n",
    "\n",
    "data_types.value_counts()"
   ]
  },
  {
   "cell_type": "markdown",
   "metadata": {},
   "source": [
    "### continuous variables"
   ]
  },
  {
   "cell_type": "code",
   "execution_count": 23,
   "metadata": {},
   "outputs": [],
   "source": [
    "floats = data_types[data_types == 'float64'].index.values.tolist()"
   ]
  },
  {
   "cell_type": "code",
   "execution_count": 24,
   "metadata": {},
   "outputs": [
    {
     "data": {
      "text/html": [
       "<div>\n",
       "<style scoped>\n",
       "    .dataframe tbody tr th:only-of-type {\n",
       "        vertical-align: middle;\n",
       "    }\n",
       "\n",
       "    .dataframe tbody tr th {\n",
       "        vertical-align: top;\n",
       "    }\n",
       "\n",
       "    .dataframe thead th {\n",
       "        text-align: right;\n",
       "    }\n",
       "</style>\n",
       "<table border=\"1\" class=\"dataframe\">\n",
       "  <thead>\n",
       "    <tr style=\"text-align: right;\">\n",
       "      <th></th>\n",
       "      <th>Tools Sum Insured</th>\n",
       "      <th>CancellationEffectiveDate</th>\n",
       "      <th>Total Gross Premium excl IPT</th>\n",
       "      <th>Commission Amount</th>\n",
       "      <th>Net Premium to UW</th>\n",
       "      <th>Gross Premium Excl PI</th>\n",
       "      <th>Gross PI Premium</th>\n",
       "      <th>Claim Incurred</th>\n",
       "      <th>Capped Incurred (£50k)</th>\n",
       "      <th>Capped Incurred (£100k)</th>\n",
       "    </tr>\n",
       "    <tr>\n",
       "      <th>Unnamed: 0</th>\n",
       "      <th></th>\n",
       "      <th></th>\n",
       "      <th></th>\n",
       "      <th></th>\n",
       "      <th></th>\n",
       "      <th></th>\n",
       "      <th></th>\n",
       "      <th></th>\n",
       "      <th></th>\n",
       "      <th></th>\n",
       "    </tr>\n",
       "  </thead>\n",
       "  <tbody>\n",
       "    <tr>\n",
       "      <th>0</th>\n",
       "      <td>0.0</td>\n",
       "      <td>NaN</td>\n",
       "      <td>266.39</td>\n",
       "      <td>98.46</td>\n",
       "      <td>167.93</td>\n",
       "      <td>199.75</td>\n",
       "      <td>66.64</td>\n",
       "      <td>0.0</td>\n",
       "      <td>0.0</td>\n",
       "      <td>0.0</td>\n",
       "    </tr>\n",
       "    <tr>\n",
       "      <th>1</th>\n",
       "      <td>0.0</td>\n",
       "      <td>NaN</td>\n",
       "      <td>91.53</td>\n",
       "      <td>33.83</td>\n",
       "      <td>57.70</td>\n",
       "      <td>91.53</td>\n",
       "      <td>0.00</td>\n",
       "      <td>0.0</td>\n",
       "      <td>0.0</td>\n",
       "      <td>0.0</td>\n",
       "    </tr>\n",
       "    <tr>\n",
       "      <th>2</th>\n",
       "      <td>4000.0</td>\n",
       "      <td>NaN</td>\n",
       "      <td>844.32</td>\n",
       "      <td>312.06</td>\n",
       "      <td>532.26</td>\n",
       "      <td>844.32</td>\n",
       "      <td>0.00</td>\n",
       "      <td>0.0</td>\n",
       "      <td>0.0</td>\n",
       "      <td>0.0</td>\n",
       "    </tr>\n",
       "    <tr>\n",
       "      <th>3</th>\n",
       "      <td>2000.0</td>\n",
       "      <td>NaN</td>\n",
       "      <td>377.90</td>\n",
       "      <td>139.67</td>\n",
       "      <td>238.23</td>\n",
       "      <td>377.90</td>\n",
       "      <td>0.00</td>\n",
       "      <td>0.0</td>\n",
       "      <td>0.0</td>\n",
       "      <td>0.0</td>\n",
       "    </tr>\n",
       "    <tr>\n",
       "      <th>4</th>\n",
       "      <td>0.0</td>\n",
       "      <td>NaN</td>\n",
       "      <td>232.88</td>\n",
       "      <td>86.07</td>\n",
       "      <td>146.81</td>\n",
       "      <td>38.50</td>\n",
       "      <td>194.38</td>\n",
       "      <td>0.0</td>\n",
       "      <td>0.0</td>\n",
       "      <td>0.0</td>\n",
       "    </tr>\n",
       "  </tbody>\n",
       "</table>\n",
       "</div>"
      ],
      "text/plain": [
       "            Tools Sum Insured  CancellationEffectiveDate  \\\n",
       "Unnamed: 0                                                 \n",
       "0                         0.0                        NaN   \n",
       "1                         0.0                        NaN   \n",
       "2                      4000.0                        NaN   \n",
       "3                      2000.0                        NaN   \n",
       "4                         0.0                        NaN   \n",
       "\n",
       "            Total Gross Premium excl IPT  Commission Amount  \\\n",
       "Unnamed: 0                                                    \n",
       "0                                 266.39              98.46   \n",
       "1                                  91.53              33.83   \n",
       "2                                 844.32             312.06   \n",
       "3                                 377.90             139.67   \n",
       "4                                 232.88              86.07   \n",
       "\n",
       "            Net Premium to UW  Gross Premium Excl PI  Gross PI Premium  \\\n",
       "Unnamed: 0                                                               \n",
       "0                      167.93                 199.75             66.64   \n",
       "1                       57.70                  91.53              0.00   \n",
       "2                      532.26                 844.32              0.00   \n",
       "3                      238.23                 377.90              0.00   \n",
       "4                      146.81                  38.50            194.38   \n",
       "\n",
       "            Claim Incurred  Capped Incurred (£50k)  Capped Incurred (£100k)  \n",
       "Unnamed: 0                                                                   \n",
       "0                      0.0                     0.0                      0.0  \n",
       "1                      0.0                     0.0                      0.0  \n",
       "2                      0.0                     0.0                      0.0  \n",
       "3                      0.0                     0.0                      0.0  \n",
       "4                      0.0                     0.0                      0.0  "
      ]
     },
     "execution_count": 24,
     "metadata": {},
     "output_type": "execute_result"
    }
   ],
   "source": [
    "df[floats].head()"
   ]
  },
  {
   "cell_type": "code",
   "execution_count": 25,
   "metadata": {},
   "outputs": [
    {
     "data": {
      "text/plain": [
       "Tools Sum Insured                    0\n",
       "CancellationEffectiveDate       232962\n",
       "Total Gross Premium excl IPT         0\n",
       "Commission Amount                    0\n",
       "Net Premium to UW                    0\n",
       "Gross Premium Excl PI                0\n",
       "Gross PI Premium                 35138\n",
       "Claim Incurred                       0\n",
       "Capped Incurred (£50k)               0\n",
       "Capped Incurred (£100k)              0\n",
       "dtype: int64"
      ]
     },
     "execution_count": 25,
     "metadata": {},
     "output_type": "execute_result"
    }
   ],
   "source": [
    "df[floats].isnull().sum()"
   ]
  },
  {
   "cell_type": "raw",
   "metadata": {},
   "source": [
    "looks like we should delete the cancellation effective data field."
   ]
  },
  {
   "cell_type": "code",
   "execution_count": 26,
   "metadata": {},
   "outputs": [],
   "source": [
    "df.drop(['CancellationEffectiveDate'],inplace = True,axis = 1)\n",
    "df.drop(['Capped Incurred (£50k)'],inplace = True,axis = 1)\n",
    "df.drop(['Capped Incurred (£100k)'],inplace = True,axis = 1)"
   ]
  },
  {
   "cell_type": "raw",
   "metadata": {},
   "source": [
    "it also looks like anything with claim incurred shows there is a claim! lets remove these"
   ]
  },
  {
   "cell_type": "code",
   "execution_count": null,
   "metadata": {},
   "outputs": [],
   "source": [
    "floats.remove('CancellationEffectiveDate')\n",
    "floats.remove('Capped Incurred (£50k)')\n",
    "floats.remove('Capped Incurred (£1000k)')"
   ]
  },
  {
   "cell_type": "raw",
   "metadata": {},
   "source": [
    "to handle the missing gross pi premium values, just replace with gross premium excl PI"
   ]
  },
  {
   "cell_type": "code",
   "execution_count": 27,
   "metadata": {},
   "outputs": [],
   "source": [
    "a = df[['Source System','Gross PI Premium','Gross Premium Excl PI','Total Gross Premium excl IPT']]\n",
    "a[a['Source System'] != 'Simply Business']\n",
    "\n",
    "df['Gross PI Premium'].fillna(df['Gross Premium Excl PI'],inplace = True)"
   ]
  },
  {
   "cell_type": "code",
   "execution_count": 28,
   "metadata": {},
   "outputs": [
    {
     "data": {
      "text/plain": [
       "int64             49\n",
       "object            10\n",
       "float64            7\n",
       "bool               4\n",
       "datetime64[ns]     2\n",
       "dtype: int64"
      ]
     },
     "execution_count": 28,
     "metadata": {},
     "output_type": "execute_result"
    }
   ],
   "source": [
    "data_types = df.dtypes\n",
    "\n",
    "data_types.value_counts()"
   ]
  },
  {
   "cell_type": "markdown",
   "metadata": {},
   "source": [
    "### look at overall dataset"
   ]
  },
  {
   "cell_type": "code",
   "execution_count": 29,
   "metadata": {},
   "outputs": [],
   "source": [
    "#sort the values so we can take the last X as training set\n",
    "\n",
    "df.sort_values(by = ['Effective Date'],inplace = True)"
   ]
  },
  {
   "cell_type": "markdown",
   "metadata": {},
   "source": [
    "#### quickly convert the boolean values into ints"
   ]
  },
  {
   "cell_type": "code",
   "execution_count": 30,
   "metadata": {},
   "outputs": [],
   "source": [
    "bools = data_types[data_types == 'bool'].index.values.tolist()\n",
    "\n",
    "df[bools] = df[bools].astype(np.int64)"
   ]
  },
  {
   "cell_type": "code",
   "execution_count": 31,
   "metadata": {},
   "outputs": [
    {
     "data": {
      "text/plain": [
       "int64             53\n",
       "object            10\n",
       "float64            7\n",
       "datetime64[ns]     2\n",
       "dtype: int64"
      ]
     },
     "execution_count": 31,
     "metadata": {},
     "output_type": "execute_result"
    }
   ],
   "source": [
    "data_types = df.dtypes\n",
    "\n",
    "data_types.value_counts()"
   ]
  },
  {
   "cell_type": "markdown",
   "metadata": {},
   "source": [
    "### back to overall datset"
   ]
  },
  {
   "cell_type": "code",
   "execution_count": 32,
   "metadata": {},
   "outputs": [],
   "source": [
    "floats_f = data_types[data_types == 'float64'].index.values.tolist()\n",
    "ints_f = data_types[data_types == 'int64'].index.values.tolist()\n",
    "object_f = data_types[data_types == 'object'].index.values.tolist()"
   ]
  },
  {
   "cell_type": "code",
   "execution_count": 33,
   "metadata": {},
   "outputs": [],
   "source": [
    "#treat the target by itself\n",
    "\n",
    "ints_f.remove('Claim Count')\n",
    "floats_f.remove('Claim Incurred')"
   ]
  },
  {
   "cell_type": "code",
   "execution_count": 34,
   "metadata": {},
   "outputs": [],
   "source": [
    "df['Claim Count'] = df['Claim Count'].apply(lambda x : 0 if x == 0 else 1)\n",
    "\n",
    "target = ['Claim Count']"
   ]
  },
  {
   "cell_type": "code",
   "execution_count": 36,
   "metadata": {},
   "outputs": [],
   "source": [
    "from sklearn.preprocessing import LabelEncoder,StandardScaler\n",
    "\n",
    "le = LabelEncoder()\n",
    "scaler = StandardScaler()\n",
    "\n",
    "#scale the floats\n",
    "scaled = scaler.fit_transform(df[floats_f])\n",
    "\n",
    "#encode the labels\n",
    "encoded  = np.array(df[object_f].apply(le.fit_transform))"
   ]
  },
  {
   "cell_type": "code",
   "execution_count": 37,
   "metadata": {},
   "outputs": [
    {
     "data": {
      "text/plain": [
       "array([[ 0.        ,  5.        ,  0.        , ..., -0.33205667,\n",
       "        -0.06863205,  0.        ],\n",
       "       [ 0.        ,  5.        ,  0.        , ..., -0.27071234,\n",
       "         0.02443333,  0.        ],\n",
       "       [ 0.        ,  5.        ,  0.        , ...,  1.13824618,\n",
       "         2.16196155,  0.        ],\n",
       "       ...,\n",
       "       [ 1.        ,  2.        ,  0.        , ..., -0.3972364 ,\n",
       "        -0.02681048,  0.        ],\n",
       "       [ 1.        ,  1.        ,  2.        , ...,  0.52916118,\n",
       "        -0.33939774,  0.        ],\n",
       "       [ 1.        ,  1.        ,  2.        , ..., -0.4186143 ,\n",
       "        -0.16864014,  0.        ]])"
      ]
     },
     "execution_count": 37,
     "metadata": {},
     "output_type": "execute_result"
    }
   ],
   "source": [
    "full_df = np.hstack((encoded,scaled,np.array(df[target])))\n",
    "full_df"
   ]
  },
  {
   "cell_type": "markdown",
   "metadata": {},
   "source": [
    "### split into training and test"
   ]
  },
  {
   "cell_type": "code",
   "execution_count": 38,
   "metadata": {},
   "outputs": [],
   "source": [
    "#take the bottom 20% as your training set\n",
    "\n",
    "tr = np.round(len(df) * 0.2,0).astype(int)\n",
    "\n",
    "train = full_df[tr:]\n",
    "test = full_df[:tr]"
   ]
  },
  {
   "cell_type": "code",
   "execution_count": 39,
   "metadata": {},
   "outputs": [
    {
     "data": {
      "text/plain": [
       "232962"
      ]
     },
     "execution_count": 39,
     "metadata": {},
     "output_type": "execute_result"
    }
   ],
   "source": [
    "train.shape[0] + test.shape[0]"
   ]
  },
  {
   "cell_type": "code",
   "execution_count": 40,
   "metadata": {},
   "outputs": [],
   "source": [
    "val = np.round(len(train) * 0.2,0).astype(int)\n",
    "\n",
    "train = train[val:]\n",
    "val = train[:val]"
   ]
  },
  {
   "cell_type": "code",
   "execution_count": 41,
   "metadata": {},
   "outputs": [
    {
     "data": {
      "text/plain": [
       "186370"
      ]
     },
     "execution_count": 41,
     "metadata": {},
     "output_type": "execute_result"
    }
   ],
   "source": [
    "train.shape[0] + val.shape[0]"
   ]
  },
  {
   "cell_type": "markdown",
   "metadata": {},
   "source": [
    "## Build the model"
   ]
  },
  {
   "cell_type": "code",
   "execution_count": 42,
   "metadata": {},
   "outputs": [
    {
     "data": {
      "text/plain": [
       "((149096, 17), (37274, 17))"
      ]
     },
     "execution_count": 42,
     "metadata": {},
     "output_type": "execute_result"
    }
   ],
   "source": [
    "train.shape,val.shape"
   ]
  },
  {
   "cell_type": "code",
   "execution_count": 43,
   "metadata": {},
   "outputs": [],
   "source": [
    "import xgboost as xgb\n",
    "\n",
    "dtrain = xgb.DMatrix(train[:,:-1],label = train[:,-1:])\n",
    "dval = xgb.DMatrix(val[:,:-1],label = val[:,-1:])"
   ]
  },
  {
   "cell_type": "code",
   "execution_count": 64,
   "metadata": {},
   "outputs": [
    {
     "name": "stdout",
     "output_type": "stream",
     "text": [
      "[0]\teval-error:0.01328\ttrain-error:0.013434\n",
      "Multiple eval metrics have been passed: 'train-error' will be used for early stopping.\n",
      "\n",
      "Will train until train-error hasn't improved in 10 rounds.\n",
      "[1]\teval-error:0.01328\ttrain-error:0.013434\n",
      "[2]\teval-error:0.01328\ttrain-error:0.013434\n",
      "[3]\teval-error:0.01328\ttrain-error:0.013434\n",
      "[4]\teval-error:0.01328\ttrain-error:0.013434\n",
      "[5]\teval-error:0.01328\ttrain-error:0.013434\n",
      "[6]\teval-error:0.01328\ttrain-error:0.013434\n",
      "[7]\teval-error:0.01328\ttrain-error:0.013434\n",
      "[8]\teval-error:0.01328\ttrain-error:0.013434\n",
      "[9]\teval-error:0.01328\ttrain-error:0.013434\n",
      "[10]\teval-error:0.01328\ttrain-error:0.013434\n",
      "Stopping. Best iteration:\n",
      "[0]\teval-error:0.01328\ttrain-error:0.013434\n",
      "\n"
     ]
    }
   ],
   "source": [
    "param = {'max_depth':2\n",
    "         , 'eta':0.25\n",
    "         , 'gamma' : 0.5\n",
    "         , 'silent':1\n",
    "         , 'subsample' : 0.9\n",
    "         , 'colsample_bytree' : 0.67\n",
    "         , 'objective':'binary:logistic'\n",
    "         , 'eval_metric' : 'error'}\n",
    "\n",
    "watchlist = [(dval, 'eval'), (dtrain, 'train')]\n",
    "num_round = 100\n",
    "\n",
    "eta_list = [0.2] * 100\n",
    "\n",
    "bst = xgb.train(param, dtrain, num_round, watchlist, early_stopping_rounds = 10,learning_rates=eta_list)"
   ]
  },
  {
   "cell_type": "code",
   "execution_count": 65,
   "metadata": {},
   "outputs": [],
   "source": [
    "bst.save_model('100_rounds_v1')\n",
    "\n",
    "bst2 = xgb.Booster(model_file='100_rounds_v1')"
   ]
  },
  {
   "cell_type": "code",
   "execution_count": 69,
   "metadata": {},
   "outputs": [
    {
     "name": "stdout",
     "output_type": "stream",
     "text": [
      "[[36779     0]\n",
      " [  495     0]]\n"
     ]
    }
   ],
   "source": [
    "from sklearn.metrics import accuracy_score,confusion_matrix\n",
    "\n",
    "print(confusion_matrix(val[:,-1:],bst2.predict(dval).astype(int)))"
   ]
  },
  {
   "cell_type": "markdown",
   "metadata": {},
   "source": [
    "## do some oversampling"
   ]
  },
  {
   "cell_type": "code",
   "execution_count": 60,
   "metadata": {},
   "outputs": [],
   "source": [
    "from imblearn.over_sampling import SMOTE"
   ]
  },
  {
   "cell_type": "raw",
   "metadata": {},
   "source": [
    "need to do this at the right level"
   ]
  },
  {
   "cell_type": "code",
   "execution_count": 70,
   "metadata": {},
   "outputs": [
    {
     "data": {
      "text/plain": [
       "((149096, 17), (37274, 17))"
      ]
     },
     "execution_count": 70,
     "metadata": {},
     "output_type": "execute_result"
    }
   ],
   "source": [
    "train.shape,val.shape"
   ]
  },
  {
   "cell_type": "code",
   "execution_count": 71,
   "metadata": {},
   "outputs": [],
   "source": [
    "sm = SMOTE(random_state=12, ratio = 1.0)"
   ]
  },
  {
   "cell_type": "code",
   "execution_count": 75,
   "metadata": {},
   "outputs": [
    {
     "name": "stderr",
     "output_type": "stream",
     "text": [
      "C:\\Users\\jberry2\\Anaconda\\lib\\site-packages\\sklearn\\utils\\validation.py:578: DataConversionWarning: A column-vector y was passed when a 1d array was expected. Please change the shape of y to (n_samples, ), for example using ravel().\n",
      "  y = column_or_1d(y, warn=True)\n",
      "C:\\Users\\jberry2\\Anaconda\\lib\\site-packages\\sklearn\\utils\\deprecation.py:77: DeprecationWarning: Function _ratio_float is deprecated; Use a float for 'ratio' is deprecated from version 0.2. The support will be removed in 0.4. Use a dict, str, or a callable instead.\n",
      "  warnings.warn(msg, category=DeprecationWarning)\n"
     ]
    }
   ],
   "source": [
    "train_res,train_target_res = sm.fit_sample(train[:,:-1],train[:,-1:])"
   ]
  },
  {
   "cell_type": "code",
   "execution_count": 81,
   "metadata": {},
   "outputs": [
    {
     "data": {
      "text/plain": [
       "1.0    147093\n",
       "0.0    147093\n",
       "dtype: int64"
      ]
     },
     "execution_count": 81,
     "metadata": {},
     "output_type": "execute_result"
    }
   ],
   "source": [
    "pd.Series(train_target_res).value_counts()"
   ]
  },
  {
   "cell_type": "markdown",
   "metadata": {},
   "source": [
    "### revisit the model but with oversampled data"
   ]
  },
  {
   "cell_type": "code",
   "execution_count": 102,
   "metadata": {},
   "outputs": [],
   "source": [
    "dtrain2 = xgb.DMatrix(train_res,label = train_target_res)"
   ]
  },
  {
   "cell_type": "code",
   "execution_count": 103,
   "metadata": {},
   "outputs": [
    {
     "name": "stdout",
     "output_type": "stream",
     "text": [
      "[0]\teval-error:0.293475\ttrain-error:0.221819\n",
      "Multiple eval metrics have been passed: 'train-error' will be used for early stopping.\n",
      "\n",
      "Will train until train-error hasn't improved in 10 rounds.\n",
      "[1]\teval-error:0.263025\ttrain-error:0.205023\n",
      "[2]\teval-error:0.284515\ttrain-error:0.207046\n",
      "[3]\teval-error:0.25004\ttrain-error:0.17491\n",
      "[4]\teval-error:0.223695\ttrain-error:0.16304\n",
      "[5]\teval-error:0.200757\ttrain-error:0.143154\n",
      "[6]\teval-error:0.157617\ttrain-error:0.125954\n",
      "[7]\teval-error:0.141788\ttrain-error:0.116018\n",
      "[8]\teval-error:0.165826\ttrain-error:0.112007\n",
      "[9]\teval-error:0.163143\ttrain-error:0.110138\n",
      "[10]\teval-error:0.110506\ttrain-error:0.093104\n",
      "[11]\teval-error:0.104818\ttrain-error:0.090045\n",
      "[12]\teval-error:0.104255\ttrain-error:0.087373\n",
      "[13]\teval-error:0.100553\ttrain-error:0.083583\n",
      "[14]\teval-error:0.101814\ttrain-error:0.080187\n",
      "[15]\teval-error:0.111847\ttrain-error:0.077917\n",
      "[16]\teval-error:0.093819\ttrain-error:0.076251\n",
      "[17]\teval-error:0.085743\ttrain-error:0.071836\n",
      "[18]\teval-error:0.086334\ttrain-error:0.070564\n",
      "[19]\teval-error:0.071068\ttrain-error:0.06828\n",
      "[20]\teval-error:0.068385\ttrain-error:0.06397\n",
      "[21]\teval-error:0.069298\ttrain-error:0.063439\n",
      "[22]\teval-error:0.044455\ttrain-error:0.059979\n",
      "[23]\teval-error:0.036057\ttrain-error:0.055064\n",
      "[24]\teval-error:0.042013\ttrain-error:0.052637\n",
      "[25]\teval-error:0.04086\ttrain-error:0.052225\n",
      "[26]\teval-error:0.039491\ttrain-error:0.051182\n",
      "[27]\teval-error:0.037828\ttrain-error:0.050115\n",
      "[28]\teval-error:0.036916\ttrain-error:0.049238\n",
      "[29]\teval-error:0.036916\ttrain-error:0.048626\n",
      "[30]\teval-error:0.037157\ttrain-error:0.048129\n",
      "[31]\teval-error:0.031416\ttrain-error:0.044543\n",
      "[32]\teval-error:0.03104\ttrain-error:0.042497\n",
      "[33]\teval-error:0.030692\ttrain-error:0.042375\n",
      "[34]\teval-error:0.031148\ttrain-error:0.04109\n",
      "[35]\teval-error:0.033133\ttrain-error:0.041698\n",
      "[36]\teval-error:0.028331\ttrain-error:0.038221\n",
      "[37]\teval-error:0.028223\ttrain-error:0.037687\n",
      "[38]\teval-error:0.026614\ttrain-error:0.037619\n",
      "[39]\teval-error:0.023502\ttrain-error:0.035379\n",
      "[40]\teval-error:0.023367\ttrain-error:0.03459\n",
      "[41]\teval-error:0.022348\ttrain-error:0.033598\n",
      "[42]\teval-error:0.022455\ttrain-error:0.033268\n",
      "[43]\teval-error:0.023072\ttrain-error:0.033234\n",
      "[44]\teval-error:0.021731\ttrain-error:0.032072\n",
      "[45]\teval-error:0.021516\ttrain-error:0.031878\n",
      "[46]\teval-error:0.021382\ttrain-error:0.031449\n",
      "[47]\teval-error:0.020631\ttrain-error:0.029903\n",
      "[48]\teval-error:0.020202\ttrain-error:0.02923\n",
      "[49]\teval-error:0.020121\ttrain-error:0.029039\n",
      "[50]\teval-error:0.020014\ttrain-error:0.028264\n",
      "[51]\teval-error:0.019102\ttrain-error:0.027442\n",
      "[52]\teval-error:0.018834\ttrain-error:0.026317\n",
      "[53]\teval-error:0.018753\ttrain-error:0.02581\n",
      "[54]\teval-error:0.019102\ttrain-error:0.025562\n",
      "[55]\teval-error:0.019155\ttrain-error:0.02546\n",
      "[56]\teval-error:0.019129\ttrain-error:0.025239\n",
      "[57]\teval-error:0.019129\ttrain-error:0.025158\n",
      "[58]\teval-error:0.019155\ttrain-error:0.024998\n",
      "[59]\teval-error:0.019129\ttrain-error:0.024835\n",
      "[60]\teval-error:0.019075\ttrain-error:0.024593\n",
      "[61]\teval-error:0.018914\ttrain-error:0.02406\n",
      "[62]\teval-error:0.018914\ttrain-error:0.024005\n",
      "[63]\teval-error:0.018914\ttrain-error:0.023964\n",
      "[64]\teval-error:0.018834\ttrain-error:0.02389\n",
      "[65]\teval-error:0.019021\ttrain-error:0.024026\n",
      "[66]\teval-error:0.019048\ttrain-error:0.023958\n",
      "[67]\teval-error:0.018968\ttrain-error:0.023958\n",
      "[68]\teval-error:0.018941\ttrain-error:0.023407\n",
      "[69]\teval-error:0.018753\ttrain-error:0.023305\n",
      "[70]\teval-error:0.018673\ttrain-error:0.022778\n",
      "[71]\teval-error:0.018565\ttrain-error:0.022241\n",
      "[72]\teval-error:0.018592\ttrain-error:0.022023\n",
      "[73]\teval-error:0.014809\ttrain-error:0.020647\n",
      "[74]\teval-error:0.014863\ttrain-error:0.020633\n",
      "[75]\teval-error:0.014836\ttrain-error:0.020297\n",
      "[76]\teval-error:0.01497\ttrain-error:0.020399\n",
      "[77]\teval-error:0.014756\ttrain-error:0.020178\n",
      "[78]\teval-error:0.014782\ttrain-error:0.019872\n",
      "[79]\teval-error:0.014756\ttrain-error:0.019916\n",
      "[80]\teval-error:0.014782\ttrain-error:0.019851\n",
      "[81]\teval-error:0.014729\ttrain-error:0.01977\n",
      "[82]\teval-error:0.01489\ttrain-error:0.01977\n",
      "[83]\teval-error:0.014782\ttrain-error:0.019715\n",
      "[84]\teval-error:0.014782\ttrain-error:0.019702\n",
      "[85]\teval-error:0.014782\ttrain-error:0.019627\n",
      "[86]\teval-error:0.014675\ttrain-error:0.019586\n",
      "[87]\teval-error:0.014756\ttrain-error:0.019535\n",
      "[88]\teval-error:0.014729\ttrain-error:0.019155\n",
      "[89]\teval-error:0.014648\ttrain-error:0.01858\n",
      "[90]\teval-error:0.014729\ttrain-error:0.018546\n",
      "[91]\teval-error:0.014836\ttrain-error:0.018624\n",
      "[92]\teval-error:0.014836\ttrain-error:0.018495\n",
      "[93]\teval-error:0.014756\ttrain-error:0.018335\n",
      "[94]\teval-error:0.014809\ttrain-error:0.018359\n",
      "[95]\teval-error:0.014809\ttrain-error:0.018315\n",
      "[96]\teval-error:0.014863\ttrain-error:0.018257\n",
      "[97]\teval-error:0.01489\ttrain-error:0.01825\n",
      "[98]\teval-error:0.014863\ttrain-error:0.017948\n",
      "[99]\teval-error:0.014836\ttrain-error:0.017904\n",
      "[100]\teval-error:0.014836\ttrain-error:0.017805\n",
      "[101]\teval-error:0.014836\ttrain-error:0.017723\n",
      "[102]\teval-error:0.014917\ttrain-error:0.017649\n",
      "[103]\teval-error:0.014917\ttrain-error:0.017639\n",
      "[104]\teval-error:0.01489\ttrain-error:0.017655\n",
      "[105]\teval-error:0.01489\ttrain-error:0.017533\n",
      "[106]\teval-error:0.01489\ttrain-error:0.017428\n",
      "[107]\teval-error:0.014756\ttrain-error:0.017186\n",
      "[108]\teval-error:0.014756\ttrain-error:0.017176\n",
      "[109]\teval-error:0.014729\ttrain-error:0.017125\n",
      "[110]\teval-error:0.014702\ttrain-error:0.017166\n",
      "[111]\teval-error:0.014729\ttrain-error:0.017037\n",
      "[112]\teval-error:0.014729\ttrain-error:0.017044\n",
      "[113]\teval-error:0.014729\ttrain-error:0.01705\n",
      "[114]\teval-error:0.014675\ttrain-error:0.016959\n",
      "[115]\teval-error:0.014675\ttrain-error:0.016833\n",
      "[116]\teval-error:0.014648\ttrain-error:0.016874\n",
      "[117]\teval-error:0.014648\ttrain-error:0.016785\n",
      "[118]\teval-error:0.014621\ttrain-error:0.016738\n",
      "[119]\teval-error:0.014568\ttrain-error:0.01668\n",
      "[120]\teval-error:0.01446\ttrain-error:0.016534\n",
      "[121]\teval-error:0.014487\ttrain-error:0.016517\n",
      "[122]\teval-error:0.014514\ttrain-error:0.016428\n",
      "[123]\teval-error:0.014514\ttrain-error:0.016442\n",
      "[124]\teval-error:0.014487\ttrain-error:0.016388\n",
      "[125]\teval-error:0.014487\ttrain-error:0.016384\n",
      "[126]\teval-error:0.014514\ttrain-error:0.016391\n",
      "[127]\teval-error:0.014514\ttrain-error:0.016371\n",
      "[128]\teval-error:0.014514\ttrain-error:0.016343\n",
      "[129]\teval-error:0.01446\ttrain-error:0.016221\n",
      "[130]\teval-error:0.014273\ttrain-error:0.016143\n",
      "[131]\teval-error:0.014246\ttrain-error:0.016003\n",
      "[132]\teval-error:0.014219\ttrain-error:0.015973\n",
      "[133]\teval-error:0.014219\ttrain-error:0.015969\n",
      "[134]\teval-error:0.014192\ttrain-error:0.015694\n",
      "[135]\teval-error:0.014219\ttrain-error:0.015704\n",
      "[136]\teval-error:0.014219\ttrain-error:0.015667\n",
      "[137]\teval-error:0.014192\ttrain-error:0.015609\n",
      "[138]\teval-error:0.014112\ttrain-error:0.015385\n",
      "[139]\teval-error:0.014112\ttrain-error:0.015232\n",
      "[140]\teval-error:0.014085\ttrain-error:0.015167\n",
      "[141]\teval-error:0.014058\ttrain-error:0.015096\n",
      "[142]\teval-error:0.014112\ttrain-error:0.015137\n",
      "[143]\teval-error:0.014058\ttrain-error:0.015154\n",
      "[144]\teval-error:0.014058\ttrain-error:0.015242\n",
      "[145]\teval-error:0.013951\ttrain-error:0.015184\n",
      "[146]\teval-error:0.013978\ttrain-error:0.015106\n",
      "[147]\teval-error:0.013978\ttrain-error:0.01494\n",
      "[148]\teval-error:0.014004\ttrain-error:0.014827\n",
      "[149]\teval-error:0.014004\ttrain-error:0.014722\n",
      "[150]\teval-error:0.014031\ttrain-error:0.014698\n",
      "[151]\teval-error:0.014058\ttrain-error:0.014725\n",
      "[152]\teval-error:0.014085\ttrain-error:0.014705\n",
      "[153]\teval-error:0.014085\ttrain-error:0.014695\n",
      "[154]\teval-error:0.014085\ttrain-error:0.014572\n",
      "[155]\teval-error:0.014085\ttrain-error:0.01445\n",
      "[156]\teval-error:0.014058\ttrain-error:0.014399\n",
      "[157]\teval-error:0.014112\ttrain-error:0.014382\n",
      "[158]\teval-error:0.014112\ttrain-error:0.014324\n",
      "[159]\teval-error:0.014112\ttrain-error:0.014321\n",
      "[160]\teval-error:0.014139\ttrain-error:0.014324\n",
      "[161]\teval-error:0.014139\ttrain-error:0.014321\n",
      "[162]\teval-error:0.014139\ttrain-error:0.014294\n",
      "[163]\teval-error:0.013978\ttrain-error:0.014141\n",
      "[164]\teval-error:0.014004\ttrain-error:0.014107\n",
      "[165]\teval-error:0.014004\ttrain-error:0.014131\n",
      "[166]\teval-error:0.014004\ttrain-error:0.014131\n",
      "[167]\teval-error:0.014058\ttrain-error:0.014103\n",
      "[168]\teval-error:0.013951\ttrain-error:0.014097\n",
      "[169]\teval-error:0.013978\ttrain-error:0.014148\n",
      "[170]\teval-error:0.013924\ttrain-error:0.014066\n",
      "[171]\teval-error:0.013951\ttrain-error:0.014005\n",
      "[172]\teval-error:0.014004\ttrain-error:0.013923\n",
      "[173]\teval-error:0.013978\ttrain-error:0.013869\n",
      "[174]\teval-error:0.014004\ttrain-error:0.013869\n"
     ]
    },
    {
     "name": "stdout",
     "output_type": "stream",
     "text": [
      "[175]\teval-error:0.014004\ttrain-error:0.01376\n",
      "[176]\teval-error:0.014004\ttrain-error:0.013699\n",
      "[177]\teval-error:0.014031\ttrain-error:0.013627\n",
      "[178]\teval-error:0.014004\ttrain-error:0.013648\n",
      "[179]\teval-error:0.014004\ttrain-error:0.013546\n",
      "[180]\teval-error:0.014004\ttrain-error:0.013495\n",
      "[181]\teval-error:0.013978\ttrain-error:0.01342\n",
      "[182]\teval-error:0.013978\ttrain-error:0.013369\n",
      "[183]\teval-error:0.013978\ttrain-error:0.013349\n",
      "[184]\teval-error:0.014004\ttrain-error:0.013352\n",
      "[185]\teval-error:0.013978\ttrain-error:0.013311\n",
      "[186]\teval-error:0.013978\ttrain-error:0.013308\n",
      "[187]\teval-error:0.013978\ttrain-error:0.013308\n",
      "[188]\teval-error:0.013978\ttrain-error:0.013257\n",
      "[189]\teval-error:0.013978\ttrain-error:0.013233\n",
      "[190]\teval-error:0.013978\ttrain-error:0.013209\n",
      "[191]\teval-error:0.013978\ttrain-error:0.013199\n",
      "[192]\teval-error:0.013951\ttrain-error:0.013196\n",
      "[193]\teval-error:0.013951\ttrain-error:0.013158\n",
      "[194]\teval-error:0.014004\ttrain-error:0.013182\n",
      "[195]\teval-error:0.014004\ttrain-error:0.013182\n",
      "[196]\teval-error:0.014004\ttrain-error:0.013196\n",
      "[197]\teval-error:0.014004\ttrain-error:0.013179\n",
      "[198]\teval-error:0.014004\ttrain-error:0.013169\n",
      "[199]\teval-error:0.014004\ttrain-error:0.013111\n"
     ]
    }
   ],
   "source": [
    "param = {'max_depth':2\n",
    "         , 'eta':0.25\n",
    "         , 'gamma' : 0.5\n",
    "         , 'silent':1\n",
    "         , 'subsample' : 0.9\n",
    "         , 'colsample_bytree' : 0.67\n",
    "         , 'objective':'binary:logistic'\n",
    "         , 'eval_metric' : 'error'}\n",
    "\n",
    "watchlist = [(dval, 'eval'), (dtrain, 'train')]\n",
    "num_round = 200\n",
    "\n",
    "eta_list = [0.5] * 200\n",
    "\n",
    "bst = xgb.train(param, dtrain2, num_round, watchlist, early_stopping_rounds = 10,learning_rates=eta_list)"
   ]
  },
  {
   "cell_type": "code",
   "execution_count": 104,
   "metadata": {},
   "outputs": [],
   "source": [
    "bst.save_model('200_rounds_withOverSampling')\n",
    "\n",
    "bst2 = xgb.Booster(model_file='200_rounds_withOverSampling')"
   ]
  },
  {
   "cell_type": "code",
   "execution_count": 105,
   "metadata": {},
   "outputs": [
    {
     "name": "stdout",
     "output_type": "stream",
     "text": [
      "[[36779     0]\n",
      " [  495     0]]\n"
     ]
    }
   ],
   "source": [
    "from sklearn.metrics import accuracy_score,confusion_matrix\n",
    "\n",
    "print(confusion_matrix(val[:,-1:],bst2.predict(dval).astype(int)))"
   ]
  },
  {
   "cell_type": "code",
   "execution_count": 106,
   "metadata": {},
   "outputs": [
    {
     "name": "stdout",
     "output_type": "stream",
     "text": [
      "[[147093      0]\n",
      " [140012   7081]]\n"
     ]
    }
   ],
   "source": [
    "print(confusion_matrix(train_target_res,bst2.predict(dtrain2).astype(int)))"
   ]
  },
  {
   "cell_type": "code",
   "execution_count": 107,
   "metadata": {},
   "outputs": [
    {
     "data": {
      "text/plain": [
       "0.5240698061770445"
      ]
     },
     "execution_count": 107,
     "metadata": {},
     "output_type": "execute_result"
    }
   ],
   "source": [
    "accuracy_score(train_target_res,bst2.predict(dtrain).astype(int))"
   ]
  },
  {
   "cell_type": "code",
   "execution_count": 108,
   "metadata": {},
   "outputs": [
    {
     "data": {
      "text/plain": [
       "0.01328003434029082"
      ]
     },
     "execution_count": 108,
     "metadata": {},
     "output_type": "execute_result"
    }
   ],
   "source": [
    "495/(36779+495)"
   ]
  },
  {
   "cell_type": "code",
   "execution_count": null,
   "metadata": {},
   "outputs": [],
   "source": []
  }
 ],
 "metadata": {
  "kernelspec": {
   "display_name": "Python 3",
   "language": "python",
   "name": "python3"
  },
  "language_info": {
   "codemirror_mode": {
    "name": "ipython",
    "version": 3
   },
   "file_extension": ".py",
   "mimetype": "text/x-python",
   "name": "python",
   "nbconvert_exporter": "python",
   "pygments_lexer": "ipython3",
   "version": "3.6.5"
  },
  "toc": {
   "nav_menu": {},
   "number_sections": true,
   "sideBar": true,
   "skip_h1_title": false,
   "title_cell": "Table of Contents",
   "title_sidebar": "Contents",
   "toc_cell": false,
   "toc_position": {},
   "toc_section_display": true,
   "toc_window_display": true
  }
 },
 "nbformat": 4,
 "nbformat_minor": 2
}
