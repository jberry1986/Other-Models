{
 "cells": [
  {
   "cell_type": "code",
   "execution_count": 21,
   "metadata": {},
   "outputs": [],
   "source": [
    "import simplejson as json\n",
    "import hashlib"
   ]
  },
  {
   "cell_type": "code",
   "execution_count": 46,
   "metadata": {},
   "outputs": [],
   "source": [
    "def hash_function(k):\n",
    "    \"\"\"Hashes our transaction.\"\"\"\n",
    "    if type(k) is not str:\n",
    "        k = json.dumps(k, sort_keys=True)\n",
    "        \n",
    "    hobj = hashlib.sha256()\n",
    "    hobj.update(k.encode(\"UTF-8\"))\n",
    "\n",
    "    return hobj.hexdigest()"
   ]
  },
  {
   "cell_type": "code",
   "execution_count": 48,
   "metadata": {},
   "outputs": [],
   "source": [
    "genesis_block = {\n",
    "    'hash': hash_function({\n",
    "        'block_number': 0,\n",
    "        'parent_hash': None,\n",
    "        'transaction_count': 1,\n",
    "        'transaction': [{'Tom': 10}]\n",
    "    }),\n",
    "    'contents': {\n",
    "        'block_number': 0,\n",
    "        'parent_hash': None,\n",
    "        'transaction_count': 1,\n",
    "        'transaction': [{'Tom': 10}]\n",
    "    },\n",
    "}\n",
    "\n",
    "block_chain = [genesis_block]\n",
    "chain_state = {'Tom': 10}"
   ]
  },
  {
   "cell_type": "code",
   "execution_count": 56,
   "metadata": {},
   "outputs": [],
   "source": [
    "chain_state, block_chain = \\\n",
    "    add_transaction_to_chain(transaction={'Tom': -1, 'Medium': 1}, state=chain_state, chain=block_chain)"
   ]
  },
  {
   "cell_type": "code",
   "execution_count": 57,
   "metadata": {},
   "outputs": [
    {
     "data": {
      "text/plain": [
       "({'Medium': 2, 'Tom': 8},\n",
       " [{'contents': {'block_number': 0,\n",
       "    'parent_hash': None,\n",
       "    'transaction': [{'Tom': 10}],\n",
       "    'transaction_count': 1},\n",
       "   'hash': '064d0b480b3b92761f31831d30ae9f01954efaa62371b4b44f11465ec22abe93'},\n",
       "  {'contents': {'block_number': 1,\n",
       "    'parent_hash': '064d0b480b3b92761f31831d30ae9f01954efaa62371b4b44f11465ec22abe93',\n",
       "    'transaction': {'Medium': 1, 'Tom': 9},\n",
       "    'transaction_count': 2},\n",
       "   'hash': 'b4ae25f0cc0ee0b0caa66b9a3473e9a108652d53b1dc22a40962fef5c8c0f08c'},\n",
       "  {'contents': {'block_number': 2,\n",
       "    'parent_hash': 'b4ae25f0cc0ee0b0caa66b9a3473e9a108652d53b1dc22a40962fef5c8c0f08c',\n",
       "    'transaction': {'Medium': 2, 'Tom': 8},\n",
       "    'transaction_count': 3},\n",
       "   'hash': 'afd3bd0c1bb715ad38e2680a2e8dc64e0b8e7b251cd47e4e5b619e2536585fb5'}])"
      ]
     },
     "execution_count": 57,
     "metadata": {},
     "output_type": "execute_result"
    }
   ],
   "source": [
    "chain_state,block_chain"
   ]
  },
  {
   "cell_type": "code",
   "execution_count": 34,
   "metadata": {},
   "outputs": [],
   "source": [
    "def update_state(transaction, state):\n",
    "    state = state.copy()\n",
    "\n",
    "    for key in transaction:\n",
    "        if key in state.keys():\n",
    "            state[key] += transaction[key]\n",
    "        else:\n",
    "            state[key] = transaction[key]\n",
    "\n",
    "    return state"
   ]
  },
  {
   "cell_type": "code",
   "execution_count": 35,
   "metadata": {},
   "outputs": [],
   "source": [
    "def valid_transaction(transaction, state):\n",
    "    \"\"\"A valid transaction must sum to 0.\"\"\"\n",
    "    if sum(transaction.values()) is not 0:\n",
    "        return False\n",
    "\n",
    "    for key in transaction.keys():\n",
    "        if key in state.keys():\n",
    "            account_balance = state[key]\n",
    "        else:\n",
    "            account_balance = 0\n",
    "\n",
    "        if account_balance + transaction[key] < 0:\n",
    "            return False\n",
    "\n",
    "    return True"
   ]
  },
  {
   "cell_type": "code",
   "execution_count": 36,
   "metadata": {},
   "outputs": [],
   "source": [
    "def make_block(transactions, chain):\n",
    "    \"\"\"Make a block to go into the chain.\"\"\"\n",
    "    parent_hash = chain[-1]['hash']\n",
    "    block_number = chain[-1]['contents']['block_number'] + 1\n",
    "\n",
    "    block_contents = {\n",
    "        'block_number': block_number,\n",
    "        'parent_hash': parent_hash,\n",
    "        'transaction_count': block_number + 1,\n",
    "        'transaction': transactions\n",
    "    }\n",
    "\n",
    "    return {'hash': hash_function(block_contents), 'contents': block_contents}"
   ]
  },
  {
   "cell_type": "code",
   "execution_count": 37,
   "metadata": {},
   "outputs": [],
   "source": [
    "def check_block_hash(block):\n",
    "    expected_hash = hash_function(block['contents'])\n",
    "\n",
    "    if block['hash'] is not expected_hash:\n",
    "        raise\n",
    "\n",
    "    return"
   ]
  },
  {
   "cell_type": "code",
   "execution_count": 38,
   "metadata": {},
   "outputs": [],
   "source": [
    "def check_block_validity(block, parent, state):\n",
    "    parent_number = parent['contents']['block_number']\n",
    "    parent_hash = parent['hash']\n",
    "    block_number = block['contents']['block_number']\n",
    "\n",
    "    for transaction in block['contents']['transaction']:\n",
    "        if valid_transaction(transaction, state):\n",
    "            state = update_state(transaction, state)\n",
    "        else:\n",
    "            raise\n",
    "\n",
    "    check_block_hash(block)  # Check hash integrity\n",
    "\n",
    "    if block_number is not parent_number + 1:\n",
    "        raise\n",
    "\n",
    "    if block['contents']['parent_hash'] is not parent_hash:\n",
    "        raise\n",
    "\n",
    "    return state"
   ]
  },
  {
   "cell_type": "code",
   "execution_count": 39,
   "metadata": {},
   "outputs": [],
   "source": [
    "def check_chain(chain):\n",
    "    \"\"\"Check the chain is valid.\"\"\"\n",
    "    if type(chain) is str:\n",
    "        try:\n",
    "            chain = json.loads(chain)\n",
    "            assert (type(chain) == list)\n",
    "        except ValueError:\n",
    "            # String passed in was not valid JSON\n",
    "            return False\n",
    "    elif type(chain) is not list:\n",
    "        return False\n",
    "\n",
    "    state = {}\n",
    "\n",
    "    for transaction in chain[0]['contents']['transaction']:\n",
    "        state = update_state(transaction, state)\n",
    "\n",
    "    check_block_hash(chain[0])\n",
    "    parent = chain[0]\n",
    "\n",
    "    for block in chain[1:]:\n",
    "        state = check_block_validity(block, parent, state)\n",
    "        parent = block\n",
    "\n",
    "    return state"
   ]
  },
  {
   "cell_type": "code",
   "execution_count": 40,
   "metadata": {},
   "outputs": [],
   "source": [
    "def add_transaction_to_chain(transaction, state, chain):\n",
    "    if valid_transaction(transaction, state):\n",
    "        state = update_state(transaction, state)\n",
    "    else:\n",
    "        raise Exception('Invalid transaction.')\n",
    "\n",
    "    my_block = make_block(state, chain)\n",
    "    chain.append(my_block)\n",
    "\n",
    "    for transaction in chain:\n",
    "        check_chain(transaction)\n",
    "\n",
    "    return state, chain"
   ]
  },
  {
   "cell_type": "code",
   "execution_count": null,
   "metadata": {},
   "outputs": [],
   "source": []
  },
  {
   "cell_type": "code",
   "execution_count": null,
   "metadata": {},
   "outputs": [],
   "source": []
  }
 ],
 "metadata": {
  "anaconda-cloud": {},
  "kernelspec": {
   "display_name": "Python [Anaconda3]",
   "language": "python",
   "name": "Python [Anaconda3]"
  },
  "language_info": {
   "codemirror_mode": {
    "name": "ipython",
    "version": 3
   },
   "file_extension": ".py",
   "mimetype": "text/x-python",
   "name": "python",
   "nbconvert_exporter": "python",
   "pygments_lexer": "ipython3",
   "version": "3.5.2"
  },
  "toc": {
   "nav_menu": {},
   "number_sections": true,
   "sideBar": true,
   "skip_h1_title": false,
   "title_cell": "Table of Contents",
   "title_sidebar": "Contents",
   "toc_cell": false,
   "toc_position": {},
   "toc_section_display": true,
   "toc_window_display": false
  }
 },
 "nbformat": 4,
 "nbformat_minor": 1
}
