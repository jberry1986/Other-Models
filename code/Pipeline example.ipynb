{
 "cells": [
  {
   "cell_type": "code",
   "execution_count": 2,
   "metadata": {},
   "outputs": [
    {
     "name": "stdout",
     "output_type": "stream",
     "text": [
      "Loading training data\n",
      "Headers: ['sepal length (cm)', 'sepal width (cm)', 'petal length (cm)', 'petal width (cm)']\n",
      "Training Model\n",
      "Test Set Model Accuracy\n",
      "1.0\n",
      "{'scalar__copy': True, 'classifier__class_weight': None, 'classifier__coef0': 0.0, 'memory': None, 'scalar__with_mean': True, 'steps': [('scalar', StandardScaler(copy=True, with_mean=True, with_std=True)), ('classifier', SVC(C=10000.0, cache_size=200, class_weight=None, coef0=0.0,\n",
      "  decision_function_shape='ovr', degree=3, gamma=0.001, kernel='rbf',\n",
      "  max_iter=-1, probability=False, random_state=None, shrinking=True,\n",
      "  tol=0.001, verbose=False))], 'classifier__gamma': 0.001, 'classifier__max_iter': -1, 'scalar': StandardScaler(copy=True, with_mean=True, with_std=True), 'classifier__cache_size': 200, 'classifier__random_state': None, 'classifier__shrinking': True, 'classifier__kernel': 'rbf', 'scalar__with_std': True, 'classifier__verbose': False, 'classifier__probability': False, 'classifier__decision_function_shape': 'ovr', 'classifier': SVC(C=10000.0, cache_size=200, class_weight=None, coef0=0.0,\n",
      "  decision_function_shape='ovr', degree=3, gamma=0.001, kernel='rbf',\n",
      "  max_iter=-1, probability=False, random_state=None, shrinking=True,\n",
      "  tol=0.001, verbose=False), 'classifier__C': 10000.0, 'classifier__degree': 3, 'classifier__tol': 0.001}\n"
     ]
    }
   ],
   "source": [
    "import pandas as pd\n",
    "import numpy as np\n",
    "from sklearn import metrics,svm, pipeline, preprocessing, datasets\n",
    "from sklearn.model_selection import train_test_split, KFold, GridSearchCV\n",
    "from sklearn.pipeline import Pipeline\n",
    "from sklearn.externals import joblib\n",
    " \n",
    " \n",
    "def get_trained_model(model_data):\n",
    "    X_train, X_test, y_train, y_test = train_test_split(\n",
    "                                           model_data.data, model_data.target,\n",
    "                                           test_size=0.2)\n",
    "    scalar = preprocessing.StandardScaler()\n",
    "    clf = svm.SVC()\n",
    " \n",
    "    pipeline = Pipeline([(\"scalar\", scalar), (\"classifier\", clf)])\n",
    " \n",
    "    kf = KFold(n_splits=5)\n",
    " \n",
    "    param_grid = {\"classifier__C\": np.logspace(-4,4,9),\n",
    "                  \"classifier__gamma\": np.logspace(-4,4,9)}\n",
    " \n",
    "    gs = GridSearchCV(pipeline, param_grid, scoring=\"accuracy\", cv=kf)\n",
    " \n",
    "    gs.fit(X_train, y_train)\n",
    " \n",
    "    test_accuracy = metrics.accuracy_score(gs.predict(X_test), y_test)\n",
    " \n",
    "    return gs.best_estimator_ , test_accuracy\n",
    " \n",
    " \n",
    "if __name__ == \"__main__\":\n",
    "    print(\"Loading training data\")\n",
    "    iris_data = datasets.load_iris()\n",
    "    print(\"Headers: {}\".format(iris_data.feature_names))\n",
    "    print(\"Training Model\")\n",
    "    trained_model, accuracy =  get_trained_model(iris_data)\n",
    "    print(\"Test Set Model Accuracy\")\n",
    "    print(accuracy)\n",
    "    joblib.dump(trained_model, \"iris_model.pkl\", compress=True)\n",
    "    print(trained_model.get_params())"
   ]
  },
  {
   "cell_type": "code",
   "execution_count": null,
   "metadata": {},
   "outputs": [],
   "source": []
  }
 ],
 "metadata": {
  "anaconda-cloud": {},
  "kernelspec": {
   "display_name": "Python [Anaconda3]",
   "language": "python",
   "name": "Python [Anaconda3]"
  },
  "language_info": {
   "codemirror_mode": {
    "name": "ipython",
    "version": 3
   },
   "file_extension": ".py",
   "mimetype": "text/x-python",
   "name": "python",
   "nbconvert_exporter": "python",
   "pygments_lexer": "ipython3",
   "version": "3.5.2"
  },
  "toc": {
   "nav_menu": {},
   "number_sections": true,
   "sideBar": true,
   "skip_h1_title": false,
   "title_cell": "Table of Contents",
   "title_sidebar": "Contents",
   "toc_cell": false,
   "toc_position": {},
   "toc_section_display": true,
   "toc_window_display": false
  }
 },
 "nbformat": 4,
 "nbformat_minor": 1
}
