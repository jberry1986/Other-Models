{
 "cells": [
  {
   "cell_type": "code",
   "execution_count": 1,
   "metadata": {
    "collapsed": true
   },
   "outputs": [],
   "source": [
    "import pandas as pd\n",
    "import numpy as np"
   ]
  },
  {
   "cell_type": "code",
   "execution_count": 2,
   "metadata": {
    "collapsed": true
   },
   "outputs": [],
   "source": [
    "train = pd.read_csv('../input/train_houseprices.csv')\n",
    "test= pd.read_csv('../input/test_houseprices.csv')"
   ]
  },
  {
   "cell_type": "code",
   "execution_count": 3,
   "metadata": {
    "collapsed": false
   },
   "outputs": [
    {
     "name": "stdout",
     "output_type": "stream",
     "text": [
      "(1460, 81)\n",
      "(1459, 80)\n"
     ]
    }
   ],
   "source": [
    "print(train.shape)\n",
    "print(test.shape)"
   ]
  },
  {
   "cell_type": "code",
   "execution_count": 4,
   "metadata": {
    "collapsed": false
   },
   "outputs": [],
   "source": [
    "#append the two files together\n",
    "all_data = pd.concat((train.loc[:,'MSSubClass':'SaleCondition'],\n",
    "                      test.loc[:,'MSSubClass':'SaleCondition']))"
   ]
  },
  {
   "cell_type": "code",
   "execution_count": 5,
   "metadata": {
    "collapsed": false
   },
   "outputs": [
    {
     "data": {
      "text/plain": [
       "LotFrontage     486\n",
       "GarageYrBlt     159\n",
       "MasVnrArea       23\n",
       "BsmtHalfBath      2\n",
       "BsmtFullBath      2\n",
       "GarageArea        1\n",
       "BsmtFinSF1        1\n",
       "BsmtFinSF2        1\n",
       "BsmtUnfSF         1\n",
       "TotalBsmtSF       1\n",
       "dtype: int64"
      ]
     },
     "execution_count": 5,
     "metadata": {},
     "output_type": "execute_result"
    }
   ],
   "source": [
    "#have a look and see which are the features with nulls\n",
    "numeric_feats_ix = all_data.dtypes[all_data.dtypes != \"object\"].index\n",
    "numeric_feats = all_data[numeric_feats_ix]\n",
    "numeric_feats.isnull().sum().sort_values(ascending = False).head(10)"
   ]
  },
  {
   "cell_type": "code",
   "execution_count": 6,
   "metadata": {
    "collapsed": true
   },
   "outputs": [],
   "source": [
    "#could use a predictive model for LotFrontage but that is way too complicated!\n",
    "#just replace with mean\n",
    "#get dummies for the discrete features\n",
    "#look more at feature selection later\n",
    "\n",
    "all_data = all_data.fillna(all_data.mean())\n",
    "all_data = pd.get_dummies(all_data)"
   ]
  },
  {
   "cell_type": "code",
   "execution_count": 7,
   "metadata": {
    "collapsed": true
   },
   "outputs": [],
   "source": [
    "#log the target\n",
    "train['SalePrice'] = np.log1p(train['SalePrice'])"
   ]
  },
  {
   "cell_type": "code",
   "execution_count": 8,
   "metadata": {
    "collapsed": true
   },
   "outputs": [],
   "source": [
    "from sklearn.linear_model import LinearRegression, Ridge, Lasso\n",
    "from sklearn.svm import LinearSVR, SVR\n",
    "from sklearn.metrics import r2_score, mean_squared_error\n",
    "from sklearn.preprocessing import StandardScaler\n",
    "from sklearn.model_selection import cross_val_score, KFold"
   ]
  },
  {
   "cell_type": "code",
   "execution_count": 9,
   "metadata": {
    "collapsed": false
   },
   "outputs": [],
   "source": [
    "X_train = all_data[:train.shape[0]]\n",
    "X_test = all_data[train.shape[0]:]\n",
    "y = train.SalePrice"
   ]
  },
  {
   "cell_type": "code",
   "execution_count": 10,
   "metadata": {
    "collapsed": false
   },
   "outputs": [],
   "source": [
    "def rmse_cv(model):\n",
    "    rmse= np.sqrt(-cross_val_score(model, X_train, y, scoring=\"neg_mean_squared_error\", cv = 5))\n",
    "    return(rmse)"
   ]
  },
  {
   "cell_type": "code",
   "execution_count": 11,
   "metadata": {
    "collapsed": false
   },
   "outputs": [
    {
     "name": "stdout",
     "output_type": "stream",
     "text": [
      "[ 0.13884313  0.16644603  0.16937877  0.11088197  0.20005448]\n"
     ]
    },
    {
     "data": {
      "text/plain": [
       "0.15712087765357144"
      ]
     },
     "execution_count": 11,
     "metadata": {},
     "output_type": "execute_result"
    }
   ],
   "source": [
    "linear = LinearRegression()\n",
    "\n",
    "print(rmse_cv(linear))\n",
    "np.mean(rmse_cv(linear))"
   ]
  },
  {
   "cell_type": "code",
   "execution_count": 12,
   "metadata": {
    "collapsed": false
   },
   "outputs": [
    {
     "name": "stdout",
     "output_type": "stream",
     "text": [
      "[ 0.40439225  0.51818198  0.16379671  0.1872586   0.3519267 ]\n"
     ]
    },
    {
     "data": {
      "text/plain": [
       "0.22870010872278615"
      ]
     },
     "execution_count": 12,
     "metadata": {},
     "output_type": "execute_result"
    }
   ],
   "source": [
    "svmlinear = LinearSVR()\n",
    "\n",
    "print(rmse_cv(svmlinear))\n",
    "np.mean(rmse_cv(svmlinear))"
   ]
  },
  {
   "cell_type": "code",
   "execution_count": 13,
   "metadata": {
    "collapsed": false
   },
   "outputs": [
    {
     "name": "stdout",
     "output_type": "stream",
     "text": [
      "[ 0.12049647  0.15443951  0.14303145  0.11682595  0.18935375]\n"
     ]
    },
    {
     "data": {
      "text/plain": [
       "0.14482942756188194"
      ]
     },
     "execution_count": 13,
     "metadata": {},
     "output_type": "execute_result"
    }
   ],
   "source": [
    "ridge = Ridge()\n",
    "\n",
    "print(rmse_cv(ridge))\n",
    "np.mean(rmse_cv(ridge))"
   ]
  },
  {
   "cell_type": "code",
   "execution_count": 14,
   "metadata": {
    "collapsed": false
   },
   "outputs": [
    {
     "name": "stdout",
     "output_type": "stream",
     "text": [
      "[ 0.16077516  0.20437131  0.17676701  0.1812766   0.2651208 ]\n"
     ]
    },
    {
     "data": {
      "text/plain": [
       "0.19766217639629496"
      ]
     },
     "execution_count": 14,
     "metadata": {},
     "output_type": "execute_result"
    }
   ],
   "source": [
    "lasso = Lasso()\n",
    "\n",
    "print(rmse_cv(lasso))\n",
    "np.mean(rmse_cv(lasso))"
   ]
  },
  {
   "cell_type": "code",
   "execution_count": 15,
   "metadata": {
    "collapsed": false
   },
   "outputs": [],
   "source": [
    "ridge.fit(X_train,y)\n",
    "y_pred = np.expm1(ridge.predict(X_test))\n",
    "my_solution = pd.DataFrame(y_pred, test['Id'], columns = [\"SalePrice\"])\n",
    "my_solution.to_csv(\"my_solution.csv\", index_label = [\"Id\"])"
   ]
  },
  {
   "cell_type": "code",
   "execution_count": 16,
   "metadata": {
    "collapsed": false
   },
   "outputs": [],
   "source": [
    "from scipy.stats import kurtosis, skew, norm, kurtosistest\n",
    "from scipy import stats\n",
    "\n",
    "skewed_feats = train[numeric_feats_ix].apply(lambda x: skew(x.dropna())).sort_values(ascending = False)\n",
    "skewed_feats = skewed_feats[skewed_feats > 0.75]\n",
    "skewed_feats = skewed_feats.index\n",
    "all_data[skewed_feats] = np.log1p(all_data[skewed_feats])"
   ]
  },
  {
   "cell_type": "code",
   "execution_count": 17,
   "metadata": {
    "collapsed": true
   },
   "outputs": [],
   "source": [
    "X_train = all_data[:train.shape[0]]\n",
    "X_test = all_data[train.shape[0]:]\n",
    "y = train.SalePrice"
   ]
  },
  {
   "cell_type": "code",
   "execution_count": 18,
   "metadata": {
    "collapsed": false
   },
   "outputs": [
    {
     "name": "stdout",
     "output_type": "stream",
     "text": [
      "[ 0.11379378  0.13875197  0.1369379   0.1118998   0.15534677]\n"
     ]
    },
    {
     "data": {
      "text/plain": [
       "0.13134604442827524"
      ]
     },
     "execution_count": 18,
     "metadata": {},
     "output_type": "execute_result"
    }
   ],
   "source": [
    "ridge = Ridge()\n",
    "\n",
    "print(rmse_cv(ridge))\n",
    "np.mean(rmse_cv(ridge))"
   ]
  },
  {
   "cell_type": "code",
   "execution_count": 19,
   "metadata": {
    "collapsed": false
   },
   "outputs": [],
   "source": [
    "ridge.fit(X_train,y)\n",
    "y_pred = np.expm1(ridge.predict(X_test))\n",
    "my_solution = pd.DataFrame(y_pred, test['Id'], columns = [\"SalePrice\"])\n",
    "my_solution.to_csv(\"my_solution.csv\", index_label = [\"Id\"])"
   ]
  },
  {
   "cell_type": "code",
   "execution_count": 20,
   "metadata": {
    "collapsed": false
   },
   "outputs": [
    {
     "data": {
      "text/plain": [
       "0.12774263096062427"
      ]
     },
     "execution_count": 20,
     "metadata": {},
     "output_type": "execute_result"
    }
   ],
   "source": [
    "from sklearn.linear_model import RidgeCV, LassoCV\n",
    "ridge_cv = RidgeCV(alphas = [0.1,0.5,1,5,10]).fit(X_train,y)\n",
    "rmse_cv(ridge_cv).mean()"
   ]
  },
  {
   "cell_type": "code",
   "execution_count": 21,
   "metadata": {
    "collapsed": false
   },
   "outputs": [],
   "source": [
    "y_pred = np.expm1(ridge_cv.predict(X_test))\n",
    "my_solution = pd.DataFrame(y_pred, test['Id'], columns = [\"SalePrice\"])\n",
    "my_solution.to_csv(\"my_solution.csv\", index_label = [\"Id\"])"
   ]
  },
  {
   "cell_type": "code",
   "execution_count": 22,
   "metadata": {
    "collapsed": false
   },
   "outputs": [
    {
     "data": {
      "text/plain": [
       "0.12419212473784114"
      ]
     },
     "execution_count": 22,
     "metadata": {},
     "output_type": "execute_result"
    }
   ],
   "source": [
    "lasso_cv = LassoCV(alphas = [0.001,0.01,0.1,0.5,1,5,10]).fit(X_train,y)\n",
    "rmse_cv(lasso_cv).mean()"
   ]
  },
  {
   "cell_type": "code",
   "execution_count": 23,
   "metadata": {
    "collapsed": true
   },
   "outputs": [],
   "source": [
    "y_pred = np.expm1(lasso_cv.predict(X_test))\n",
    "my_solution = pd.DataFrame(y_pred, test['Id'], columns = [\"SalePrice\"])\n",
    "my_solution.to_csv(\"my_solution.csv\", index_label = [\"Id\"])"
   ]
  },
  {
   "cell_type": "code",
   "execution_count": 24,
   "metadata": {
    "collapsed": true
   },
   "outputs": [],
   "source": [
    "#need to work a bit more on understanding the difference between ridge and cv\n",
    "#for the purposes of improving this score we could do a bit more work on feature engineering\n",
    "#or try using elasticnet"
   ]
  },
  {
   "cell_type": "code",
   "execution_count": 43,
   "metadata": {
    "collapsed": false
   },
   "outputs": [
    {
     "name": "stdout",
     "output_type": "stream",
     "text": [
      "GrLivArea               0.206554\n",
      "1stFlrSF                0.122074\n",
      "Neighborhood_StoneBr    0.091053\n",
      "Neighborhood_Crawfor    0.088960\n",
      "LotArea                 0.075260\n",
      "Neighborhood_NoRidge    0.073211\n",
      "Functional_Typ          0.068281\n",
      "RoofMatl_WdShngl        0.067558\n",
      "Exterior1st_BrkFace     0.064793\n",
      "Neighborhood_NridgHt    0.064021\n",
      "dtype: float64\n",
      "MSZoning_C (all)       -0.146395\n",
      "RoofMatl_ClyTile       -0.105275\n",
      "Condition2_PosN        -0.080140\n",
      "Neighborhood_Edwards   -0.077574\n",
      "Functional_Maj2        -0.060640\n",
      "Neighborhood_IDOTRR    -0.052025\n",
      "PoolQC_Gd              -0.050552\n",
      "Heating_Grav           -0.047282\n",
      "Neighborhood_MeadowV   -0.047117\n",
      "Neighborhood_Mitchel   -0.046543\n",
      "dtype: float64\n"
     ]
    }
   ],
   "source": [
    "print(pd.Series(ridge_cv.coef_,index = X_train.columns).sort_values(ascending = False).head(10))\n",
    "print(pd.Series(ridge_cv.coef_,index = X_train.columns).sort_values(ascending = True).head(10))"
   ]
  },
  {
   "cell_type": "code",
   "execution_count": 46,
   "metadata": {
    "collapsed": false
   },
   "outputs": [
    {
     "data": {
      "text/plain": [
       "0.26438260271981762"
      ]
     },
     "execution_count": 46,
     "metadata": {},
     "output_type": "execute_result"
    }
   ],
   "source": [
    "from sklearn.linear_model import ElasticNet, ElasticNetCV\n",
    "\n",
    "en = ElasticNet().fit(X_train,y)\n",
    "rmse_cv(en).mean()"
   ]
  },
  {
   "cell_type": "code",
   "execution_count": 47,
   "metadata": {
    "collapsed": false
   },
   "outputs": [
    {
     "data": {
      "text/plain": [
       "0.12290679609954605"
      ]
     },
     "execution_count": 47,
     "metadata": {},
     "output_type": "execute_result"
    }
   ],
   "source": [
    "en_cv = ElasticNetCV(alphas = [0.001,0.01,0.1,0.5,1,5,10]).fit(X_train,y)\n",
    "rmse_cv(en_cv).mean()"
   ]
  },
  {
   "cell_type": "code",
   "execution_count": 50,
   "metadata": {
    "collapsed": true
   },
   "outputs": [],
   "source": [
    "y_pred = np.expm1(en_cv.predict(X_test))\n",
    "my_solution = pd.DataFrame(y_pred, test['Id'], columns = [\"SalePrice\"])\n",
    "my_solution.to_csv(\"my_solution.csv\", index_label = [\"Id\"])"
   ]
  },
  {
   "cell_type": "code",
   "execution_count": 49,
   "metadata": {
    "collapsed": false
   },
   "outputs": [
    {
     "name": "stdout",
     "output_type": "stream",
     "text": [
      "GrLivArea               0.360786\n",
      "Neighborhood_StoneBr    0.110711\n",
      "Neighborhood_Crawfor    0.102794\n",
      "Neighborhood_NoRidge    0.086011\n",
      "Neighborhood_NridgHt    0.073382\n",
      "LotArea                 0.070376\n",
      "Exterior1st_BrkFace     0.070358\n",
      "Functional_Typ          0.069802\n",
      "KitchenQual_Ex          0.059783\n",
      "OverallQual             0.054062\n",
      "dtype: float64\n",
      "RoofMatl_ClyTile        -0.366751\n",
      "MSZoning_C (all)        -0.266619\n",
      "Condition2_PosN         -0.122939\n",
      "Neighborhood_Edwards    -0.056610\n",
      "SaleCondition_Abnorml   -0.048185\n",
      "LandContour_Bnk         -0.037324\n",
      "MSZoning_RM             -0.036164\n",
      "GarageCond_Fa           -0.030799\n",
      "SaleType_WD             -0.030207\n",
      "Functional_Maj2         -0.024449\n",
      "dtype: float64\n"
     ]
    }
   ],
   "source": [
    "print(pd.Series(en_cv.coef_,index = X_train.columns).sort_values(ascending = False).head(10))\n",
    "print(pd.Series(en_cv.coef_,index = X_train.columns).sort_values(ascending = True).head(10))"
   ]
  },
  {
   "cell_type": "code",
   "execution_count": null,
   "metadata": {
    "collapsed": true
   },
   "outputs": [],
   "source": []
  },
  {
   "cell_type": "code",
   "execution_count": null,
   "metadata": {
    "collapsed": true
   },
   "outputs": [],
   "source": []
  },
  {
   "cell_type": "code",
   "execution_count": null,
   "metadata": {
    "collapsed": false
   },
   "outputs": [],
   "source": [
    "import matplotlib.pyplot as plt\n",
    "import seaborn as sns\n",
    "%matplotlib inline\n",
    "\n",
    "#Correlation map to see how features are correlated with SalePrice\n",
    "corrmat = all_data[numeric_feats_ix].corr()\n",
    "plt.subplots(figsize=(12,9))\n",
    "sns.heatmap(corrmat, vmax=0.9, square=True)"
   ]
  },
  {
   "cell_type": "code",
   "execution_count": null,
   "metadata": {
    "collapsed": false
   },
   "outputs": [],
   "source": [
    "a = 'GarageArea'\n",
    "\n",
    "print(skew(all_data[a]))\n",
    "print(kurtosistest(all_data[a]))"
   ]
  },
  {
   "cell_type": "code",
   "execution_count": null,
   "metadata": {
    "collapsed": false
   },
   "outputs": [],
   "source": [
    "sns.distplot(all_data[a] , fit=norm);\n",
    "\n",
    "# Get the fitted parameters used by the function\n",
    "(mu, sigma) = norm.fit(all_data[a])\n",
    "print( '\\n mu = {:.2f} and sigma = {:.2f}\\n'.format(mu, sigma))\n",
    "print(skew(all_data[a]))\n",
    "print(kurtosis(all_data[a]))\n",
    "\n",
    "#Now plot the distribution\n",
    "plt.legend(['Normal dist. ($\\mu=$ {:.2f} and $\\sigma=$ {:.2f} )'.format(mu, sigma)],\n",
    "            loc='best')\n",
    "plt.ylabel('Frequency')\n",
    "plt.title(a + ' distribution')\n",
    "\n",
    "#Get also the QQ-plot\n",
    "#fig = plt.figure()\n",
    "#res = stats.probplot(train['MSSubClass'], plot=plt)\n",
    "plt.show()"
   ]
  },
  {
   "cell_type": "code",
   "execution_count": null,
   "metadata": {
    "collapsed": true
   },
   "outputs": [],
   "source": []
  }
 ],
 "metadata": {
  "anaconda-cloud": {},
  "kernelspec": {
   "display_name": "Python [Root]",
   "language": "python",
   "name": "Python [Root]"
  },
  "language_info": {
   "codemirror_mode": {
    "name": "ipython",
    "version": 3
   },
   "file_extension": ".py",
   "mimetype": "text/x-python",
   "name": "python",
   "nbconvert_exporter": "python",
   "pygments_lexer": "ipython3",
   "version": "3.5.2"
  }
 },
 "nbformat": 4,
 "nbformat_minor": 0
}
