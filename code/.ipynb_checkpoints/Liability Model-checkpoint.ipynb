{
 "cells": [
  {
   "cell_type": "markdown",
   "metadata": {},
   "source": [
    "## Import the source data"
   ]
  },
  {
   "cell_type": "code",
   "execution_count": 1,
   "metadata": {},
   "outputs": [],
   "source": [
    "import pandas as pd\n",
    "import numpy as np"
   ]
  },
  {
   "cell_type": "code",
   "execution_count": 2,
   "metadata": {},
   "outputs": [],
   "source": [
    "PATH = '~/Documents/To transfer out/job applications/QBE/QBE_Data_Science_Challenge/'\n",
    "fnames = ['smetradesmanliability.csv','data_dictionary.xlsx']"
   ]
  },
  {
   "cell_type": "code",
   "execution_count": 3,
   "metadata": {},
   "outputs": [],
   "source": [
    "df = pd.read_csv(f'{PATH}{fnames[0]}')"
   ]
  },
  {
   "cell_type": "code",
   "execution_count": 4,
   "metadata": {},
   "outputs": [
    {
     "data": {
      "text/html": [
       "<div>\n",
       "<style scoped>\n",
       "    .dataframe tbody tr th:only-of-type {\n",
       "        vertical-align: middle;\n",
       "    }\n",
       "\n",
       "    .dataframe tbody tr th {\n",
       "        vertical-align: top;\n",
       "    }\n",
       "\n",
       "    .dataframe thead th {\n",
       "        text-align: right;\n",
       "    }\n",
       "</style>\n",
       "<table border=\"1\" class=\"dataframe\">\n",
       "  <thead>\n",
       "    <tr style=\"text-align: right;\">\n",
       "      <th></th>\n",
       "      <th>Unnamed: 0</th>\n",
       "      <th>Source System</th>\n",
       "      <th>Product</th>\n",
       "      <th>Underwriting Year</th>\n",
       "      <th>Effective Date</th>\n",
       "      <th>Expiry Date</th>\n",
       "      <th>Transaction Type</th>\n",
       "      <th>Public Liability Limit</th>\n",
       "      <th>Employers Liability Limit</th>\n",
       "      <th>Tools Sum Insured</th>\n",
       "      <th>...</th>\n",
       "      <th>Location</th>\n",
       "      <th>Public_Liability_Limit_5000000.2</th>\n",
       "      <th>Public_Liability_Limit_5000000.3</th>\n",
       "      <th>Professional_Indemnity_Limit_g</th>\n",
       "      <th>Risk_Postcode2</th>\n",
       "      <th>TotalEmployees</th>\n",
       "      <th>Claim Count</th>\n",
       "      <th>Claim Incurred</th>\n",
       "      <th>Capped Incurred (£50k)</th>\n",
       "      <th>Capped Incurred (£100k)</th>\n",
       "    </tr>\n",
       "  </thead>\n",
       "  <tbody>\n",
       "    <tr>\n",
       "      <th>0</th>\n",
       "      <td>0</td>\n",
       "      <td>Simply Business</td>\n",
       "      <td>Maltings Tradesman</td>\n",
       "      <td>2014</td>\n",
       "      <td>19/09/2014 01:00</td>\n",
       "      <td>18/09/2015 01:00</td>\n",
       "      <td>New Business</td>\n",
       "      <td>1000000</td>\n",
       "      <td>0</td>\n",
       "      <td>0.0</td>\n",
       "      <td>...</td>\n",
       "      <td>BRIGHTON</td>\n",
       "      <td>0</td>\n",
       "      <td>0</td>\n",
       "      <td>1</td>\n",
       "      <td>BN21 3</td>\n",
       "      <td>1</td>\n",
       "      <td>0</td>\n",
       "      <td>0.0</td>\n",
       "      <td>0.0</td>\n",
       "      <td>0.0</td>\n",
       "    </tr>\n",
       "    <tr>\n",
       "      <th>1</th>\n",
       "      <td>1</td>\n",
       "      <td>Simply Business</td>\n",
       "      <td>Maltings Tradesman</td>\n",
       "      <td>2014</td>\n",
       "      <td>08/10/2014 01:00</td>\n",
       "      <td>07/10/2015 01:00</td>\n",
       "      <td>New Business</td>\n",
       "      <td>5000000</td>\n",
       "      <td>0</td>\n",
       "      <td>0.0</td>\n",
       "      <td>...</td>\n",
       "      <td>BRISTOL</td>\n",
       "      <td>1</td>\n",
       "      <td>0</td>\n",
       "      <td>0</td>\n",
       "      <td>BS15 4</td>\n",
       "      <td>1</td>\n",
       "      <td>0</td>\n",
       "      <td>0.0</td>\n",
       "      <td>0.0</td>\n",
       "      <td>0.0</td>\n",
       "    </tr>\n",
       "    <tr>\n",
       "      <th>2</th>\n",
       "      <td>2</td>\n",
       "      <td>Simply Business</td>\n",
       "      <td>Maltings Tradesman</td>\n",
       "      <td>2014</td>\n",
       "      <td>18/09/2014 01:00</td>\n",
       "      <td>17/09/2015 01:00</td>\n",
       "      <td>New Business</td>\n",
       "      <td>5000000</td>\n",
       "      <td>10000000</td>\n",
       "      <td>4000.0</td>\n",
       "      <td>...</td>\n",
       "      <td>NORTHAMPTON</td>\n",
       "      <td>1</td>\n",
       "      <td>0</td>\n",
       "      <td>0</td>\n",
       "      <td>NN10 8</td>\n",
       "      <td>8</td>\n",
       "      <td>0</td>\n",
       "      <td>0.0</td>\n",
       "      <td>0.0</td>\n",
       "      <td>0.0</td>\n",
       "    </tr>\n",
       "    <tr>\n",
       "      <th>3</th>\n",
       "      <td>3</td>\n",
       "      <td>Simply Business</td>\n",
       "      <td>Maltings Tradesman</td>\n",
       "      <td>2014</td>\n",
       "      <td>03/10/2014 01:00</td>\n",
       "      <td>02/10/2015 01:00</td>\n",
       "      <td>New Business</td>\n",
       "      <td>2000000</td>\n",
       "      <td>0</td>\n",
       "      <td>2000.0</td>\n",
       "      <td>...</td>\n",
       "      <td>CAMBRIDGE</td>\n",
       "      <td>0</td>\n",
       "      <td>0</td>\n",
       "      <td>0</td>\n",
       "      <td>CB8 7</td>\n",
       "      <td>10</td>\n",
       "      <td>0</td>\n",
       "      <td>0.0</td>\n",
       "      <td>0.0</td>\n",
       "      <td>0.0</td>\n",
       "    </tr>\n",
       "    <tr>\n",
       "      <th>4</th>\n",
       "      <td>4</td>\n",
       "      <td>Simply Business</td>\n",
       "      <td>Maltings Tradesman</td>\n",
       "      <td>2014</td>\n",
       "      <td>20/09/2014 01:00</td>\n",
       "      <td>19/09/2015 01:00</td>\n",
       "      <td>New Business</td>\n",
       "      <td>1000000</td>\n",
       "      <td>0</td>\n",
       "      <td>0.0</td>\n",
       "      <td>...</td>\n",
       "      <td>NEWCASTLE UPON TYNE</td>\n",
       "      <td>0</td>\n",
       "      <td>0</td>\n",
       "      <td>1</td>\n",
       "      <td>NE5 1</td>\n",
       "      <td>1</td>\n",
       "      <td>0</td>\n",
       "      <td>0.0</td>\n",
       "      <td>0.0</td>\n",
       "      <td>0.0</td>\n",
       "    </tr>\n",
       "  </tbody>\n",
       "</table>\n",
       "<p>5 rows × 68 columns</p>\n",
       "</div>"
      ],
      "text/plain": [
       "   Unnamed: 0    Source System             Product  Underwriting Year  \\\n",
       "0           0  Simply Business  Maltings Tradesman               2014   \n",
       "1           1  Simply Business  Maltings Tradesman               2014   \n",
       "2           2  Simply Business  Maltings Tradesman               2014   \n",
       "3           3  Simply Business  Maltings Tradesman               2014   \n",
       "4           4  Simply Business  Maltings Tradesman               2014   \n",
       "\n",
       "     Effective Date       Expiry Date Transaction Type  \\\n",
       "0  19/09/2014 01:00  18/09/2015 01:00     New Business   \n",
       "1  08/10/2014 01:00  07/10/2015 01:00     New Business   \n",
       "2  18/09/2014 01:00  17/09/2015 01:00     New Business   \n",
       "3  03/10/2014 01:00  02/10/2015 01:00     New Business   \n",
       "4  20/09/2014 01:00  19/09/2015 01:00     New Business   \n",
       "\n",
       "   Public Liability Limit  Employers Liability Limit  Tools Sum Insured  \\\n",
       "0                 1000000                          0                0.0   \n",
       "1                 5000000                          0                0.0   \n",
       "2                 5000000                   10000000             4000.0   \n",
       "3                 2000000                          0             2000.0   \n",
       "4                 1000000                          0                0.0   \n",
       "\n",
       "            ...                       Location  \\\n",
       "0           ...                       BRIGHTON   \n",
       "1           ...                        BRISTOL   \n",
       "2           ...                    NORTHAMPTON   \n",
       "3           ...                      CAMBRIDGE   \n",
       "4           ...            NEWCASTLE UPON TYNE   \n",
       "\n",
       "   Public_Liability_Limit_5000000.2  Public_Liability_Limit_5000000.3  \\\n",
       "0                                 0                                 0   \n",
       "1                                 1                                 0   \n",
       "2                                 1                                 0   \n",
       "3                                 0                                 0   \n",
       "4                                 0                                 0   \n",
       "\n",
       "   Professional_Indemnity_Limit_g Risk_Postcode2 TotalEmployees  Claim Count  \\\n",
       "0                               1         BN21 3              1            0   \n",
       "1                               0         BS15 4              1            0   \n",
       "2                               0         NN10 8              8            0   \n",
       "3                               0          CB8 7             10            0   \n",
       "4                               1          NE5 1              1            0   \n",
       "\n",
       "   Claim Incurred  Capped Incurred (£50k) Capped Incurred (£100k)  \n",
       "0             0.0                     0.0                     0.0  \n",
       "1             0.0                     0.0                     0.0  \n",
       "2             0.0                     0.0                     0.0  \n",
       "3             0.0                     0.0                     0.0  \n",
       "4             0.0                     0.0                     0.0  \n",
       "\n",
       "[5 rows x 68 columns]"
      ]
     },
     "execution_count": 4,
     "metadata": {},
     "output_type": "execute_result"
    }
   ],
   "source": [
    "df.head()"
   ]
  },
  {
   "cell_type": "code",
   "execution_count": 5,
   "metadata": {},
   "outputs": [
    {
     "data": {
      "text/plain": [
       "0    229689\n",
       "1      3098\n",
       "2       150\n",
       "3        22\n",
       "4         3\n",
       "Name: Claim Count, dtype: int64"
      ]
     },
     "execution_count": 5,
     "metadata": {},
     "output_type": "execute_result"
    }
   ],
   "source": [
    "df['Claim Count'].value_counts()"
   ]
  },
  {
   "cell_type": "raw",
   "metadata": {},
   "source": [
    "Looks like we have imbalanced classes here. May need to readdress through over sampling at a later point"
   ]
  },
  {
   "cell_type": "markdown",
   "metadata": {},
   "source": [
    "### make a few amendments to the dataframe"
   ]
  },
  {
   "cell_type": "code",
   "execution_count": 6,
   "metadata": {},
   "outputs": [
    {
     "data": {
      "text/plain": [
       "(Index(['Unnamed: 0', 'Source System', 'Product', 'Underwriting Year',\n",
       "        'Effective Date', 'Expiry Date', 'Transaction Type',\n",
       "        'Public Liability Limit', 'Employers Liability Limit',\n",
       "        'Tools Sum Insured', 'Professional Indemnity Limit',\n",
       "        'Contract Works Sum Insured', 'Hired in Plan Sum Insured',\n",
       "        'Own Plant Sum Insured', 'Trade 1', 'Trade 2', 'Manual EE',\n",
       "        'Clerical EE', 'Subcontractor EE', 'Match Type', 'Trade 1 Category',\n",
       "        'Trade 2 Category', 'Trade 1 Risk Level', 'Trade 2 Risk Level',\n",
       "        'Effective_Date2', 'CancellationEffectiveDate',\n",
       "        'Total Gross Premium excl IPT', 'Commission Amount',\n",
       "        'Net Premium to UW', 'Policy Count', 'Gross Premium Excl PI',\n",
       "        'Gross PI Premium', 'DurationofPolicy', 'CombinedTradeRiskLevel',\n",
       "        'Public_Liability_Limit_1000000', 'Public_Liability_Limit_1000000.1',\n",
       "        'Public_Liability_Limit_2000000', 'Public_Liability_Limit_5000000',\n",
       "        'Public_Liability_Limit_5000000.1', 'Public_Liability_Limit_1000000.2',\n",
       "        'Public_Liability_Limit_1000000.3', 'Employers_Liability_Limit_1000',\n",
       "        'Professional_Indemnity_Limit_5', 'Professional_Indemnity_Limit_5.1',\n",
       "        'Professional_Indemnity_Limit_1', 'Professional_Indemnity_Limit_1.1',\n",
       "        'Professional_Indemnity_Limit_2', 'Professional_Indemnity_Limit_2.1',\n",
       "        'Professional_Indemnity_Limit_5.2', 'Professional_Indemnity_Limit_5.3',\n",
       "        'Professional_Indemnity_Limit_1.2', 'Professional_Indemnity_Limit_1.3',\n",
       "        'Professional_Indemnity_Limit_2.2', 'Professional_Indemnity_Limit_2.3',\n",
       "        'Tools_Sum_Insured_Ind', 'Contract_Works_Sum_Insured_Ind',\n",
       "        'Hired_in_Plan_Sum_Insured_Ind', 'Own_Plant_Sum_Insured_Ind',\n",
       "        'Location', 'Public_Liability_Limit_5000000.2',\n",
       "        'Public_Liability_Limit_5000000.3', 'Professional_Indemnity_Limit_g',\n",
       "        'Risk_Postcode2', 'TotalEmployees', 'Claim Count', 'Claim Incurred',\n",
       "        'Capped Incurred (£50k)', 'Capped Incurred (£100k)'],\n",
       "       dtype='object'), (232962, 68))"
      ]
     },
     "execution_count": 6,
     "metadata": {},
     "output_type": "execute_result"
    }
   ],
   "source": [
    "df.columns,df.shape"
   ]
  },
  {
   "cell_type": "code",
   "execution_count": 7,
   "metadata": {},
   "outputs": [],
   "source": [
    "df.set_index('Unnamed: 0', inplace= True)"
   ]
  },
  {
   "cell_type": "markdown",
   "metadata": {},
   "source": [
    "### look into the date types - this is a chunk of code worth re-running as we tidy the data up"
   ]
  },
  {
   "cell_type": "code",
   "execution_count": 8,
   "metadata": {},
   "outputs": [
    {
     "data": {
      "text/plain": [
       "int64      44\n",
       "object     13\n",
       "float64    10\n",
       "dtype: int64"
      ]
     },
     "execution_count": 8,
     "metadata": {},
     "output_type": "execute_result"
    }
   ],
   "source": [
    "data_types = df.dtypes\n",
    "\n",
    "data_types.value_counts()"
   ]
  },
  {
   "cell_type": "markdown",
   "metadata": {},
   "source": [
    "### look into the object data types"
   ]
  },
  {
   "cell_type": "code",
   "execution_count": 9,
   "metadata": {},
   "outputs": [],
   "source": [
    "objects = data_types[data_types == 'object'].index.values.tolist()"
   ]
  },
  {
   "cell_type": "code",
   "execution_count": 10,
   "metadata": {},
   "outputs": [
    {
     "data": {
      "text/plain": [
       "[('Source System', 2),\n",
       " ('Product', 6),\n",
       " ('Effective Date', 3290),\n",
       " ('Expiry Date', 3438),\n",
       " ('Transaction Type', 3),\n",
       " ('Trade 1', 880),\n",
       " ('Trade 2', 759),\n",
       " ('Match Type', 8),\n",
       " ('Trade 1 Category', 16),\n",
       " ('Trade 2 Category', 17),\n",
       " ('Effective_Date2', 1813),\n",
       " ('Location', 121),\n",
       " ('Risk_Postcode2', 20857)]"
      ]
     },
     "execution_count": 10,
     "metadata": {},
     "output_type": "execute_result"
    }
   ],
   "source": [
    "cardinality = [(a,df[a].value_counts().count()) for a in objects]\n",
    "cardinality"
   ]
  },
  {
   "cell_type": "code",
   "execution_count": 11,
   "metadata": {},
   "outputs": [
    {
     "data": {
      "text/plain": [
       "Source System           0\n",
       "Product                 0\n",
       "Effective Date          0\n",
       "Expiry Date             0\n",
       "Transaction Type        0\n",
       "Trade 1                 0\n",
       "Trade 2             25172\n",
       "Match Type              0\n",
       "Trade 1 Category        0\n",
       "Trade 2 Category        0\n",
       "Effective_Date2         0\n",
       "Location              351\n",
       "Risk_Postcode2          0\n",
       "dtype: int64"
      ]
     },
     "execution_count": 11,
     "metadata": {},
     "output_type": "execute_result"
    }
   ],
   "source": [
    "df[objects].isnull().sum()"
   ]
  },
  {
   "cell_type": "raw",
   "metadata": {},
   "source": [
    "Trade 2 and Location have some missing values. Lets replace these with unknown for now"
   ]
  },
  {
   "cell_type": "code",
   "execution_count": 12,
   "metadata": {},
   "outputs": [],
   "source": [
    "df['Trade 2'].fillna('Unknown',inplace = True)\n",
    "#also add this in for blanks\n",
    "df['Trade 2'] = df['Trade 2'].apply(lambda x : 'Unknown' if x == ' ' else x)"
   ]
  },
  {
   "cell_type": "code",
   "execution_count": 13,
   "metadata": {},
   "outputs": [],
   "source": [
    "df['Location'].fillna('Unknown',inplace = True)"
   ]
  },
  {
   "cell_type": "code",
   "execution_count": 14,
   "metadata": {},
   "outputs": [],
   "source": [
    "df.drop(['Effective_Date2'],inplace= True,axis = 1)"
   ]
  },
  {
   "cell_type": "raw",
   "metadata": {},
   "source": [
    "There are also two date fields in here, which I think we can do a bit more with in terms of features"
   ]
  },
  {
   "cell_type": "code",
   "execution_count": 15,
   "metadata": {},
   "outputs": [
    {
     "data": {
      "text/plain": [
       "int64      44\n",
       "object     12\n",
       "float64    10\n",
       "dtype: int64"
      ]
     },
     "execution_count": 15,
     "metadata": {},
     "output_type": "execute_result"
    }
   ],
   "source": [
    "data_types = df.dtypes\n",
    "\n",
    "data_types.value_counts()"
   ]
  },
  {
   "cell_type": "markdown",
   "metadata": {},
   "source": [
    "### date fields"
   ]
  },
  {
   "cell_type": "code",
   "execution_count": 16,
   "metadata": {},
   "outputs": [],
   "source": [
    "df['Effective Date'] = pd.to_datetime(df['Effective Date'])\n",
    "df['Expiry Date'] = pd.to_datetime(df['Expiry Date'])"
   ]
  },
  {
   "cell_type": "code",
   "execution_count": 17,
   "metadata": {},
   "outputs": [],
   "source": [
    "lamdafunc = lambda x : pd.Series([x['Effective Date'].weekofyear\n",
    "                                  ,x['Effective Date'].dayofweek\n",
    "                                  ,x['Effective Date'].is_month_start\n",
    "                                  ,x['Effective Date'].is_month_end\n",
    "                                  ,x['Effective Date'].quarter\n",
    "                                  ,x['Effective Date'].is_quarter_start\n",
    "                                  ,x['Effective Date'].is_quarter_end\n",
    "                                  ,x['Effective Date'].month\n",
    "                                  ,x['Effective Date'].day\n",
    "                                 ])"
   ]
  },
  {
   "cell_type": "code",
   "execution_count": 18,
   "metadata": {},
   "outputs": [],
   "source": [
    "df[['eff_woy','eff_dow','eff_month_start'\n",
    "    ,'eff_month_end','eff_quarter','eff_qstart','eff_qend','eff_month','eff_day']] = df.apply(lamdafunc,axis = 1)"
   ]
  },
  {
   "cell_type": "code",
   "execution_count": 19,
   "metadata": {},
   "outputs": [
    {
     "data": {
      "text/plain": [
       "int64             49\n",
       "float64           10\n",
       "object            10\n",
       "bool               4\n",
       "datetime64[ns]     2\n",
       "dtype: int64"
      ]
     },
     "execution_count": 19,
     "metadata": {},
     "output_type": "execute_result"
    }
   ],
   "source": [
    "data_types = df.dtypes\n",
    "\n",
    "data_types.value_counts()"
   ]
  },
  {
   "cell_type": "markdown",
   "metadata": {},
   "source": [
    "### integer data types"
   ]
  },
  {
   "cell_type": "code",
   "execution_count": 20,
   "metadata": {},
   "outputs": [],
   "source": [
    "ints = data_types[data_types == 'int64'].index.values.tolist()"
   ]
  },
  {
   "cell_type": "code",
   "execution_count": 21,
   "metadata": {},
   "outputs": [
    {
     "data": {
      "text/plain": [
       "Underwriting Year                   0\n",
       "Public Liability Limit              0\n",
       "Employers Liability Limit           0\n",
       "Professional Indemnity Limit        0\n",
       "Contract Works Sum Insured          0\n",
       "Hired in Plan Sum Insured           0\n",
       "Own Plant Sum Insured               0\n",
       "Manual EE                           0\n",
       "Clerical EE                         0\n",
       "Subcontractor EE                    0\n",
       "Trade 1 Risk Level                  0\n",
       "Trade 2 Risk Level                  0\n",
       "Policy Count                        0\n",
       "DurationofPolicy                    0\n",
       "CombinedTradeRiskLevel              0\n",
       "Public_Liability_Limit_1000000      0\n",
       "Public_Liability_Limit_1000000.1    0\n",
       "Public_Liability_Limit_2000000      0\n",
       "Public_Liability_Limit_5000000      0\n",
       "Public_Liability_Limit_5000000.1    0\n",
       "Public_Liability_Limit_1000000.2    0\n",
       "Public_Liability_Limit_1000000.3    0\n",
       "Employers_Liability_Limit_1000      0\n",
       "Professional_Indemnity_Limit_5      0\n",
       "Professional_Indemnity_Limit_5.1    0\n",
       "Professional_Indemnity_Limit_1      0\n",
       "Professional_Indemnity_Limit_1.1    0\n",
       "Professional_Indemnity_Limit_2      0\n",
       "Professional_Indemnity_Limit_2.1    0\n",
       "Professional_Indemnity_Limit_5.2    0\n",
       "Professional_Indemnity_Limit_5.3    0\n",
       "Professional_Indemnity_Limit_1.2    0\n",
       "Professional_Indemnity_Limit_1.3    0\n",
       "Professional_Indemnity_Limit_2.2    0\n",
       "Professional_Indemnity_Limit_2.3    0\n",
       "Tools_Sum_Insured_Ind               0\n",
       "Contract_Works_Sum_Insured_Ind      0\n",
       "Hired_in_Plan_Sum_Insured_Ind       0\n",
       "Own_Plant_Sum_Insured_Ind           0\n",
       "Public_Liability_Limit_5000000.2    0\n",
       "Public_Liability_Limit_5000000.3    0\n",
       "Professional_Indemnity_Limit_g      0\n",
       "TotalEmployees                      0\n",
       "Claim Count                         0\n",
       "eff_woy                             0\n",
       "eff_dow                             0\n",
       "eff_quarter                         0\n",
       "eff_month                           0\n",
       "eff_day                             0\n",
       "dtype: int64"
      ]
     },
     "execution_count": 21,
     "metadata": {},
     "output_type": "execute_result"
    }
   ],
   "source": [
    "df[ints].isnull().sum()"
   ]
  },
  {
   "cell_type": "code",
   "execution_count": 22,
   "metadata": {},
   "outputs": [
    {
     "data": {
      "text/plain": [
       "int64             49\n",
       "float64           10\n",
       "object            10\n",
       "bool               4\n",
       "datetime64[ns]     2\n",
       "dtype: int64"
      ]
     },
     "execution_count": 22,
     "metadata": {},
     "output_type": "execute_result"
    }
   ],
   "source": [
    "data_types = df.dtypes\n",
    "\n",
    "data_types.value_counts()"
   ]
  },
  {
   "cell_type": "markdown",
   "metadata": {},
   "source": [
    "### continuous variables"
   ]
  },
  {
   "cell_type": "code",
   "execution_count": 23,
   "metadata": {},
   "outputs": [],
   "source": [
    "floats = data_types[data_types == 'float64'].index.values.tolist()"
   ]
  },
  {
   "cell_type": "code",
   "execution_count": 24,
   "metadata": {},
   "outputs": [
    {
     "data": {
      "text/html": [
       "<div>\n",
       "<style scoped>\n",
       "    .dataframe tbody tr th:only-of-type {\n",
       "        vertical-align: middle;\n",
       "    }\n",
       "\n",
       "    .dataframe tbody tr th {\n",
       "        vertical-align: top;\n",
       "    }\n",
       "\n",
       "    .dataframe thead th {\n",
       "        text-align: right;\n",
       "    }\n",
       "</style>\n",
       "<table border=\"1\" class=\"dataframe\">\n",
       "  <thead>\n",
       "    <tr style=\"text-align: right;\">\n",
       "      <th></th>\n",
       "      <th>Tools Sum Insured</th>\n",
       "      <th>CancellationEffectiveDate</th>\n",
       "      <th>Total Gross Premium excl IPT</th>\n",
       "      <th>Commission Amount</th>\n",
       "      <th>Net Premium to UW</th>\n",
       "      <th>Gross Premium Excl PI</th>\n",
       "      <th>Gross PI Premium</th>\n",
       "      <th>Claim Incurred</th>\n",
       "      <th>Capped Incurred (£50k)</th>\n",
       "      <th>Capped Incurred (£100k)</th>\n",
       "    </tr>\n",
       "    <tr>\n",
       "      <th>Unnamed: 0</th>\n",
       "      <th></th>\n",
       "      <th></th>\n",
       "      <th></th>\n",
       "      <th></th>\n",
       "      <th></th>\n",
       "      <th></th>\n",
       "      <th></th>\n",
       "      <th></th>\n",
       "      <th></th>\n",
       "      <th></th>\n",
       "    </tr>\n",
       "  </thead>\n",
       "  <tbody>\n",
       "    <tr>\n",
       "      <th>0</th>\n",
       "      <td>0.0</td>\n",
       "      <td>NaN</td>\n",
       "      <td>266.39</td>\n",
       "      <td>98.46</td>\n",
       "      <td>167.93</td>\n",
       "      <td>199.75</td>\n",
       "      <td>66.64</td>\n",
       "      <td>0.0</td>\n",
       "      <td>0.0</td>\n",
       "      <td>0.0</td>\n",
       "    </tr>\n",
       "    <tr>\n",
       "      <th>1</th>\n",
       "      <td>0.0</td>\n",
       "      <td>NaN</td>\n",
       "      <td>91.53</td>\n",
       "      <td>33.83</td>\n",
       "      <td>57.70</td>\n",
       "      <td>91.53</td>\n",
       "      <td>0.00</td>\n",
       "      <td>0.0</td>\n",
       "      <td>0.0</td>\n",
       "      <td>0.0</td>\n",
       "    </tr>\n",
       "    <tr>\n",
       "      <th>2</th>\n",
       "      <td>4000.0</td>\n",
       "      <td>NaN</td>\n",
       "      <td>844.32</td>\n",
       "      <td>312.06</td>\n",
       "      <td>532.26</td>\n",
       "      <td>844.32</td>\n",
       "      <td>0.00</td>\n",
       "      <td>0.0</td>\n",
       "      <td>0.0</td>\n",
       "      <td>0.0</td>\n",
       "    </tr>\n",
       "    <tr>\n",
       "      <th>3</th>\n",
       "      <td>2000.0</td>\n",
       "      <td>NaN</td>\n",
       "      <td>377.90</td>\n",
       "      <td>139.67</td>\n",
       "      <td>238.23</td>\n",
       "      <td>377.90</td>\n",
       "      <td>0.00</td>\n",
       "      <td>0.0</td>\n",
       "      <td>0.0</td>\n",
       "      <td>0.0</td>\n",
       "    </tr>\n",
       "    <tr>\n",
       "      <th>4</th>\n",
       "      <td>0.0</td>\n",
       "      <td>NaN</td>\n",
       "      <td>232.88</td>\n",
       "      <td>86.07</td>\n",
       "      <td>146.81</td>\n",
       "      <td>38.50</td>\n",
       "      <td>194.38</td>\n",
       "      <td>0.0</td>\n",
       "      <td>0.0</td>\n",
       "      <td>0.0</td>\n",
       "    </tr>\n",
       "  </tbody>\n",
       "</table>\n",
       "</div>"
      ],
      "text/plain": [
       "            Tools Sum Insured  CancellationEffectiveDate  \\\n",
       "Unnamed: 0                                                 \n",
       "0                         0.0                        NaN   \n",
       "1                         0.0                        NaN   \n",
       "2                      4000.0                        NaN   \n",
       "3                      2000.0                        NaN   \n",
       "4                         0.0                        NaN   \n",
       "\n",
       "            Total Gross Premium excl IPT  Commission Amount  \\\n",
       "Unnamed: 0                                                    \n",
       "0                                 266.39              98.46   \n",
       "1                                  91.53              33.83   \n",
       "2                                 844.32             312.06   \n",
       "3                                 377.90             139.67   \n",
       "4                                 232.88              86.07   \n",
       "\n",
       "            Net Premium to UW  Gross Premium Excl PI  Gross PI Premium  \\\n",
       "Unnamed: 0                                                               \n",
       "0                      167.93                 199.75             66.64   \n",
       "1                       57.70                  91.53              0.00   \n",
       "2                      532.26                 844.32              0.00   \n",
       "3                      238.23                 377.90              0.00   \n",
       "4                      146.81                  38.50            194.38   \n",
       "\n",
       "            Claim Incurred  Capped Incurred (£50k)  Capped Incurred (£100k)  \n",
       "Unnamed: 0                                                                   \n",
       "0                      0.0                     0.0                      0.0  \n",
       "1                      0.0                     0.0                      0.0  \n",
       "2                      0.0                     0.0                      0.0  \n",
       "3                      0.0                     0.0                      0.0  \n",
       "4                      0.0                     0.0                      0.0  "
      ]
     },
     "execution_count": 24,
     "metadata": {},
     "output_type": "execute_result"
    }
   ],
   "source": [
    "df[floats].head()"
   ]
  },
  {
   "cell_type": "code",
   "execution_count": 25,
   "metadata": {},
   "outputs": [
    {
     "data": {
      "text/plain": [
       "Tools Sum Insured                    0\n",
       "CancellationEffectiveDate       232962\n",
       "Total Gross Premium excl IPT         0\n",
       "Commission Amount                    0\n",
       "Net Premium to UW                    0\n",
       "Gross Premium Excl PI                0\n",
       "Gross PI Premium                 35138\n",
       "Claim Incurred                       0\n",
       "Capped Incurred (£50k)               0\n",
       "Capped Incurred (£100k)              0\n",
       "dtype: int64"
      ]
     },
     "execution_count": 25,
     "metadata": {},
     "output_type": "execute_result"
    }
   ],
   "source": [
    "df[floats].isnull().sum()"
   ]
  },
  {
   "cell_type": "raw",
   "metadata": {},
   "source": [
    "looks like we should delete the cancellation effective data field."
   ]
  },
  {
   "cell_type": "code",
   "execution_count": 26,
   "metadata": {},
   "outputs": [],
   "source": [
    "df.drop(['CancellationEffectiveDate'],inplace = True,axis = 1)\n",
    "df.drop(['Capped Incurred (£50k)'],inplace = True,axis = 1)\n",
    "df.drop(['Capped Incurred (£100k)'],inplace = True,axis = 1)"
   ]
  },
  {
   "cell_type": "raw",
   "metadata": {},
   "source": [
    "it also looks like anything with claim incurred shows there is a claim! lets remove these"
   ]
  },
  {
   "cell_type": "code",
   "execution_count": 31,
   "metadata": {},
   "outputs": [
    {
     "ename": "ValueError",
     "evalue": "list.remove(x): x not in list",
     "output_type": "error",
     "traceback": [
      "\u001b[1;31m---------------------------------------------------------------------------\u001b[0m",
      "\u001b[1;31mValueError\u001b[0m                                Traceback (most recent call last)",
      "\u001b[1;32m<ipython-input-31-f03fab969ac6>\u001b[0m in \u001b[0;36m<module>\u001b[1;34m()\u001b[0m\n\u001b[1;32m----> 1\u001b[1;33m \u001b[0mfloats\u001b[0m\u001b[1;33m.\u001b[0m\u001b[0mremove\u001b[0m\u001b[1;33m(\u001b[0m\u001b[1;34m'CancellationEffectiveDate'\u001b[0m\u001b[1;33m)\u001b[0m\u001b[1;33m\u001b[0m\u001b[0m\n\u001b[0m\u001b[0;32m      2\u001b[0m \u001b[0mfloats\u001b[0m\u001b[1;33m.\u001b[0m\u001b[0mremove\u001b[0m\u001b[1;33m(\u001b[0m\u001b[1;34m'Capped Incurred (£50k)'\u001b[0m\u001b[1;33m)\u001b[0m\u001b[1;33m\u001b[0m\u001b[0m\n\u001b[0;32m      3\u001b[0m \u001b[0mfloats\u001b[0m\u001b[1;33m.\u001b[0m\u001b[0mremove\u001b[0m\u001b[1;33m(\u001b[0m\u001b[1;34m'Capped Incurred (£100k)'\u001b[0m\u001b[1;33m)\u001b[0m\u001b[1;33m\u001b[0m\u001b[0m\n",
      "\u001b[1;31mValueError\u001b[0m: list.remove(x): x not in list"
     ]
    }
   ],
   "source": [
    "floats.remove('CancellationEffectiveDate')\n",
    "floats.remove('Capped Incurred (£50k)')\n",
    "floats.remove('Capped Incurred (£100k)')"
   ]
  },
  {
   "cell_type": "raw",
   "metadata": {},
   "source": [
    "to handle the missing gross pi premium values, just replace with gross premium excl PI"
   ]
  },
  {
   "cell_type": "code",
   "execution_count": 28,
   "metadata": {},
   "outputs": [],
   "source": [
    "a = df[['Source System','Gross PI Premium','Gross Premium Excl PI','Total Gross Premium excl IPT']]\n",
    "a[a['Source System'] != 'Simply Business']\n",
    "\n",
    "df['Gross PI Premium'].fillna(df['Gross Premium Excl PI'],inplace = True)"
   ]
  },
  {
   "cell_type": "code",
   "execution_count": 29,
   "metadata": {},
   "outputs": [
    {
     "data": {
      "text/plain": [
       "int64             49\n",
       "object            10\n",
       "float64            7\n",
       "bool               4\n",
       "datetime64[ns]     2\n",
       "dtype: int64"
      ]
     },
     "execution_count": 29,
     "metadata": {},
     "output_type": "execute_result"
    }
   ],
   "source": [
    "data_types = df.dtypes\n",
    "\n",
    "data_types.value_counts()"
   ]
  },
  {
   "cell_type": "markdown",
   "metadata": {},
   "source": [
    "### look at overall dataset"
   ]
  },
  {
   "cell_type": "code",
   "execution_count": 34,
   "metadata": {},
   "outputs": [],
   "source": [
    "#sort the values so we can take the last X as training set\n",
    "\n",
    "df.sort_values(by = ['Effective Date'],inplace = True)"
   ]
  },
  {
   "cell_type": "markdown",
   "metadata": {},
   "source": [
    "#### quickly convert the boolean values into ints"
   ]
  },
  {
   "cell_type": "code",
   "execution_count": 35,
   "metadata": {},
   "outputs": [],
   "source": [
    "bools = data_types[data_types == 'bool'].index.values.tolist()\n",
    "\n",
    "df[bools] = df[bools].astype(np.int64)"
   ]
  },
  {
   "cell_type": "code",
   "execution_count": 36,
   "metadata": {},
   "outputs": [
    {
     "data": {
      "text/plain": [
       "int64             53\n",
       "object            10\n",
       "float64            7\n",
       "datetime64[ns]     2\n",
       "dtype: int64"
      ]
     },
     "execution_count": 36,
     "metadata": {},
     "output_type": "execute_result"
    }
   ],
   "source": [
    "data_types = df.dtypes\n",
    "\n",
    "data_types.value_counts()"
   ]
  },
  {
   "cell_type": "markdown",
   "metadata": {},
   "source": [
    "### back to overall datset"
   ]
  },
  {
   "cell_type": "code",
   "execution_count": 37,
   "metadata": {},
   "outputs": [],
   "source": [
    "floats_f = data_types[data_types == 'float64'].index.values.tolist()\n",
    "ints_f = data_types[data_types == 'int64'].index.values.tolist()\n",
    "object_f = data_types[data_types == 'object'].index.values.tolist()"
   ]
  },
  {
   "cell_type": "code",
   "execution_count": 38,
   "metadata": {},
   "outputs": [],
   "source": [
    "#treat the target by itself\n",
    "\n",
    "ints_f.remove('Claim Count')\n",
    "floats_f.remove('Claim Incurred')"
   ]
  },
  {
   "cell_type": "code",
   "execution_count": 39,
   "metadata": {},
   "outputs": [],
   "source": [
    "df['Claim Count'] = df['Claim Count'].apply(lambda x : 0 if x == 0 else 1)\n",
    "\n",
    "target = ['Claim Count']"
   ]
  },
  {
   "cell_type": "code",
   "execution_count": 40,
   "metadata": {},
   "outputs": [],
   "source": [
    "from sklearn.preprocessing import LabelEncoder,StandardScaler\n",
    "\n",
    "le = LabelEncoder()\n",
    "scaler = StandardScaler()\n",
    "\n",
    "#scale the floats\n",
    "scaled = scaler.fit_transform(df[floats_f])\n",
    "\n",
    "#encode the labels\n",
    "encoded  = np.array(df[object_f].apply(le.fit_transform))"
   ]
  },
  {
   "cell_type": "code",
   "execution_count": 41,
   "metadata": {},
   "outputs": [
    {
     "data": {
      "text/plain": [
       "array([[ 0.,  5.,  0., ...,  1.,  1.,  0.],\n",
       "       [ 0.,  5.,  0., ...,  1.,  1.,  0.],\n",
       "       [ 0.,  5.,  0., ...,  1.,  1.,  0.],\n",
       "       ...,\n",
       "       [ 1.,  2.,  0., ..., 12., 31.,  0.],\n",
       "       [ 1.,  1.,  2., ..., 12., 31.,  0.],\n",
       "       [ 1.,  1.,  2., ..., 12., 31.,  0.]])"
      ]
     },
     "execution_count": 41,
     "metadata": {},
     "output_type": "execute_result"
    }
   ],
   "source": [
    "full_df = np.hstack((encoded,scaled,np.array(df[ints_f]),np.array(df[target])))\n",
    "full_df"
   ]
  },
  {
   "cell_type": "markdown",
   "metadata": {},
   "source": [
    "### split into training and test"
   ]
  },
  {
   "cell_type": "code",
   "execution_count": 43,
   "metadata": {},
   "outputs": [],
   "source": [
    "#take the bottom 20% as your training set\n",
    "\n",
    "tr = np.round(len(df) * 0.2,0).astype(int)\n",
    "\n",
    "train = full_df[tr:]\n",
    "test = full_df[:tr]"
   ]
  },
  {
   "cell_type": "code",
   "execution_count": 44,
   "metadata": {},
   "outputs": [
    {
     "data": {
      "text/plain": [
       "232962"
      ]
     },
     "execution_count": 44,
     "metadata": {},
     "output_type": "execute_result"
    }
   ],
   "source": [
    "train.shape[0] + test.shape[0]"
   ]
  },
  {
   "cell_type": "code",
   "execution_count": 45,
   "metadata": {},
   "outputs": [],
   "source": [
    "val = np.round(len(train) * 0.2,0).astype(int)\n",
    "\n",
    "train = train[val:]\n",
    "val = train[:val]"
   ]
  },
  {
   "cell_type": "code",
   "execution_count": 46,
   "metadata": {},
   "outputs": [
    {
     "data": {
      "text/plain": [
       "186370"
      ]
     },
     "execution_count": 46,
     "metadata": {},
     "output_type": "execute_result"
    }
   ],
   "source": [
    "train.shape[0] + val.shape[0]"
   ]
  },
  {
   "cell_type": "markdown",
   "metadata": {},
   "source": [
    "## Build the model"
   ]
  },
  {
   "cell_type": "code",
   "execution_count": 47,
   "metadata": {},
   "outputs": [
    {
     "data": {
      "text/plain": [
       "((149096, 69), (37274, 69))"
      ]
     },
     "execution_count": 47,
     "metadata": {},
     "output_type": "execute_result"
    }
   ],
   "source": [
    "train.shape,val.shape"
   ]
  },
  {
   "cell_type": "code",
   "execution_count": 48,
   "metadata": {},
   "outputs": [],
   "source": [
    "import xgboost as xgb\n",
    "\n",
    "dtrain = xgb.DMatrix(train[:,:-1],label = train[:,-1:])\n",
    "dval = xgb.DMatrix(val[:,:-1],label = val[:,-1:])"
   ]
  },
  {
   "cell_type": "code",
   "execution_count": 80,
   "metadata": {},
   "outputs": [
    {
     "name": "stdout",
     "output_type": "stream",
     "text": [
      "[0]\teval-error:0.439958\ttrain-error:0.448825\n",
      "[1]\teval-error:0.429683\ttrain-error:0.439951\n",
      "[2]\teval-error:0.438965\ttrain-error:0.447128\n",
      "[3]\teval-error:0.431427\ttrain-error:0.439147\n",
      "[4]\teval-error:0.384182\ttrain-error:0.393532\n",
      "[5]\teval-error:0.383216\ttrain-error:0.392445\n",
      "[6]\teval-error:0.379836\ttrain-error:0.390829\n",
      "[7]\teval-error:0.393921\ttrain-error:0.404504\n",
      "[8]\teval-error:0.379782\ttrain-error:0.391855\n",
      "[9]\teval-error:0.376912\ttrain-error:0.389528\n",
      "[10]\teval-error:0.387536\ttrain-error:0.40044\n",
      "[11]\teval-error:0.387831\ttrain-error:0.400299\n",
      "[12]\teval-error:0.389306\ttrain-error:0.401755\n",
      "[13]\teval-error:0.385953\ttrain-error:0.396999\n",
      "[14]\teval-error:0.382036\ttrain-error:0.394068\n",
      "[15]\teval-error:0.379165\ttrain-error:0.391761\n",
      "[16]\teval-error:0.380131\ttrain-error:0.392767\n",
      "[17]\teval-error:0.380667\ttrain-error:0.393974\n",
      "[18]\teval-error:0.379675\ttrain-error:0.394062\n",
      "[19]\teval-error:0.380667\ttrain-error:0.395041\n",
      "[20]\teval-error:0.378602\ttrain-error:0.394068\n",
      "[21]\teval-error:0.374926\ttrain-error:0.392505\n",
      "[22]\teval-error:0.374631\ttrain-error:0.389561\n",
      "[23]\teval-error:0.371546\ttrain-error:0.386208\n",
      "[24]\teval-error:0.370151\ttrain-error:0.385383\n",
      "[25]\teval-error:0.369561\ttrain-error:0.385423\n",
      "[26]\teval-error:0.370875\ttrain-error:0.385738\n",
      "[27]\teval-error:0.372431\ttrain-error:0.38433\n",
      "[28]\teval-error:0.371814\ttrain-error:0.384229\n",
      "[29]\teval-error:0.372539\ttrain-error:0.384075\n",
      "[30]\teval-error:0.37117\ttrain-error:0.382854\n",
      "[31]\teval-error:0.370124\ttrain-error:0.383176\n",
      "[32]\teval-error:0.36889\ttrain-error:0.382143\n",
      "[33]\teval-error:0.369051\ttrain-error:0.382291\n",
      "[34]\teval-error:0.368246\ttrain-error:0.381405\n",
      "[35]\teval-error:0.366609\ttrain-error:0.379836\n",
      "[36]\teval-error:0.366287\ttrain-error:0.379407\n",
      "[37]\teval-error:0.366127\ttrain-error:0.378427\n",
      "[38]\teval-error:0.36618\ttrain-error:0.378441\n",
      "[39]\teval-error:0.364275\ttrain-error:0.375335\n",
      "[40]\teval-error:0.364302\ttrain-error:0.375416\n",
      "[41]\teval-error:0.36001\ttrain-error:0.372585\n",
      "[42]\teval-error:0.360144\ttrain-error:0.370117\n",
      "[43]\teval-error:0.359044\ttrain-error:0.369514\n",
      "[44]\teval-error:0.358695\ttrain-error:0.369608\n",
      "[45]\teval-error:0.356549\ttrain-error:0.367917\n",
      "[46]\teval-error:0.357783\ttrain-error:0.367401\n",
      "[47]\teval-error:0.356388\ttrain-error:0.367629\n",
      "[48]\teval-error:0.354698\ttrain-error:0.365657\n",
      "[49]\teval-error:0.353785\ttrain-error:0.364765\n",
      "[50]\teval-error:0.351934\ttrain-error:0.363222\n",
      "[51]\teval-error:0.351988\ttrain-error:0.362934\n",
      "[52]\teval-error:0.351076\ttrain-error:0.362538\n",
      "[53]\teval-error:0.35172\ttrain-error:0.36288\n",
      "[54]\teval-error:0.348205\ttrain-error:0.36007\n",
      "[55]\teval-error:0.345978\ttrain-error:0.35838\n",
      "[56]\teval-error:0.343269\ttrain-error:0.357199\n",
      "[57]\teval-error:0.341793\ttrain-error:0.35614\n",
      "[58]\teval-error:0.340935\ttrain-error:0.355288\n",
      "[59]\teval-error:0.339218\ttrain-error:0.35502\n",
      "[60]\teval-error:0.33903\ttrain-error:0.352484\n",
      "[61]\teval-error:0.340103\ttrain-error:0.351726\n",
      "[62]\teval-error:0.339754\ttrain-error:0.351223\n",
      "[63]\teval-error:0.33844\ttrain-error:0.349882\n",
      "[64]\teval-error:0.338735\ttrain-error:0.350184\n",
      "[65]\teval-error:0.339003\ttrain-error:0.350573\n",
      "[66]\teval-error:0.33793\ttrain-error:0.349164\n",
      "[67]\teval-error:0.338225\ttrain-error:0.349184\n",
      "[68]\teval-error:0.33632\ttrain-error:0.347709\n",
      "[69]\teval-error:0.336374\ttrain-error:0.347199\n",
      "[70]\teval-error:0.336052\ttrain-error:0.346535\n",
      "[71]\teval-error:0.335489\ttrain-error:0.345931\n",
      "[72]\teval-error:0.335462\ttrain-error:0.345844\n",
      "[73]\teval-error:0.333342\ttrain-error:0.344114\n",
      "[74]\teval-error:0.331652\ttrain-error:0.342833\n",
      "[75]\teval-error:0.331598\ttrain-error:0.342377\n",
      "[76]\teval-error:0.331169\ttrain-error:0.341874\n",
      "[77]\teval-error:0.330686\ttrain-error:0.340921\n",
      "[78]\teval-error:0.330794\ttrain-error:0.340713\n",
      "[79]\teval-error:0.330418\ttrain-error:0.340479\n",
      "[80]\teval-error:0.328299\ttrain-error:0.339184\n",
      "[81]\teval-error:0.328245\ttrain-error:0.339359\n",
      "[82]\teval-error:0.326689\ttrain-error:0.33789\n",
      "[83]\teval-error:0.326313\ttrain-error:0.336991\n",
      "[84]\teval-error:0.326447\ttrain-error:0.33679\n",
      "[85]\teval-error:0.32626\ttrain-error:0.336817\n",
      "[86]\teval-error:0.325025\ttrain-error:0.335904\n",
      "[87]\teval-error:0.324086\ttrain-error:0.334704\n",
      "[88]\teval-error:0.32194\ttrain-error:0.3329\n",
      "[89]\teval-error:0.322235\ttrain-error:0.332537\n",
      "[90]\teval-error:0.321699\ttrain-error:0.332122\n",
      "[91]\teval-error:0.319928\ttrain-error:0.330733\n",
      "[92]\teval-error:0.321457\ttrain-error:0.331431\n",
      "[93]\teval-error:0.321377\ttrain-error:0.330975\n",
      "[94]\teval-error:0.319794\ttrain-error:0.328882\n",
      "[95]\teval-error:0.319713\ttrain-error:0.328178\n",
      "[96]\teval-error:0.316896\ttrain-error:0.325864\n",
      "[97]\teval-error:0.315609\ttrain-error:0.325334\n",
      "[98]\teval-error:0.315421\ttrain-error:0.324791\n",
      "[99]\teval-error:0.31534\ttrain-error:0.324784\n",
      "[100]\teval-error:0.314294\ttrain-error:0.323939\n",
      "[101]\teval-error:0.313436\ttrain-error:0.322638\n",
      "[102]\teval-error:0.312255\ttrain-error:0.321934\n",
      "[103]\teval-error:0.312658\ttrain-error:0.322121\n",
      "[104]\teval-error:0.312282\ttrain-error:0.322155\n",
      "[105]\teval-error:0.313033\ttrain-error:0.321424\n",
      "[106]\teval-error:0.313006\ttrain-error:0.321477\n",
      "[107]\teval-error:0.311531\ttrain-error:0.32017\n",
      "[108]\teval-error:0.311343\ttrain-error:0.317956\n",
      "[109]\teval-error:0.310109\ttrain-error:0.317037\n",
      "[110]\teval-error:0.308392\ttrain-error:0.315884\n",
      "[111]\teval-error:0.307372\ttrain-error:0.315005\n",
      "[112]\teval-error:0.305816\ttrain-error:0.314475\n",
      "[113]\teval-error:0.304797\ttrain-error:0.313335\n",
      "[114]\teval-error:0.304287\ttrain-error:0.312564\n",
      "[115]\teval-error:0.302973\ttrain-error:0.311377\n",
      "[116]\teval-error:0.302838\ttrain-error:0.311195\n",
      "[117]\teval-error:0.302812\ttrain-error:0.310874\n",
      "[118]\teval-error:0.301202\ttrain-error:0.309935\n",
      "[119]\teval-error:0.30088\ttrain-error:0.309183\n",
      "[120]\teval-error:0.300773\ttrain-error:0.309022\n",
      "[121]\teval-error:0.299968\ttrain-error:0.308258\n",
      "[122]\teval-error:0.300397\ttrain-error:0.308378\n",
      "[123]\teval-error:0.299243\ttrain-error:0.308003\n",
      "[124]\teval-error:0.297339\ttrain-error:0.306514\n",
      "[125]\teval-error:0.297258\ttrain-error:0.30634\n",
      "[126]\teval-error:0.297151\ttrain-error:0.30589\n",
      "[127]\teval-error:0.296883\ttrain-error:0.305736\n",
      "[128]\teval-error:0.296883\ttrain-error:0.305743\n",
      "[129]\teval-error:0.29538\ttrain-error:0.304361\n",
      "[130]\teval-error:0.294629\ttrain-error:0.303516\n",
      "[131]\teval-error:0.294173\ttrain-error:0.30304\n",
      "[132]\teval-error:0.293475\ttrain-error:0.302449\n",
      "[133]\teval-error:0.291892\ttrain-error:0.300806\n",
      "[134]\teval-error:0.291544\ttrain-error:0.299954\n",
      "[135]\teval-error:0.289639\ttrain-error:0.299337\n",
      "[136]\teval-error:0.287815\ttrain-error:0.29762\n",
      "[137]\teval-error:0.287841\ttrain-error:0.297506\n",
      "[138]\teval-error:0.286983\ttrain-error:0.296936\n",
      "[139]\teval-error:0.287063\ttrain-error:0.296956\n",
      "[140]\teval-error:0.286393\ttrain-error:0.296353\n",
      "[141]\teval-error:0.286983\ttrain-error:0.296722\n",
      "[142]\teval-error:0.286259\ttrain-error:0.296299\n",
      "[143]\teval-error:0.285346\ttrain-error:0.295487\n",
      "[144]\teval-error:0.28422\ttrain-error:0.294193\n",
      "[145]\teval-error:0.284166\ttrain-error:0.294193\n",
      "[146]\teval-error:0.284783\ttrain-error:0.294032\n",
      "[147]\teval-error:0.284059\ttrain-error:0.293348\n",
      "[148]\teval-error:0.282342\ttrain-error:0.292416\n",
      "[149]\teval-error:0.280946\ttrain-error:0.291389\n",
      "[150]\teval-error:0.280651\ttrain-error:0.291088\n",
      "[151]\teval-error:0.281376\ttrain-error:0.291524\n",
      "[152]\teval-error:0.279766\ttrain-error:0.289679\n",
      "[153]\teval-error:0.278612\ttrain-error:0.28874\n",
      "[154]\teval-error:0.277781\ttrain-error:0.288056\n",
      "[155]\teval-error:0.277593\ttrain-error:0.287808\n",
      "[156]\teval-error:0.276949\ttrain-error:0.287352\n",
      "[157]\teval-error:0.276171\ttrain-error:0.286379\n",
      "[158]\teval-error:0.274803\ttrain-error:0.286004\n",
      "[159]\teval-error:0.275876\ttrain-error:0.285675\n",
      "[160]\teval-error:0.275152\ttrain-error:0.284723\n",
      "[161]\teval-error:0.274695\ttrain-error:0.28436\n",
      "[162]\teval-error:0.273113\ttrain-error:0.282959\n",
      "[163]\teval-error:0.27322\ttrain-error:0.282965\n",
      "[164]\teval-error:0.273139\ttrain-error:0.282764\n",
      "[165]\teval-error:0.273032\ttrain-error:0.282838\n",
      "[166]\teval-error:0.272442\ttrain-error:0.281932\n",
      "[167]\teval-error:0.271718\ttrain-error:0.281611\n",
      "[168]\teval-error:0.271074\ttrain-error:0.279961\n",
      "[169]\teval-error:0.270564\ttrain-error:0.278901\n",
      "[170]\teval-error:0.269544\ttrain-error:0.278136\n",
      "[171]\teval-error:0.269974\ttrain-error:0.27872\n",
      "[172]\teval-error:0.270215\ttrain-error:0.278834\n",
      "[173]\teval-error:0.268391\ttrain-error:0.277895\n",
      "[174]\teval-error:0.268096\ttrain-error:0.277814\n",
      "[175]\teval-error:0.267586\ttrain-error:0.277023\n",
      "[176]\teval-error:0.266969\ttrain-error:0.276413\n",
      "[177]\teval-error:0.266245\ttrain-error:0.275353\n"
     ]
    },
    {
     "name": "stdout",
     "output_type": "stream",
     "text": [
      "[178]\teval-error:0.265547\ttrain-error:0.27438\n",
      "[179]\teval-error:0.266271\ttrain-error:0.274454\n",
      "[180]\teval-error:0.266647\ttrain-error:0.274293\n",
      "[181]\teval-error:0.265788\ttrain-error:0.273468\n",
      "[182]\teval-error:0.265091\ttrain-error:0.273079\n",
      "[183]\teval-error:0.26501\ttrain-error:0.272757\n",
      "[184]\teval-error:0.263454\ttrain-error:0.271684\n",
      "[185]\teval-error:0.263186\ttrain-error:0.271382\n",
      "[186]\teval-error:0.262167\ttrain-error:0.270329\n",
      "[187]\teval-error:0.261791\ttrain-error:0.269464\n",
      "[188]\teval-error:0.261442\ttrain-error:0.269269\n",
      "[189]\teval-error:0.261469\ttrain-error:0.268921\n",
      "[190]\teval-error:0.25994\ttrain-error:0.266862\n",
      "[191]\teval-error:0.25935\ttrain-error:0.266473\n",
      "[192]\teval-error:0.259484\ttrain-error:0.266144\n",
      "[193]\teval-error:0.258464\ttrain-error:0.265453\n",
      "[194]\teval-error:0.258169\ttrain-error:0.265098\n",
      "[195]\teval-error:0.258759\ttrain-error:0.265715\n",
      "[196]\teval-error:0.257874\ttrain-error:0.26489\n",
      "[197]\teval-error:0.25723\ttrain-error:0.264293\n",
      "[198]\teval-error:0.25656\ttrain-error:0.263823\n",
      "[199]\teval-error:0.25613\ttrain-error:0.262904\n",
      "[200]\teval-error:0.255889\ttrain-error:0.262596\n",
      "[201]\teval-error:0.254762\ttrain-error:0.261784\n",
      "[202]\teval-error:0.254118\ttrain-error:0.261013\n",
      "[203]\teval-error:0.254225\ttrain-error:0.260785\n",
      "[204]\teval-error:0.253689\ttrain-error:0.260604\n",
      "[205]\teval-error:0.253286\ttrain-error:0.260094\n",
      "[206]\teval-error:0.252643\ttrain-error:0.259457\n",
      "[207]\teval-error:0.252616\ttrain-error:0.259336\n",
      "[208]\teval-error:0.251301\ttrain-error:0.258417\n",
      "[209]\teval-error:0.25063\ttrain-error:0.257834\n",
      "[210]\teval-error:0.249665\ttrain-error:0.256888\n",
      "[211]\teval-error:0.249128\ttrain-error:0.256694\n",
      "[212]\teval-error:0.248592\ttrain-error:0.25548\n",
      "[213]\teval-error:0.248377\ttrain-error:0.254688\n",
      "[214]\teval-error:0.24827\ttrain-error:0.254527\n",
      "[215]\teval-error:0.24827\ttrain-error:0.25381\n",
      "[216]\teval-error:0.247089\ttrain-error:0.253099\n",
      "[217]\teval-error:0.247733\ttrain-error:0.253488\n",
      "[218]\teval-error:0.247277\ttrain-error:0.252851\n",
      "[219]\teval-error:0.247223\ttrain-error:0.252891\n",
      "[220]\teval-error:0.245775\ttrain-error:0.251865\n",
      "[221]\teval-error:0.245775\ttrain-error:0.251797\n",
      "[222]\teval-error:0.24395\ttrain-error:0.250751\n",
      "[223]\teval-error:0.243226\ttrain-error:0.250288\n",
      "[224]\teval-error:0.242528\ttrain-error:0.249685\n",
      "[225]\teval-error:0.242233\ttrain-error:0.249564\n",
      "[226]\teval-error:0.242448\ttrain-error:0.249584\n",
      "[227]\teval-error:0.241697\ttrain-error:0.249235\n",
      "[228]\teval-error:0.240811\ttrain-error:0.248001\n",
      "[229]\teval-error:0.240194\ttrain-error:0.247767\n",
      "[230]\teval-error:0.240543\ttrain-error:0.247733\n",
      "[231]\teval-error:0.240409\ttrain-error:0.247451\n",
      "[232]\teval-error:0.239711\ttrain-error:0.246921\n",
      "[233]\teval-error:0.239094\ttrain-error:0.246405\n",
      "[234]\teval-error:0.239282\ttrain-error:0.246485\n",
      "[235]\teval-error:0.238772\ttrain-error:0.245835\n",
      "[236]\teval-error:0.238236\ttrain-error:0.245312\n",
      "[237]\teval-error:0.237216\ttrain-error:0.243883\n",
      "[238]\teval-error:0.237136\ttrain-error:0.243212\n",
      "[239]\teval-error:0.236304\ttrain-error:0.242676\n",
      "[240]\teval-error:0.235687\ttrain-error:0.242528\n",
      "[241]\teval-error:0.235392\ttrain-error:0.242119\n",
      "[242]\teval-error:0.234909\ttrain-error:0.241529\n",
      "[243]\teval-error:0.233729\ttrain-error:0.241133\n",
      "[244]\teval-error:0.233407\ttrain-error:0.240268\n",
      "[245]\teval-error:0.231502\ttrain-error:0.239644\n",
      "[246]\teval-error:0.231314\ttrain-error:0.23951\n",
      "[247]\teval-error:0.231046\ttrain-error:0.239088\n",
      "[248]\teval-error:0.230214\ttrain-error:0.238538\n",
      "[249]\teval-error:0.229999\ttrain-error:0.238061\n",
      "[250]\teval-error:0.228578\ttrain-error:0.23725\n",
      "[251]\teval-error:0.227907\ttrain-error:0.237002\n",
      "[252]\teval-error:0.227585\ttrain-error:0.236868\n",
      "[253]\teval-error:0.227317\ttrain-error:0.236485\n",
      "[254]\teval-error:0.227022\ttrain-error:0.235922\n",
      "[255]\teval-error:0.225626\ttrain-error:0.235224\n",
      "[256]\teval-error:0.226243\ttrain-error:0.235218\n",
      "[257]\teval-error:0.225439\ttrain-error:0.234319\n",
      "[258]\teval-error:0.225304\ttrain-error:0.234151\n",
      "[259]\teval-error:0.224607\ttrain-error:0.233226\n",
      "[260]\teval-error:0.224419\ttrain-error:0.233125\n",
      "[261]\teval-error:0.224178\ttrain-error:0.232716\n",
      "[262]\teval-error:0.22348\ttrain-error:0.232166\n",
      "[263]\teval-error:0.223185\ttrain-error:0.231435\n",
      "[264]\teval-error:0.223158\ttrain-error:0.231529\n",
      "[265]\teval-error:0.222917\ttrain-error:0.231079\n",
      "[266]\teval-error:0.221629\ttrain-error:0.230516\n",
      "[267]\teval-error:0.220905\ttrain-error:0.229503\n",
      "[268]\teval-error:0.22061\ttrain-error:0.229054\n",
      "[269]\teval-error:0.22069\ttrain-error:0.228785\n",
      "[270]\teval-error:0.220314\ttrain-error:0.228363\n",
      "[271]\teval-error:0.219939\ttrain-error:0.227364\n",
      "[272]\teval-error:0.219751\ttrain-error:0.227498\n",
      "[273]\teval-error:0.218222\ttrain-error:0.226954\n",
      "[274]\teval-error:0.217954\ttrain-error:0.226867\n",
      "[275]\teval-error:0.217444\ttrain-error:0.226411\n",
      "[276]\teval-error:0.216719\ttrain-error:0.225834\n",
      "[277]\teval-error:0.215646\ttrain-error:0.225546\n",
      "[278]\teval-error:0.213795\ttrain-error:0.224667\n",
      "[279]\teval-error:0.213661\ttrain-error:0.22448\n",
      "[280]\teval-error:0.213473\ttrain-error:0.224359\n",
      "[281]\teval-error:0.211944\ttrain-error:0.222608\n",
      "[282]\teval-error:0.212078\ttrain-error:0.222628\n",
      "[283]\teval-error:0.212588\ttrain-error:0.222011\n",
      "[284]\teval-error:0.212695\ttrain-error:0.222166\n",
      "[285]\teval-error:0.212534\ttrain-error:0.222065\n",
      "[286]\teval-error:0.211783\ttrain-error:0.22126\n",
      "[287]\teval-error:0.212105\ttrain-error:0.221354\n",
      "[288]\teval-error:0.211864\ttrain-error:0.22118\n",
      "[289]\teval-error:0.211461\ttrain-error:0.220777\n",
      "[290]\teval-error:0.209851\ttrain-error:0.219483\n",
      "[291]\teval-error:0.211139\ttrain-error:0.218966\n",
      "[292]\teval-error:0.21079\ttrain-error:0.218752\n",
      "[293]\teval-error:0.210227\ttrain-error:0.21845\n",
      "[294]\teval-error:0.2102\ttrain-error:0.218269\n",
      "[295]\teval-error:0.21012\ttrain-error:0.218322\n",
      "[296]\teval-error:0.210254\ttrain-error:0.218336\n",
      "[297]\teval-error:0.208859\ttrain-error:0.216927\n",
      "[298]\teval-error:0.208644\ttrain-error:0.21678\n",
      "[299]\teval-error:0.208215\ttrain-error:0.216431\n",
      "[300]\teval-error:0.207973\ttrain-error:0.216109\n",
      "[301]\teval-error:0.207169\ttrain-error:0.215378\n",
      "[302]\teval-error:0.207008\ttrain-error:0.21523\n",
      "[303]\teval-error:0.20741\ttrain-error:0.215539\n",
      "[304]\teval-error:0.206954\ttrain-error:0.215244\n",
      "[305]\teval-error:0.206364\ttrain-error:0.214828\n",
      "[306]\teval-error:0.205773\ttrain-error:0.214184\n",
      "[307]\teval-error:0.20572\ttrain-error:0.214224\n",
      "[308]\teval-error:0.204593\ttrain-error:0.21291\n",
      "[309]\teval-error:0.204352\ttrain-error:0.212849\n",
      "[310]\teval-error:0.203922\ttrain-error:0.212353\n",
      "[311]\teval-error:0.203386\ttrain-error:0.211682\n",
      "[312]\teval-error:0.203091\ttrain-error:0.211186\n",
      "[313]\teval-error:0.20293\ttrain-error:0.211025\n",
      "[314]\teval-error:0.202661\ttrain-error:0.210985\n",
      "[315]\teval-error:0.2025\ttrain-error:0.210502\n",
      "[316]\teval-error:0.201293\ttrain-error:0.210086\n",
      "[317]\teval-error:0.200703\ttrain-error:0.209415\n",
      "[318]\teval-error:0.200649\ttrain-error:0.208664\n",
      "[319]\teval-error:0.199657\ttrain-error:0.207799\n",
      "[320]\teval-error:0.197886\ttrain-error:0.207987\n",
      "[321]\teval-error:0.197457\ttrain-error:0.20743\n",
      "[322]\teval-error:0.197725\ttrain-error:0.207276\n",
      "[323]\teval-error:0.196303\ttrain-error:0.206491\n",
      "[324]\teval-error:0.196357\ttrain-error:0.206464\n",
      "[325]\teval-error:0.196357\ttrain-error:0.206545\n",
      "[326]\teval-error:0.19582\ttrain-error:0.205968\n",
      "[327]\teval-error:0.195337\ttrain-error:0.205498\n",
      "[328]\teval-error:0.195498\ttrain-error:0.205552\n",
      "[329]\teval-error:0.19574\ttrain-error:0.205378\n",
      "[330]\teval-error:0.195391\ttrain-error:0.204627\n",
      "[331]\teval-error:0.195069\ttrain-error:0.204432\n",
      "[332]\teval-error:0.194371\ttrain-error:0.203895\n",
      "[333]\teval-error:0.19413\ttrain-error:0.203701\n",
      "[334]\teval-error:0.193862\ttrain-error:0.203426\n",
      "[335]\teval-error:0.194157\ttrain-error:0.20358\n",
      "[336]\teval-error:0.194398\ttrain-error:0.203775\n",
      "[337]\teval-error:0.193889\ttrain-error:0.203231\n",
      "[338]\teval-error:0.19311\ttrain-error:0.202527\n",
      "[339]\teval-error:0.193271\ttrain-error:0.202413\n",
      "[340]\teval-error:0.192279\ttrain-error:0.201494\n",
      "[341]\teval-error:0.191554\ttrain-error:0.20126\n",
      "[342]\teval-error:0.191393\ttrain-error:0.200958\n",
      "[343]\teval-error:0.191072\ttrain-error:0.200502\n",
      "[344]\teval-error:0.191018\ttrain-error:0.200341\n",
      "[345]\teval-error:0.190508\ttrain-error:0.199844\n",
      "[346]\teval-error:0.190454\ttrain-error:0.200012\n",
      "[347]\teval-error:0.190481\ttrain-error:0.200166\n",
      "[348]\teval-error:0.190213\ttrain-error:0.199207\n",
      "[349]\teval-error:0.189703\ttrain-error:0.198926\n",
      "[350]\teval-error:0.19024\ttrain-error:0.199113\n",
      "[351]\teval-error:0.188979\ttrain-error:0.198067\n",
      "[352]\teval-error:0.188523\ttrain-error:0.197765\n",
      "[353]\teval-error:0.188711\ttrain-error:0.19692\n"
     ]
    },
    {
     "name": "stdout",
     "output_type": "stream",
     "text": [
      "[354]\teval-error:0.189033\ttrain-error:0.197088\n",
      "[355]\teval-error:0.18863\ttrain-error:0.197121\n",
      "[356]\teval-error:0.188469\ttrain-error:0.196853\n",
      "[357]\teval-error:0.189113\ttrain-error:0.196343\n",
      "[358]\teval-error:0.188201\ttrain-error:0.195787\n",
      "[359]\teval-error:0.187718\ttrain-error:0.195485\n",
      "[360]\teval-error:0.187235\ttrain-error:0.194854\n",
      "[361]\teval-error:0.186859\ttrain-error:0.194492\n",
      "[362]\teval-error:0.18635\ttrain-error:0.193781\n",
      "[363]\teval-error:0.185974\ttrain-error:0.193634\n",
      "[364]\teval-error:0.186484\ttrain-error:0.193292\n",
      "[365]\teval-error:0.186403\ttrain-error:0.193298\n",
      "[366]\teval-error:0.18635\ttrain-error:0.193312\n",
      "[367]\teval-error:0.185733\ttrain-error:0.192648\n",
      "[368]\teval-error:0.184847\ttrain-error:0.19252\n",
      "[369]\teval-error:0.184525\ttrain-error:0.19195\n",
      "[370]\teval-error:0.184203\ttrain-error:0.191964\n",
      "[371]\teval-error:0.183935\ttrain-error:0.191474\n",
      "[372]\teval-error:0.18305\ttrain-error:0.190971\n",
      "[373]\teval-error:0.183479\ttrain-error:0.191467\n",
      "[374]\teval-error:0.183077\ttrain-error:0.190837\n",
      "[375]\teval-error:0.182969\ttrain-error:0.19081\n",
      "[376]\teval-error:0.182352\ttrain-error:0.190361\n",
      "[377]\teval-error:0.182138\ttrain-error:0.189898\n",
      "[378]\teval-error:0.181843\ttrain-error:0.189643\n",
      "[379]\teval-error:0.180394\ttrain-error:0.188925\n",
      "[380]\teval-error:0.180045\ttrain-error:0.188845\n",
      "[381]\teval-error:0.180072\ttrain-error:0.188771\n",
      "[382]\teval-error:0.179965\ttrain-error:0.188516\n",
      "[383]\teval-error:0.179911\ttrain-error:0.188623\n",
      "[384]\teval-error:0.179079\ttrain-error:0.18804\n",
      "[385]\teval-error:0.178811\ttrain-error:0.187798\n",
      "[386]\teval-error:0.178462\ttrain-error:0.187557\n",
      "[387]\teval-error:0.178328\ttrain-error:0.187463\n",
      "[388]\teval-error:0.17865\ttrain-error:0.187316\n",
      "[389]\teval-error:0.178248\ttrain-error:0.186759\n",
      "[390]\teval-error:0.177926\ttrain-error:0.186437\n",
      "[391]\teval-error:0.176611\ttrain-error:0.185303\n",
      "[392]\teval-error:0.17704\ttrain-error:0.185163\n",
      "[393]\teval-error:0.176718\ttrain-error:0.184794\n",
      "[394]\teval-error:0.176826\ttrain-error:0.18466\n",
      "[395]\teval-error:0.176048\ttrain-error:0.183908\n",
      "[396]\teval-error:0.176155\ttrain-error:0.183573\n",
      "[397]\teval-error:0.173848\ttrain-error:0.182554\n",
      "[398]\teval-error:0.174196\ttrain-error:0.182721\n",
      "[399]\teval-error:0.17366\ttrain-error:0.182386\n",
      "[400]\teval-error:0.173848\ttrain-error:0.182466\n",
      "[401]\teval-error:0.17366\ttrain-error:0.182071\n",
      "[402]\teval-error:0.17374\ttrain-error:0.181769\n",
      "[403]\teval-error:0.173392\ttrain-error:0.181467\n",
      "[404]\teval-error:0.173231\ttrain-error:0.181199\n",
      "[405]\teval-error:0.172936\ttrain-error:0.181044\n",
      "[406]\teval-error:0.171165\ttrain-error:0.180649\n",
      "[407]\teval-error:0.171299\ttrain-error:0.180287\n",
      "[408]\teval-error:0.171084\ttrain-error:0.180193\n",
      "[409]\teval-error:0.171111\ttrain-error:0.180139\n",
      "[410]\teval-error:0.170897\ttrain-error:0.179656\n",
      "[411]\teval-error:0.170092\ttrain-error:0.178992\n",
      "[412]\teval-error:0.169931\ttrain-error:0.178603\n",
      "[413]\teval-error:0.168911\ttrain-error:0.177745\n",
      "[414]\teval-error:0.16875\ttrain-error:0.177691\n",
      "[415]\teval-error:0.168294\ttrain-error:0.177235\n",
      "[416]\teval-error:0.168455\ttrain-error:0.17753\n",
      "[417]\teval-error:0.168106\ttrain-error:0.177523\n",
      "[418]\teval-error:0.167785\ttrain-error:0.177443\n",
      "[419]\teval-error:0.167677\ttrain-error:0.177288\n",
      "[420]\teval-error:0.167516\ttrain-error:0.177127\n",
      "[421]\teval-error:0.167677\ttrain-error:0.177168\n",
      "[422]\teval-error:0.166711\ttrain-error:0.17637\n",
      "[423]\teval-error:0.165638\ttrain-error:0.175337\n",
      "[424]\teval-error:0.165638\ttrain-error:0.174666\n",
      "[425]\teval-error:0.166041\ttrain-error:0.174948\n",
      "[426]\teval-error:0.165558\ttrain-error:0.174901\n",
      "[427]\teval-error:0.164968\ttrain-error:0.174371\n",
      "[428]\teval-error:0.164646\ttrain-error:0.173801\n",
      "[429]\teval-error:0.164136\ttrain-error:0.173123\n",
      "[430]\teval-error:0.164699\ttrain-error:0.172936\n",
      "[431]\teval-error:0.164538\ttrain-error:0.17313\n",
      "[432]\teval-error:0.164458\ttrain-error:0.172902\n",
      "[433]\teval-error:0.164109\ttrain-error:0.172245\n",
      "[434]\teval-error:0.163653\ttrain-error:0.172298\n",
      "[435]\teval-error:0.163653\ttrain-error:0.172171\n",
      "[436]\teval-error:0.162929\ttrain-error:0.171715\n",
      "[437]\teval-error:0.162392\ttrain-error:0.170957\n",
      "[438]\teval-error:0.161668\ttrain-error:0.170139\n",
      "[439]\teval-error:0.16156\ttrain-error:0.16975\n",
      "[440]\teval-error:0.161185\ttrain-error:0.169374\n",
      "[441]\teval-error:0.161077\ttrain-error:0.169213\n",
      "[442]\teval-error:0.160648\ttrain-error:0.168878\n",
      "[443]\teval-error:0.160085\ttrain-error:0.168207\n",
      "[444]\teval-error:0.159897\ttrain-error:0.168086\n",
      "[445]\teval-error:0.159843\ttrain-error:0.16763\n",
      "[446]\teval-error:0.159843\ttrain-error:0.167624\n",
      "[447]\teval-error:0.159199\ttrain-error:0.167174\n",
      "[448]\teval-error:0.158636\ttrain-error:0.166725\n",
      "[449]\teval-error:0.158878\ttrain-error:0.167087\n",
      "[450]\teval-error:0.158878\ttrain-error:0.166758\n",
      "[451]\teval-error:0.158663\ttrain-error:0.166389\n",
      "[452]\teval-error:0.158663\ttrain-error:0.166463\n",
      "[453]\teval-error:0.158448\ttrain-error:0.166282\n",
      "[454]\teval-error:0.157992\ttrain-error:0.165585\n",
      "[455]\teval-error:0.15759\ttrain-error:0.165363\n",
      "[456]\teval-error:0.15708\ttrain-error:0.164941\n",
      "[457]\teval-error:0.157\ttrain-error:0.164914\n",
      "[458]\teval-error:0.157482\ttrain-error:0.164257\n",
      "[459]\teval-error:0.156624\ttrain-error:0.163693\n",
      "[460]\teval-error:0.156356\ttrain-error:0.163291\n",
      "[461]\teval-error:0.156436\ttrain-error:0.163338\n",
      "[462]\teval-error:0.156356\ttrain-error:0.163217\n",
      "[463]\teval-error:0.155926\ttrain-error:0.162908\n",
      "[464]\teval-error:0.155524\ttrain-error:0.162479\n",
      "[465]\teval-error:0.155175\ttrain-error:0.161735\n",
      "[466]\teval-error:0.155148\ttrain-error:0.161728\n",
      "[467]\teval-error:0.155148\ttrain-error:0.161728\n",
      "[468]\teval-error:0.154987\ttrain-error:0.161587\n",
      "[469]\teval-error:0.1548\ttrain-error:0.161426\n",
      "[470]\teval-error:0.155014\ttrain-error:0.161641\n",
      "[471]\teval-error:0.154558\ttrain-error:0.161413\n",
      "[472]\teval-error:0.154236\ttrain-error:0.160715\n",
      "[473]\teval-error:0.154075\ttrain-error:0.160608\n",
      "[474]\teval-error:0.153807\ttrain-error:0.160065\n",
      "[475]\teval-error:0.153217\ttrain-error:0.159448\n",
      "[476]\teval-error:0.152895\ttrain-error:0.159173\n",
      "[477]\teval-error:0.152626\ttrain-error:0.158911\n",
      "[478]\teval-error:0.152546\ttrain-error:0.158455\n",
      "[479]\teval-error:0.152117\ttrain-error:0.15822\n",
      "[480]\teval-error:0.151178\ttrain-error:0.15761\n",
      "[481]\teval-error:0.150936\ttrain-error:0.157348\n",
      "[482]\teval-error:0.150266\ttrain-error:0.156731\n",
      "[483]\teval-error:0.150239\ttrain-error:0.156644\n",
      "[484]\teval-error:0.150024\ttrain-error:0.156\n",
      "[485]\teval-error:0.149273\ttrain-error:0.155651\n",
      "[486]\teval-error:0.149031\ttrain-error:0.155524\n",
      "[487]\teval-error:0.149112\ttrain-error:0.155289\n",
      "[488]\teval-error:0.148629\ttrain-error:0.154947\n",
      "[489]\teval-error:0.148253\ttrain-error:0.154826\n",
      "[490]\teval-error:0.147797\ttrain-error:0.154216\n",
      "[491]\teval-error:0.147663\ttrain-error:0.154069\n",
      "[492]\teval-error:0.146939\ttrain-error:0.153592\n",
      "[493]\teval-error:0.146644\ttrain-error:0.153116\n",
      "[494]\teval-error:0.146536\ttrain-error:0.1526\n",
      "[495]\teval-error:0.146483\ttrain-error:0.152506\n",
      "[496]\teval-error:0.145919\ttrain-error:0.151936\n",
      "[497]\teval-error:0.145893\ttrain-error:0.151761\n",
      "[498]\teval-error:0.145571\ttrain-error:0.15148\n",
      "[499]\teval-error:0.145329\ttrain-error:0.151151\n",
      "[500]\teval-error:0.145061\ttrain-error:0.15101\n",
      "[501]\teval-error:0.144578\ttrain-error:0.150487\n",
      "[502]\teval-error:0.144015\ttrain-error:0.150024\n",
      "[503]\teval-error:0.14439\ttrain-error:0.150292\n",
      "[504]\teval-error:0.144337\ttrain-error:0.150386\n",
      "[505]\teval-error:0.144068\ttrain-error:0.149897\n",
      "[506]\teval-error:0.143612\ttrain-error:0.14934\n",
      "[507]\teval-error:0.142432\ttrain-error:0.148602\n",
      "[508]\teval-error:0.142593\ttrain-error:0.148455\n",
      "[509]\teval-error:0.142137\ttrain-error:0.1482\n",
      "[510]\teval-error:0.141627\ttrain-error:0.147925\n",
      "[511]\teval-error:0.140983\ttrain-error:0.14771\n",
      "[512]\teval-error:0.140983\ttrain-error:0.147147\n",
      "[513]\teval-error:0.141895\ttrain-error:0.147053\n",
      "[514]\teval-error:0.141842\ttrain-error:0.147147\n",
      "[515]\teval-error:0.141976\ttrain-error:0.147368\n",
      "[516]\teval-error:0.141761\ttrain-error:0.147039\n",
      "[517]\teval-error:0.141412\ttrain-error:0.146637\n",
      "[518]\teval-error:0.140876\ttrain-error:0.145926\n",
      "[519]\teval-error:0.140795\ttrain-error:0.14551\n",
      "[520]\teval-error:0.140768\ttrain-error:0.145128\n",
      "[521]\teval-error:0.140768\ttrain-error:0.145289\n",
      "[522]\teval-error:0.140795\ttrain-error:0.145027\n",
      "[523]\teval-error:0.140178\ttrain-error:0.144055\n",
      "[524]\teval-error:0.140259\ttrain-error:0.144041\n",
      "[525]\teval-error:0.139695\ttrain-error:0.14382\n",
      "[526]\teval-error:0.139373\ttrain-error:0.143599\n",
      "[527]\teval-error:0.138917\ttrain-error:0.143438\n",
      "[528]\teval-error:0.138837\ttrain-error:0.143216\n",
      "[529]\teval-error:0.138971\ttrain-error:0.14317\n"
     ]
    },
    {
     "name": "stdout",
     "output_type": "stream",
     "text": [
      "[530]\teval-error:0.13889\ttrain-error:0.143029\n",
      "[531]\teval-error:0.138542\ttrain-error:0.142767\n",
      "[532]\teval-error:0.13779\ttrain-error:0.142063\n",
      "[533]\teval-error:0.137495\ttrain-error:0.141667\n",
      "[534]\teval-error:0.137898\ttrain-error:0.141647\n",
      "[535]\teval-error:0.137442\ttrain-error:0.141499\n",
      "[536]\teval-error:0.136878\ttrain-error:0.14109\n",
      "[537]\teval-error:0.136583\ttrain-error:0.140842\n",
      "[538]\teval-error:0.136529\ttrain-error:0.140775\n",
      "[539]\teval-error:0.136932\ttrain-error:0.140815\n",
      "[540]\teval-error:0.137012\ttrain-error:0.140876\n",
      "[541]\teval-error:0.136583\ttrain-error:0.140574\n",
      "[542]\teval-error:0.1361\ttrain-error:0.140111\n",
      "[543]\teval-error:0.135269\ttrain-error:0.139635\n",
      "[544]\teval-error:0.135188\ttrain-error:0.13946\n",
      "[545]\teval-error:0.134678\ttrain-error:0.139145\n",
      "[546]\teval-error:0.135161\ttrain-error:0.139541\n",
      "[547]\teval-error:0.13492\ttrain-error:0.139306\n",
      "[548]\teval-error:0.134786\ttrain-error:0.139232\n",
      "[549]\teval-error:0.134598\ttrain-error:0.138884\n",
      "[550]\teval-error:0.134356\ttrain-error:0.138347\n",
      "[551]\teval-error:0.133525\ttrain-error:0.137804\n",
      "[552]\teval-error:0.133417\ttrain-error:0.137562\n",
      "[553]\teval-error:0.132908\ttrain-error:0.137012\n",
      "[554]\teval-error:0.132586\ttrain-error:0.136825\n",
      "[555]\teval-error:0.132666\ttrain-error:0.136945\n",
      "[556]\teval-error:0.132613\ttrain-error:0.136925\n",
      "[557]\teval-error:0.131727\ttrain-error:0.136375\n",
      "[558]\teval-error:0.131513\ttrain-error:0.136154\n",
      "[559]\teval-error:0.130627\ttrain-error:0.13553\n",
      "[560]\teval-error:0.130466\ttrain-error:0.135383\n",
      "[561]\teval-error:0.130547\ttrain-error:0.135389\n",
      "[562]\teval-error:0.130332\ttrain-error:0.135289\n",
      "[563]\teval-error:0.129983\ttrain-error:0.134973\n",
      "[564]\teval-error:0.1306\ttrain-error:0.13496\n",
      "[565]\teval-error:0.130144\ttrain-error:0.134564\n",
      "[566]\teval-error:0.129769\ttrain-error:0.13433\n",
      "[567]\teval-error:0.129581\ttrain-error:0.133847\n",
      "[568]\teval-error:0.129393\ttrain-error:0.133759\n",
      "[569]\teval-error:0.128883\ttrain-error:0.133344\n",
      "[570]\teval-error:0.128347\ttrain-error:0.132941\n",
      "[571]\teval-error:0.129044\ttrain-error:0.132981\n",
      "[572]\teval-error:0.128105\ttrain-error:0.131969\n",
      "[573]\teval-error:0.127971\ttrain-error:0.131902\n",
      "[574]\teval-error:0.128025\ttrain-error:0.131519\n",
      "[575]\teval-error:0.128186\ttrain-error:0.131392\n",
      "[576]\teval-error:0.127918\ttrain-error:0.131472\n",
      "[577]\teval-error:0.12773\ttrain-error:0.131184\n",
      "[578]\teval-error:0.127596\ttrain-error:0.131137\n",
      "[579]\teval-error:0.127354\ttrain-error:0.130782\n",
      "[580]\teval-error:0.127381\ttrain-error:0.130493\n",
      "[581]\teval-error:0.127515\ttrain-error:0.130379\n",
      "[582]\teval-error:0.127569\ttrain-error:0.130272\n",
      "[583]\teval-error:0.127327\ttrain-error:0.130071\n",
      "[584]\teval-error:0.127435\ttrain-error:0.130218\n",
      "[585]\teval-error:0.127327\ttrain-error:0.130138\n",
      "[586]\teval-error:0.126979\ttrain-error:0.129695\n",
      "[587]\teval-error:0.126442\ttrain-error:0.129319\n",
      "[588]\teval-error:0.126362\ttrain-error:0.129038\n",
      "[589]\teval-error:0.125959\ttrain-error:0.128836\n",
      "[590]\teval-error:0.125718\ttrain-error:0.128702\n",
      "[591]\teval-error:0.125476\ttrain-error:0.128494\n",
      "[592]\teval-error:0.124913\ttrain-error:0.128005\n",
      "[593]\teval-error:0.12443\ttrain-error:0.127743\n",
      "[594]\teval-error:0.124296\ttrain-error:0.127656\n",
      "[595]\teval-error:0.124323\ttrain-error:0.127663\n",
      "[596]\teval-error:0.12384\ttrain-error:0.127327\n",
      "[597]\teval-error:0.123437\ttrain-error:0.127059\n",
      "[598]\teval-error:0.123142\ttrain-error:0.126844\n",
      "[599]\teval-error:0.123491\ttrain-error:0.126858\n",
      "[600]\teval-error:0.123303\ttrain-error:0.126764\n",
      "[601]\teval-error:0.12333\ttrain-error:0.12669\n",
      "[602]\teval-error:0.123276\ttrain-error:0.126556\n",
      "[603]\teval-error:0.122847\ttrain-error:0.126053\n",
      "[604]\teval-error:0.122123\ttrain-error:0.125644\n",
      "[605]\teval-error:0.12223\ttrain-error:0.125154\n",
      "[606]\teval-error:0.12223\ttrain-error:0.125309\n",
      "[607]\teval-error:0.121989\ttrain-error:0.125255\n",
      "[608]\teval-error:0.122149\ttrain-error:0.125161\n",
      "[609]\teval-error:0.122015\ttrain-error:0.125007\n",
      "[610]\teval-error:0.121693\ttrain-error:0.124591\n",
      "[611]\teval-error:0.121586\ttrain-error:0.124396\n",
      "[612]\teval-error:0.121828\ttrain-error:0.12439\n",
      "[613]\teval-error:0.122123\ttrain-error:0.124557\n",
      "[614]\teval-error:0.121881\ttrain-error:0.124356\n",
      "[615]\teval-error:0.121774\ttrain-error:0.124229\n",
      "[616]\teval-error:0.120889\ttrain-error:0.123565\n",
      "[617]\teval-error:0.120835\ttrain-error:0.123511\n",
      "[618]\teval-error:0.120647\ttrain-error:0.123337\n",
      "[619]\teval-error:0.11995\ttrain-error:0.123149\n",
      "[620]\teval-error:0.119842\ttrain-error:0.122968\n",
      "[621]\teval-error:0.119976\ttrain-error:0.122324\n",
      "[622]\teval-error:0.119306\ttrain-error:0.122317\n",
      "[623]\teval-error:0.118769\ttrain-error:0.122042\n",
      "[624]\teval-error:0.118903\ttrain-error:0.122129\n",
      "[625]\teval-error:0.11893\ttrain-error:0.122116\n",
      "[626]\teval-error:0.118796\ttrain-error:0.12168\n",
      "[627]\teval-error:0.11834\ttrain-error:0.121237\n",
      "[628]\teval-error:0.118367\ttrain-error:0.121023\n",
      "[629]\teval-error:0.118098\ttrain-error:0.120882\n",
      "[630]\teval-error:0.117937\ttrain-error:0.120728\n",
      "[631]\teval-error:0.117911\ttrain-error:0.120533\n",
      "[632]\teval-error:0.117669\ttrain-error:0.120352\n",
      "[633]\teval-error:0.117589\ttrain-error:0.120164\n",
      "[634]\teval-error:0.117589\ttrain-error:0.120104\n",
      "[635]\teval-error:0.117776\ttrain-error:0.120104\n",
      "[636]\teval-error:0.117696\ttrain-error:0.120084\n",
      "[637]\teval-error:0.117481\ttrain-error:0.119929\n",
      "[638]\teval-error:0.117186\ttrain-error:0.119507\n",
      "[639]\teval-error:0.116703\ttrain-error:0.119037\n",
      "[640]\teval-error:0.116462\ttrain-error:0.119091\n",
      "[641]\teval-error:0.116677\ttrain-error:0.119366\n",
      "[642]\teval-error:0.115979\ttrain-error:0.118575\n",
      "[643]\teval-error:0.115738\ttrain-error:0.118702\n",
      "[644]\teval-error:0.115738\ttrain-error:0.118595\n",
      "[645]\teval-error:0.11512\ttrain-error:0.117964\n",
      "[646]\teval-error:0.114852\ttrain-error:0.117609\n",
      "[647]\teval-error:0.114825\ttrain-error:0.117569\n",
      "[648]\teval-error:0.114369\ttrain-error:0.117508\n",
      "[649]\teval-error:0.114101\ttrain-error:0.116985\n",
      "[650]\teval-error:0.113564\ttrain-error:0.11665\n",
      "[651]\teval-error:0.113484\ttrain-error:0.11663\n",
      "[652]\teval-error:0.113591\ttrain-error:0.116321\n",
      "[653]\teval-error:0.11276\ttrain-error:0.1162\n",
      "[654]\teval-error:0.112545\ttrain-error:0.116006\n",
      "[655]\teval-error:0.112357\ttrain-error:0.115925\n",
      "[656]\teval-error:0.111955\ttrain-error:0.115644\n",
      "[657]\teval-error:0.111552\ttrain-error:0.114953\n",
      "[658]\teval-error:0.111767\ttrain-error:0.114752\n",
      "[659]\teval-error:0.111445\ttrain-error:0.114483\n",
      "[660]\teval-error:0.111364\ttrain-error:0.114269\n",
      "[661]\teval-error:0.110801\ttrain-error:0.114088\n",
      "[662]\teval-error:0.110157\ttrain-error:0.113947\n",
      "[663]\teval-error:0.109862\ttrain-error:0.113524\n",
      "[664]\teval-error:0.109835\ttrain-error:0.113424\n",
      "[665]\teval-error:0.109728\ttrain-error:0.113075\n",
      "[666]\teval-error:0.108923\ttrain-error:0.112404\n",
      "[667]\teval-error:0.108574\ttrain-error:0.11225\n",
      "[668]\teval-error:0.108306\ttrain-error:0.111961\n",
      "[669]\teval-error:0.107743\ttrain-error:0.111519\n",
      "[670]\teval-error:0.107984\ttrain-error:0.111566\n",
      "[671]\teval-error:0.107582\ttrain-error:0.111351\n",
      "[672]\teval-error:0.107609\ttrain-error:0.111297\n",
      "[673]\teval-error:0.107635\ttrain-error:0.111385\n",
      "[674]\teval-error:0.10734\ttrain-error:0.111029\n",
      "[675]\teval-error:0.107233\ttrain-error:0.111043\n",
      "[676]\teval-error:0.107072\ttrain-error:0.110895\n",
      "[677]\teval-error:0.10667\ttrain-error:0.110519\n",
      "[678]\teval-error:0.106106\ttrain-error:0.110117\n",
      "[679]\teval-error:0.106509\ttrain-error:0.110466\n",
      "[680]\teval-error:0.106294\ttrain-error:0.110271\n",
      "[681]\teval-error:0.106267\ttrain-error:0.110224\n",
      "[682]\teval-error:0.106374\ttrain-error:0.110318\n",
      "[683]\teval-error:0.106482\ttrain-error:0.110425\n",
      "[684]\teval-error:0.10616\ttrain-error:0.110137\n",
      "[685]\teval-error:0.106267\ttrain-error:0.110244\n",
      "[686]\teval-error:0.105731\ttrain-error:0.109889\n",
      "[687]\teval-error:0.105409\ttrain-error:0.109473\n",
      "[688]\teval-error:0.105221\ttrain-error:0.10889\n",
      "[689]\teval-error:0.105087\ttrain-error:0.108641\n",
      "[690]\teval-error:0.105194\ttrain-error:0.108655\n",
      "[691]\teval-error:0.104979\ttrain-error:0.108065\n",
      "[692]\teval-error:0.104282\ttrain-error:0.107649\n",
      "[693]\teval-error:0.10396\ttrain-error:0.107401\n",
      "[694]\teval-error:0.103343\ttrain-error:0.106857\n",
      "[695]\teval-error:0.102887\ttrain-error:0.106441\n",
      "[696]\teval-error:0.102914\ttrain-error:0.106401\n",
      "[697]\teval-error:0.10286\ttrain-error:0.106234\n",
      "[698]\teval-error:0.102404\ttrain-error:0.105845\n",
      "[699]\teval-error:0.102216\ttrain-error:0.105704\n",
      "[700]\teval-error:0.101814\ttrain-error:0.105181\n",
      "[701]\teval-error:0.101814\ttrain-error:0.105174\n",
      "[702]\teval-error:0.101599\ttrain-error:0.10506\n",
      "[703]\teval-error:0.101545\ttrain-error:0.104926\n",
      "[704]\teval-error:0.101331\ttrain-error:0.104946\n",
      "[705]\teval-error:0.101465\ttrain-error:0.105013\n"
     ]
    },
    {
     "name": "stdout",
     "output_type": "stream",
     "text": [
      "[706]\teval-error:0.101197\ttrain-error:0.104698\n",
      "[707]\teval-error:0.10176\ttrain-error:0.104959\n",
      "[708]\teval-error:0.101545\ttrain-error:0.104651\n",
      "[709]\teval-error:0.101223\ttrain-error:0.104349\n",
      "[710]\teval-error:0.101277\ttrain-error:0.104235\n",
      "[711]\teval-error:0.101062\ttrain-error:0.104215\n",
      "[712]\teval-error:0.100419\ttrain-error:0.103812\n",
      "[713]\teval-error:0.100284\ttrain-error:0.103665\n",
      "[714]\teval-error:0.100177\ttrain-error:0.103638\n",
      "[715]\teval-error:0.100365\ttrain-error:0.103732\n",
      "[716]\teval-error:0.100258\ttrain-error:0.10339\n",
      "[717]\teval-error:0.099936\ttrain-error:0.103081\n",
      "[718]\teval-error:0.100043\ttrain-error:0.103363\n",
      "[719]\teval-error:0.100097\ttrain-error:0.10335\n",
      "[720]\teval-error:0.099936\ttrain-error:0.103336\n",
      "[721]\teval-error:0.099694\ttrain-error:0.103128\n",
      "[722]\teval-error:0.100284\ttrain-error:0.1028\n",
      "[723]\teval-error:0.099801\ttrain-error:0.10237\n",
      "[724]\teval-error:0.099453\ttrain-error:0.102035\n",
      "[725]\teval-error:0.099345\ttrain-error:0.102068\n",
      "[726]\teval-error:0.099426\ttrain-error:0.102109\n",
      "[727]\teval-error:0.099614\ttrain-error:0.101861\n",
      "[728]\teval-error:0.099506\ttrain-error:0.101666\n",
      "[729]\teval-error:0.09956\ttrain-error:0.101311\n",
      "[730]\teval-error:0.099694\ttrain-error:0.101183\n",
      "[731]\teval-error:0.09956\ttrain-error:0.101176\n",
      "[732]\teval-error:0.099399\ttrain-error:0.100895\n",
      "[733]\teval-error:0.099158\ttrain-error:0.100774\n",
      "[734]\teval-error:0.099104\ttrain-error:0.100767\n",
      "[735]\teval-error:0.098943\ttrain-error:0.100445\n",
      "[736]\teval-error:0.09897\ttrain-error:0.100479\n",
      "[737]\teval-error:0.099801\ttrain-error:0.100553\n",
      "[738]\teval-error:0.099694\ttrain-error:0.100479\n",
      "[739]\teval-error:0.09956\ttrain-error:0.100358\n",
      "[740]\teval-error:0.099158\ttrain-error:0.099936\n",
      "[741]\teval-error:0.098702\ttrain-error:0.099634\n",
      "[742]\teval-error:0.098675\ttrain-error:0.09954\n",
      "[743]\teval-error:0.098675\ttrain-error:0.099332\n",
      "[744]\teval-error:0.097763\ttrain-error:0.098554\n",
      "[745]\teval-error:0.097467\ttrain-error:0.098272\n",
      "[746]\teval-error:0.097038\ttrain-error:0.098091\n",
      "[747]\teval-error:0.096475\ttrain-error:0.097608\n",
      "[748]\teval-error:0.096206\ttrain-error:0.097467\n",
      "[749]\teval-error:0.096287\ttrain-error:0.097575\n",
      "[750]\teval-error:0.096153\ttrain-error:0.097441\n",
      "[751]\teval-error:0.096153\ttrain-error:0.097514\n",
      "[752]\teval-error:0.095885\ttrain-error:0.0974\n",
      "[753]\teval-error:0.095616\ttrain-error:0.0973\n",
      "[754]\teval-error:0.095026\ttrain-error:0.096703\n",
      "[755]\teval-error:0.094785\ttrain-error:0.096535\n",
      "[756]\teval-error:0.094436\ttrain-error:0.096066\n",
      "[757]\teval-error:0.094409\ttrain-error:0.096052\n",
      "[758]\teval-error:0.094677\ttrain-error:0.096153\n",
      "[759]\teval-error:0.094597\ttrain-error:0.096059\n",
      "[760]\teval-error:0.09457\ttrain-error:0.096012\n",
      "[761]\teval-error:0.09457\ttrain-error:0.095931\n",
      "[762]\teval-error:0.094328\ttrain-error:0.095737\n",
      "[763]\teval-error:0.094302\ttrain-error:0.095663\n",
      "[764]\teval-error:0.094328\ttrain-error:0.095683\n",
      "[765]\teval-error:0.094033\ttrain-error:0.095542\n",
      "[766]\teval-error:0.093577\ttrain-error:0.095234\n",
      "[767]\teval-error:0.093631\ttrain-error:0.095274\n",
      "[768]\teval-error:0.093497\ttrain-error:0.095247\n",
      "[769]\teval-error:0.092585\ttrain-error:0.094912\n",
      "[770]\teval-error:0.092531\ttrain-error:0.094751\n",
      "[771]\teval-error:0.092075\ttrain-error:0.094375\n",
      "[772]\teval-error:0.09178\ttrain-error:0.094255\n",
      "[773]\teval-error:0.091512\ttrain-error:0.094047\n",
      "[774]\teval-error:0.091431\ttrain-error:0.093416\n",
      "[775]\teval-error:0.091216\ttrain-error:0.093208\n",
      "[776]\teval-error:0.090868\ttrain-error:0.09292\n",
      "[777]\teval-error:0.090519\ttrain-error:0.092833\n",
      "[778]\teval-error:0.090277\ttrain-error:0.092504\n",
      "[779]\teval-error:0.090251\ttrain-error:0.09235\n",
      "[780]\teval-error:0.090385\ttrain-error:0.092504\n",
      "[781]\teval-error:0.090277\ttrain-error:0.092417\n",
      "[782]\teval-error:0.089741\ttrain-error:0.092357\n",
      "[783]\teval-error:0.089768\ttrain-error:0.092357\n",
      "[784]\teval-error:0.089768\ttrain-error:0.092323\n",
      "[785]\teval-error:0.089741\ttrain-error:0.092209\n",
      "[786]\teval-error:0.08958\ttrain-error:0.092035\n",
      "[787]\teval-error:0.089955\ttrain-error:0.0918\n",
      "[788]\teval-error:0.089473\ttrain-error:0.091344\n",
      "[789]\teval-error:0.089151\ttrain-error:0.09119\n",
      "[790]\teval-error:0.089043\ttrain-error:0.090928\n",
      "[791]\teval-error:0.089258\ttrain-error:0.091156\n",
      "[792]\teval-error:0.089338\ttrain-error:0.091237\n",
      "[793]\teval-error:0.089365\ttrain-error:0.091076\n",
      "[794]\teval-error:0.089043\ttrain-error:0.090962\n",
      "[795]\teval-error:0.08899\ttrain-error:0.090807\n",
      "[796]\teval-error:0.088775\ttrain-error:0.090874\n",
      "[797]\teval-error:0.088668\ttrain-error:0.090841\n",
      "[798]\teval-error:0.088399\ttrain-error:0.09064\n",
      "[799]\teval-error:0.087729\ttrain-error:0.090304\n"
     ]
    }
   ],
   "source": [
    "param = {'max_depth':4\n",
    "         , 'eta':1\n",
    "         , 'gamma' : 1\n",
    "         , 'silent':1\n",
    "         , 'subsample' : 0.9\n",
    "         , 'colsample_bytree' : 0.67\n",
    "         , 'objective':'binary:logistic'\n",
    "         , 'eval_metric' : 'error'\n",
    "         , 'scale_pos_weight' : 100}\n",
    "\n",
    "watchlist = [(dval, 'eval'), (dtrain, 'train')]\n",
    "num_round = 800\n",
    "\n",
    "eta_list = [0.2] * 800\n",
    "\n",
    "bst = xgb.train(param, dtrain, num_round, watchlist,learning_rates=eta_list)"
   ]
  },
  {
   "cell_type": "code",
   "execution_count": 81,
   "metadata": {},
   "outputs": [],
   "source": [
    "bst.save_model('800_rounds')\n",
    "\n",
    "bst2 = xgb.Booster(model_file='800_rounds')"
   ]
  },
  {
   "cell_type": "code",
   "execution_count": 100,
   "metadata": {},
   "outputs": [
    {
     "name": "stdout",
     "output_type": "stream",
     "text": [
      "             precision    recall  f1-score   support\n",
      "\n",
      "        0.0       1.00      0.91      0.95     36779\n",
      "        1.0       0.13      1.00      0.23       495\n",
      "\n",
      "avg / total       0.99      0.91      0.94     37274\n",
      "\n"
     ]
    }
   ],
   "source": [
    "from sklearn.metrics import accuracy_score,confusion_matrix, recall_score, precision_score, classification_report\n",
    "\n",
    "print(classification_report(val[:,-1:],np.round(bst2.predict(dval),0)))"
   ]
  },
  {
   "cell_type": "code",
   "execution_count": 101,
   "metadata": {},
   "outputs": [
    {
     "name": "stdout",
     "output_type": "stream",
     "text": [
      "[[33509  3270]\n",
      " [    0   495]]\n"
     ]
    }
   ],
   "source": [
    "print(confusion_matrix(val[:,-1:],np.round(bst2.predict(dval),0)))"
   ]
  },
  {
   "cell_type": "markdown",
   "metadata": {},
   "source": [
    "## do some oversampling"
   ]
  },
  {
   "cell_type": "code",
   "execution_count": null,
   "metadata": {},
   "outputs": [],
   "source": [
    "from imblearn.over_sampling import SMOTE"
   ]
  },
  {
   "cell_type": "raw",
   "metadata": {},
   "source": [
    "need to do this at the right level"
   ]
  },
  {
   "cell_type": "code",
   "execution_count": null,
   "metadata": {},
   "outputs": [],
   "source": [
    "train.shape,val.shape"
   ]
  },
  {
   "cell_type": "code",
   "execution_count": null,
   "metadata": {},
   "outputs": [],
   "source": [
    "sm = SMOTE(random_state=12, ratio = 1.0)"
   ]
  },
  {
   "cell_type": "code",
   "execution_count": null,
   "metadata": {},
   "outputs": [],
   "source": [
    "train_res,train_target_res = sm.fit_sample(train[:,:-1],train[:,-1:])"
   ]
  },
  {
   "cell_type": "code",
   "execution_count": null,
   "metadata": {},
   "outputs": [],
   "source": [
    "pd.Series(train_target_res).value_counts()"
   ]
  },
  {
   "cell_type": "markdown",
   "metadata": {},
   "source": [
    "### revisit the model but with oversampled data"
   ]
  },
  {
   "cell_type": "code",
   "execution_count": null,
   "metadata": {},
   "outputs": [],
   "source": [
    "dtrain2 = xgb.DMatrix(train_res,label = train_target_res)"
   ]
  },
  {
   "cell_type": "code",
   "execution_count": null,
   "metadata": {},
   "outputs": [],
   "source": [
    "param = {'max_depth':2\n",
    "         , 'eta':0.25\n",
    "         , 'gamma' : 0.5\n",
    "         , 'silent':1\n",
    "         , 'subsample' : 0.9\n",
    "         , 'colsample_bytree' : 0.67\n",
    "         , 'objective':'binary:logistic'\n",
    "         , 'eval_metric' : 'error'}\n",
    "\n",
    "watchlist = [(dval, 'eval'), (dtrain, 'train')]\n",
    "num_round = 200\n",
    "\n",
    "eta_list = [0.5] * 200\n",
    "\n",
    "bst = xgb.train(param, dtrain2, num_round, watchlist, early_stopping_rounds = 10,learning_rates=eta_list)"
   ]
  },
  {
   "cell_type": "code",
   "execution_count": null,
   "metadata": {},
   "outputs": [],
   "source": [
    "bst.save_model('200_rounds_withOverSampling')\n",
    "\n",
    "bst2 = xgb.Booster(model_file='200_rounds_withOverSampling')"
   ]
  },
  {
   "cell_type": "code",
   "execution_count": null,
   "metadata": {},
   "outputs": [],
   "source": [
    "from sklearn.metrics import accuracy_score,confusion_matrix\n",
    "\n",
    "print(confusion_matrix(val[:,-1:],bst2.predict(dval).astype(int)))"
   ]
  },
  {
   "cell_type": "code",
   "execution_count": null,
   "metadata": {},
   "outputs": [],
   "source": [
    "print(confusion_matrix(train_target_res,bst2.predict(dtrain2).astype(int)))"
   ]
  },
  {
   "cell_type": "code",
   "execution_count": null,
   "metadata": {},
   "outputs": [],
   "source": [
    "accuracy_score(train_target_res,bst2.predict(dtrain).astype(int))"
   ]
  },
  {
   "cell_type": "code",
   "execution_count": null,
   "metadata": {},
   "outputs": [],
   "source": [
    "495/(36779+495)"
   ]
  },
  {
   "cell_type": "code",
   "execution_count": null,
   "metadata": {},
   "outputs": [],
   "source": []
  }
 ],
 "metadata": {
  "kernelspec": {
   "display_name": "Python 3",
   "language": "python",
   "name": "python3"
  },
  "language_info": {
   "codemirror_mode": {
    "name": "ipython",
    "version": 3
   },
   "file_extension": ".py",
   "mimetype": "text/x-python",
   "name": "python",
   "nbconvert_exporter": "python",
   "pygments_lexer": "ipython3",
   "version": "3.6.5"
  },
  "toc": {
   "nav_menu": {},
   "number_sections": true,
   "sideBar": true,
   "skip_h1_title": false,
   "title_cell": "Table of Contents",
   "title_sidebar": "Contents",
   "toc_cell": false,
   "toc_position": {},
   "toc_section_display": true,
   "toc_window_display": true
  }
 },
 "nbformat": 4,
 "nbformat_minor": 2
}
