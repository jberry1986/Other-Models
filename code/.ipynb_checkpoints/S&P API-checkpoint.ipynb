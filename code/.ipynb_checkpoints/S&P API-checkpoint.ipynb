{
 "cells": [
  {
   "cell_type": "code",
   "execution_count": 6,
   "metadata": {},
   "outputs": [
    {
     "name": "stdout",
     "output_type": "stream",
     "text": [
      "{\"GDSSDKResponse\":[{\"Headers\":[\"IQ_TOTAL_REV\"],\"Rows\":[{\"Row\":[\"79139.000000\"]}],\"NumCols\":1,\"Seniority\":\"\",\"Mnemonic\":\"IQ_TOTAL_REV\",\"Function\":\"GDSP\",\"ErrMsg\":\"\",\"Properties\":{\"periodtype\":\"IQ_FY\"},\"StartDate\":\"\",\"NumRows\":1,\"CacheExpiryTime\":\"0\",\"SnapType\":\"\",\"Frequency\":\"\",\"Identifier\":\"IBM:NYSE\",\"Limit\":\"\"},{\"Headers\":[\"IQ_EBITDA\",\"AsOfDate\"],\"Rows\":[{\"Row\":[\"25700.000000\",\"7/25/2018\"]},{\"Row\":[\"24621.000000\",\"7/25/2018\"]},{\"Row\":[\"20372.000000\",\"7/25/2018\"]},{\"Row\":[\"18552.000000\",\"7/25/2018\"]},{\"Row\":[\"16439.000000\",\"7/25/2018\"]}],\"Seniority\":\"\",\"EndDate\":\"\",\"NumCols\":2,\"StartDate\":\"\",\"Mnemonic\":\"IQ_EBITDA\",\"NumRows\":5,\"CacheExpiryTime\":\"0\",\"ErrMsg\":\"\",\"Function\":\"GDSHE\",\"Frequency\":\"\",\"Identifier\":\"IBM:NYSE\",\"Limit\":\"\",\"Properties\":{\"restatementtypeid\":\"LC\",\"periodtype\":\"IQ_FY-4\"}},{\"Headers\":[\"1/31/2018\",\"2/28/2018\",\"3/29/2018\",\"4/30/2018\",\"5/31/2018\",\"6/29/2018\"],\"Rows\":[{\"Row\":[\"151552.048579\",\"143545.592922\",\"141334.789976\",\"133068.685638\",\"129718.101321\",\"128240.172348\"]}],\"Seniority\":\"\",\"EndDate\":\"\",\"NumCols\":6,\"Mnemonic\":\"IQ_MARKETCAP\",\"NumRows\":2,\"CacheExpiryTime\":\"0\",\"SnapType\":\"\",\"ErrMsg\":\"\",\"Function\":\"GDST\",\"Identifier\":\"IBM:NYSE\",\"Limit\":\"\",\"Properties\":{\"startdate\":\"01/01/2018\",\"frequency\":\"Monthly\"}}]}\n"
     ]
    }
   ],
   "source": [
    "import requests,json\n",
    "from requests.auth import HTTPBasicAuth\n",
    "\n",
    "endpoint_url = \"https://sdk.gds.standardandpoors.com/gdssdk/rest/v3/clientservice.json\"\n",
    "\n",
    "req_array=[{\"function\":\"GDSP\",\"identifier\":\"IBM:NYSE\",\"mnemonic\":\"IQ_TOTAL_REV\", \"properties\":{\"PeriodType\":\"IQ_FY\"}},\n",
    "           {\"function\":\"GDSHE\",\"identifier\":\"IBM:NYSE\",\"mnemonic\":\"IQ_EBITDA\", \"properties\":{\"PeriodType\":\"IQ_FY-4\",\"restatementTypeId\":\"LC\"}},\n",
    "           {\"function\": \"GDST\", \"identifier\": \"IBM:NYSE\", \"mnemonic\": \"IQ_MARKETCAP\",\"properties\":{\"frequency\":\"Monthly\",\"startDate\":\"01/01/2018\"}}]\n",
    "\n",
    "req = {\"inputRequests\":req_array}\n",
    "\n",
    "response = requests.post(endpoint_url,\n",
    "                         headers={'Content-Type': 'application/json'},\n",
    "                         data=json.dumps(req),\n",
    "                         auth=HTTPBasicAuth('Apiadmin@mclagan.com','McLagan123'),\n",
    "                         verify=True)\n",
    "print(response.text)"
   ]
  },
  {
   "cell_type": "code",
   "execution_count": null,
   "metadata": {},
   "outputs": [],
   "source": [
    "r"
   ]
  }
 ],
 "metadata": {
  "kernelspec": {
   "display_name": "Python 3",
   "language": "python",
   "name": "python3"
  },
  "language_info": {
   "codemirror_mode": {
    "name": "ipython",
    "version": 3
   },
   "file_extension": ".py",
   "mimetype": "text/x-python",
   "name": "python",
   "nbconvert_exporter": "python",
   "pygments_lexer": "ipython3",
   "version": "3.6.5"
  },
  "toc": {
   "nav_menu": {},
   "number_sections": true,
   "sideBar": true,
   "skip_h1_title": false,
   "title_cell": "Table of Contents",
   "title_sidebar": "Contents",
   "toc_cell": false,
   "toc_position": {},
   "toc_section_display": true,
   "toc_window_display": false
  }
 },
 "nbformat": 4,
 "nbformat_minor": 2
}
