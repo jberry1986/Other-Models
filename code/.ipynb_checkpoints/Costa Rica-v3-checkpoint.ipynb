{
 "cells": [
  {
   "cell_type": "markdown",
   "metadata": {
    "heading_collapsed": true
   },
   "source": [
    "### import libraries and data"
   ]
  },
  {
   "cell_type": "code",
   "execution_count": 1,
   "metadata": {
    "hidden": true
   },
   "outputs": [],
   "source": [
    "import pandas as pd\n",
    "import numpy as np"
   ]
  },
  {
   "cell_type": "code",
   "execution_count": 2,
   "metadata": {
    "hidden": true
   },
   "outputs": [],
   "source": [
    "train = pd.read_csv('../data/poverty/train.csv')\n",
    "test = pd.read_csv('../data/poverty/test.csv')"
   ]
  },
  {
   "cell_type": "code",
   "execution_count": 3,
   "metadata": {
    "hidden": true
   },
   "outputs": [],
   "source": [
    "data_dict = pd.read_table('../data/poverty/data_dict.txt',header = None)"
   ]
  },
  {
   "cell_type": "code",
   "execution_count": 4,
   "metadata": {
    "hidden": true
   },
   "outputs": [],
   "source": [
    "data_dict = data_dict[0].str.split(pat = ',',expand = True)"
   ]
  },
  {
   "cell_type": "code",
   "execution_count": 5,
   "metadata": {
    "hidden": true
   },
   "outputs": [],
   "source": [
    "data_dict.set_index(0,inplace = True)"
   ]
  },
  {
   "cell_type": "code",
   "execution_count": 6,
   "metadata": {
    "hidden": true
   },
   "outputs": [
    {
     "data": {
      "text/html": [
       "<div>\n",
       "<style scoped>\n",
       "    .dataframe tbody tr th:only-of-type {\n",
       "        vertical-align: middle;\n",
       "    }\n",
       "\n",
       "    .dataframe tbody tr th {\n",
       "        vertical-align: top;\n",
       "    }\n",
       "\n",
       "    .dataframe thead th {\n",
       "        text-align: right;\n",
       "    }\n",
       "</style>\n",
       "<table border=\"1\" class=\"dataframe\">\n",
       "  <thead>\n",
       "    <tr style=\"text-align: right;\">\n",
       "      <th></th>\n",
       "      <th>1</th>\n",
       "      <th>2</th>\n",
       "      <th>3</th>\n",
       "      <th>4</th>\n",
       "    </tr>\n",
       "    <tr>\n",
       "      <th>0</th>\n",
       "      <th></th>\n",
       "      <th></th>\n",
       "      <th></th>\n",
       "      <th></th>\n",
       "    </tr>\n",
       "  </thead>\n",
       "  <tbody>\n",
       "    <tr>\n",
       "      <th>v2a1</th>\n",
       "      <td>Monthly rent payment</td>\n",
       "      <td>None</td>\n",
       "      <td>None</td>\n",
       "      <td>None</td>\n",
       "    </tr>\n",
       "    <tr>\n",
       "      <th>hacdor</th>\n",
       "      <td>=1 Overcrowding by bedrooms</td>\n",
       "      <td>None</td>\n",
       "      <td>None</td>\n",
       "      <td>None</td>\n",
       "    </tr>\n",
       "    <tr>\n",
       "      <th>rooms</th>\n",
       "      <td>number of all rooms in the house</td>\n",
       "      <td>None</td>\n",
       "      <td>None</td>\n",
       "      <td>None</td>\n",
       "    </tr>\n",
       "    <tr>\n",
       "      <th>hacapo</th>\n",
       "      <td>=1 Overcrowding by rooms</td>\n",
       "      <td>None</td>\n",
       "      <td>None</td>\n",
       "      <td>None</td>\n",
       "    </tr>\n",
       "    <tr>\n",
       "      <th>v14a</th>\n",
       "      <td>=1 has bathroom in the household</td>\n",
       "      <td>None</td>\n",
       "      <td>None</td>\n",
       "      <td>None</td>\n",
       "    </tr>\n",
       "  </tbody>\n",
       "</table>\n",
       "</div>"
      ],
      "text/plain": [
       "                                         1     2     3     4\n",
       "0                                                           \n",
       "v2a1                  Monthly rent payment  None  None  None\n",
       "hacdor         =1 Overcrowding by bedrooms  None  None  None\n",
       "rooms     number of all rooms in the house  None  None  None\n",
       "hacapo            =1 Overcrowding by rooms  None  None  None\n",
       "v14a      =1 has bathroom in the household  None  None  None"
      ]
     },
     "execution_count": 6,
     "metadata": {},
     "output_type": "execute_result"
    }
   ],
   "source": [
    "data_dict.head()"
   ]
  },
  {
   "cell_type": "code",
   "execution_count": 7,
   "metadata": {
    "hidden": true
   },
   "outputs": [
    {
     "data": {
      "text/plain": [
       "(9557, 143)"
      ]
     },
     "execution_count": 7,
     "metadata": {},
     "output_type": "execute_result"
    }
   ],
   "source": [
    "train.shape"
   ]
  },
  {
   "cell_type": "code",
   "execution_count": 8,
   "metadata": {
    "hidden": true
   },
   "outputs": [],
   "source": [
    "train.set_index('Id',inplace  = True)\n",
    "test.set_index('Id',inplace  = True)"
   ]
  },
  {
   "cell_type": "markdown",
   "metadata": {},
   "source": [
    "### how do we want to split up our data types?"
   ]
  },
  {
   "cell_type": "markdown",
   "metadata": {
    "heading_collapsed": true
   },
   "source": [
    "#### credit to https://www.kaggle.com/willkoehrsen/start-here-a-complete-walkthrough who has determined the data types and how they should be used"
   ]
  },
  {
   "cell_type": "code",
   "execution_count": 9,
   "metadata": {
    "hidden": true
   },
   "outputs": [],
   "source": [
    "id_ = ['idhogar']\n",
    "\n",
    "target = ['Target']\n",
    "\n",
    "ind_bool = ['v18q', 'dis', 'male', 'female', 'estadocivil1', 'estadocivil2', 'estadocivil3', \n",
    "            'estadocivil4', 'estadocivil5', 'estadocivil6', 'estadocivil7', \n",
    "            'parentesco1', 'parentesco2',  'parentesco3', 'parentesco4', 'parentesco5', \n",
    "            'parentesco6', 'parentesco7', 'parentesco8',  'parentesco9', 'parentesco10', \n",
    "            'parentesco11', 'parentesco12', 'instlevel1', 'instlevel2', 'instlevel3', \n",
    "            'instlevel4', 'instlevel5', 'instlevel6', 'instlevel7', 'instlevel8', \n",
    "            'instlevel9', 'mobilephone']\n",
    "\n",
    "ind_ordered = ['rez_esc', 'escolari', 'age']\n",
    "\n",
    "hh_bool = ['hacdor', 'hacapo', 'v14a', 'refrig', 'paredblolad', 'paredzocalo', \n",
    "           'paredpreb','pisocemento', 'pareddes', 'paredmad',\n",
    "           'paredzinc', 'paredfibras', 'paredother', 'pisomoscer', 'pisoother', \n",
    "           'pisonatur', 'pisonotiene', 'pisomadera',\n",
    "           'techozinc', 'techoentrepiso', 'techocane', 'techootro', 'cielorazo', \n",
    "           'abastaguadentro', 'abastaguafuera', 'abastaguano',\n",
    "            'public', 'planpri', 'noelec', 'coopele', 'sanitario1', \n",
    "           'sanitario2', 'sanitario3', 'sanitario5',   'sanitario6',\n",
    "           'energcocinar1', 'energcocinar2', 'energcocinar3', 'energcocinar4', \n",
    "           'elimbasu1', 'elimbasu2', 'elimbasu3', 'elimbasu4', \n",
    "           'elimbasu5', 'elimbasu6', 'epared1', 'epared2', 'epared3',\n",
    "           'etecho1', 'etecho2', 'etecho3', 'eviv1', 'eviv2', 'eviv3', \n",
    "           'tipovivi1', 'tipovivi2', 'tipovivi3', 'tipovivi4', 'tipovivi5', \n",
    "           'computer', 'television', 'lugar1', 'lugar2', 'lugar3',\n",
    "           'lugar4', 'lugar5', 'lugar6', 'area1', 'area2']\n",
    "\n",
    "hh_ordered = [ 'rooms', 'r4h1', 'r4h2', 'r4h3', 'r4m1','r4m2','r4m3', 'r4t1',  'r4t2', \n",
    "              'r4t3', 'v18q1', 'tamhog','tamviv','hhsize','hogar_nin',\n",
    "              'hogar_adul','hogar_mayor','hogar_total',  'bedrooms', 'qmobilephone']\n",
    "\n",
    "hh_cont = ['v2a1', 'dependency', 'edjefe', 'edjefa', 'meaneduc', 'overcrowding']\n",
    "\n",
    "sqr_ = ['SQBescolari', 'SQBage', 'SQBhogar_total', 'SQBedjefe', \n",
    "        'SQBhogar_nin', 'SQBovercrowding', 'SQBdependency', 'SQBmeaned', 'agesq']"
   ]
  },
  {
   "cell_type": "raw",
   "metadata": {
    "hidden": true
   },
   "source": [
    "Now issues around the data types are:\n",
    "    - tidy up the object data types that are in there\n",
    "    - what to do with missing values?\n",
    "    - does the data make sense in terms of\n",
    "        duplicate records\n",
    "        logical"
   ]
  },
  {
   "cell_type": "markdown",
   "metadata": {
    "heading_collapsed": true
   },
   "source": [
    "#### tidy up object data types"
   ]
  },
  {
   "cell_type": "code",
   "execution_count": 10,
   "metadata": {
    "hidden": true
   },
   "outputs": [
    {
     "data": {
      "text/plain": [
       "yes          5388\n",
       "no           4289\n",
       ".5           3678\n",
       "2            1769\n",
       "1.5          1758\n",
       ".33333334    1533\n",
       ".66666669    1130\n",
       "8            1037\n",
       ".25           684\n",
       "3             596\n",
       "1.3333334     278\n",
       "2.5           224\n",
       ".2            216\n",
       ".75           203\n",
       "4             195\n",
       ".40000001     175\n",
       ".60000002     128\n",
       "1.6666666     120\n",
       "5              96\n",
       ".16666667      56\n",
       "1.25           54\n",
       ".80000001      45\n",
       ".14285715      32\n",
       "2.3333333      30\n",
       ".83333331      22\n",
       "3.5            18\n",
       "7              16\n",
       "2.25           13\n",
       "3.3333333      13\n",
       ".85714287      13\n",
       ".375           11\n",
       "1.2            11\n",
       ".2857143        9\n",
       ".125            9\n",
       "6               7\n",
       "Name: dependency, dtype: int64"
      ]
     },
     "execution_count": 10,
     "metadata": {},
     "output_type": "execute_result"
    }
   ],
   "source": [
    "test['dependency'].value_counts()"
   ]
  },
  {
   "cell_type": "code",
   "execution_count": 11,
   "metadata": {
    "hidden": true
   },
   "outputs": [],
   "source": [
    "mapping = {'yes' : 1, 'no' : 0}\n",
    "\n",
    "train['dependency'] = train['dependency'].replace(mapping).astype(np.float64)\n",
    "train['edjefe'] = train['edjefe'].replace(mapping).astype(np.float64)\n",
    "train['edjefa'] = train['edjefa'].replace(mapping).astype(np.float64)"
   ]
  },
  {
   "cell_type": "code",
   "execution_count": 12,
   "metadata": {
    "hidden": true
   },
   "outputs": [],
   "source": [
    "test['dependency'] = test['dependency'].replace(mapping).astype(np.float64)\n",
    "test['edjefe'] = test['edjefe'].replace(mapping).astype(np.float64)\n",
    "test['edjefa'] = test['edjefa'].replace(mapping).astype(np.float64)"
   ]
  },
  {
   "cell_type": "markdown",
   "metadata": {
    "heading_collapsed": true
   },
   "source": [
    "#### missing values"
   ]
  },
  {
   "cell_type": "code",
   "execution_count": 13,
   "metadata": {
    "hidden": true
   },
   "outputs": [
    {
     "data": {
      "text/plain": [
       "rez_esc      7928\n",
       "v18q1        7342\n",
       "v2a1         6860\n",
       "meaneduc        5\n",
       "SQBmeaned       5\n",
       "dtype: int64"
      ]
     },
     "execution_count": 13,
     "metadata": {},
     "output_type": "execute_result"
    }
   ],
   "source": [
    "miss_vals = train[ind_bool + ind_ordered + hh_bool + hh_ordered + hh_cont + sqr_].isnull().sum()\n",
    "\n",
    "miss_vals[miss_vals != 0]"
   ]
  },
  {
   "cell_type": "code",
   "execution_count": 14,
   "metadata": {
    "hidden": true
   },
   "outputs": [
    {
     "data": {
      "text/html": [
       "<div>\n",
       "<style scoped>\n",
       "    .dataframe tbody tr th:only-of-type {\n",
       "        vertical-align: middle;\n",
       "    }\n",
       "\n",
       "    .dataframe tbody tr th {\n",
       "        vertical-align: top;\n",
       "    }\n",
       "\n",
       "    .dataframe thead th {\n",
       "        text-align: right;\n",
       "    }\n",
       "</style>\n",
       "<table border=\"1\" class=\"dataframe\">\n",
       "  <thead>\n",
       "    <tr style=\"text-align: right;\">\n",
       "      <th></th>\n",
       "      <th>1</th>\n",
       "    </tr>\n",
       "    <tr>\n",
       "      <th>0</th>\n",
       "      <th></th>\n",
       "    </tr>\n",
       "  </thead>\n",
       "  <tbody>\n",
       "    <tr>\n",
       "      <th>rez_esc</th>\n",
       "      <td>Years behind in school</td>\n",
       "    </tr>\n",
       "    <tr>\n",
       "      <th>v18q1</th>\n",
       "      <td>number of tablets household owns</td>\n",
       "    </tr>\n",
       "    <tr>\n",
       "      <th>v2a1</th>\n",
       "      <td>Monthly rent payment</td>\n",
       "    </tr>\n",
       "    <tr>\n",
       "      <th>meaneduc</th>\n",
       "      <td>average years of education for adults (18+)</td>\n",
       "    </tr>\n",
       "    <tr>\n",
       "      <th>SQBmeaned</th>\n",
       "      <td>square of the mean years of education of adults (&gt;=18) in the household</td>\n",
       "    </tr>\n",
       "  </tbody>\n",
       "</table>\n",
       "</div>"
      ],
      "text/plain": [
       "                                                                                  1\n",
       "0                                                                                  \n",
       "rez_esc                                                      Years behind in school\n",
       "v18q1                                              number of tablets household owns\n",
       "v2a1                                                           Monthly rent payment\n",
       "meaneduc                                average years of education for adults (18+)\n",
       "SQBmeaned   square of the mean years of education of adults (>=18) in the household"
      ]
     },
     "execution_count": 14,
     "metadata": {},
     "output_type": "execute_result"
    }
   ],
   "source": [
    "miss_values_index = miss_vals[miss_vals != 0].index.values.tolist()\n",
    "\n",
    "pd.options.display.max_colwidth = 1000\n",
    "\n",
    "data_dict.loc[miss_values_index,:1]"
   ]
  },
  {
   "cell_type": "raw",
   "metadata": {
    "hidden": true
   },
   "source": [
    "for mean education, as there are only 5 records we can probably impute\n",
    "\n",
    "for the other three we have over 60% missing data. lets drop these in both test and train for now"
   ]
  },
  {
   "cell_type": "code",
   "execution_count": 15,
   "metadata": {
    "hidden": true
   },
   "outputs": [],
   "source": [
    "train.drop(columns = ['rez_esc','v18q1','v2a1'],inplace = True)\n",
    "test.drop(columns = ['rez_esc','v18q1','v2a1'],inplace = True)\n",
    "\n",
    "#remove the values from the indexes that we have previous got rid of\n",
    "\n",
    "ind_ordered.remove('rez_esc')\n",
    "hh_ordered.remove('v18q1')\n",
    "hh_cont.remove('v2a1')"
   ]
  },
  {
   "cell_type": "markdown",
   "metadata": {
    "heading_collapsed": true
   },
   "source": [
    "### creating percentage columns"
   ]
  },
  {
   "cell_type": "code",
   "execution_count": 16,
   "metadata": {
    "hidden": true
   },
   "outputs": [],
   "source": [
    "new_cols = []"
   ]
  },
  {
   "cell_type": "code",
   "execution_count": 17,
   "metadata": {
    "hidden": true
   },
   "outputs": [],
   "source": [
    "def calculate_percentages(num,denom):\n",
    "    if denom == 0:\n",
    "        return 0\n",
    "    else:\n",
    "        percentage = num/denom\n",
    "        return percentage"
   ]
  },
  {
   "cell_type": "code",
   "execution_count": 18,
   "metadata": {
    "hidden": true
   },
   "outputs": [],
   "source": [
    "train['r4h1_r4h3'] = train.apply(lambda x : calculate_percentages(x['r4h1'],x['r4h3']),axis = 1)\n",
    "train['r4m1_r4m3'] = train.apply(lambda x : calculate_percentages(x['r4m1'],x['r4m3']),axis = 1)\n",
    "train['r4t1_r4t3'] = train.apply(lambda x : calculate_percentages(x['r4t1'],x['r4t3']),axis = 1)"
   ]
  },
  {
   "cell_type": "code",
   "execution_count": 19,
   "metadata": {
    "hidden": true
   },
   "outputs": [],
   "source": [
    "test['r4h1_r4h3'] = test.apply(lambda x : calculate_percentages(x['r4h1'],x['r4h3']),axis = 1)\n",
    "test['r4m1_r4m3'] = test.apply(lambda x : calculate_percentages(x['r4m1'],x['r4m3']),axis = 1)\n",
    "test['r4t1_r4t3'] = test.apply(lambda x : calculate_percentages(x['r4t1'],x['r4t3']),axis = 1)"
   ]
  },
  {
   "cell_type": "code",
   "execution_count": 20,
   "metadata": {
    "hidden": true
   },
   "outputs": [],
   "source": [
    "new_cols.extend(['r4h1_r4h3','r4m1_r4m3','r4t1_r4t3'])"
   ]
  },
  {
   "cell_type": "code",
   "execution_count": 21,
   "metadata": {
    "hidden": true
   },
   "outputs": [],
   "source": [
    "train['nin%'] = train.apply(lambda x : calculate_percentages(x['hogar_nin'],x['hogar_total']),axis = 1)\n",
    "train['adul%'] = train.apply(lambda x : calculate_percentages(x['hogar_adul'],x['hogar_total']),axis = 1)\n",
    "train['mayor%'] = train.apply(lambda x : calculate_percentages(x['hogar_mayor'],x['hogar_total']),axis = 1)"
   ]
  },
  {
   "cell_type": "code",
   "execution_count": 22,
   "metadata": {
    "hidden": true
   },
   "outputs": [],
   "source": [
    "test['nin%'] = test.apply(lambda x : calculate_percentages(x['hogar_nin'],x['hogar_total']),axis = 1)\n",
    "test['adul%'] = test.apply(lambda x : calculate_percentages(x['hogar_adul'],x['hogar_total']),axis = 1)\n",
    "test['mayor%'] = test.apply(lambda x : calculate_percentages(x['hogar_mayor'],x['hogar_total']),axis = 1)"
   ]
  },
  {
   "cell_type": "code",
   "execution_count": 23,
   "metadata": {
    "hidden": true
   },
   "outputs": [],
   "source": [
    "new_cols.extend(['nin%','adul%','mayor%'])"
   ]
  },
  {
   "cell_type": "markdown",
   "metadata": {},
   "source": [
    "### Try using XGBoost"
   ]
  },
  {
   "cell_type": "code",
   "execution_count": 24,
   "metadata": {},
   "outputs": [],
   "source": [
    "from sklearn.preprocessing import StandardScaler, Imputer\n",
    "from sklearn.model_selection import train_test_split\n",
    "import xgboost as xgb"
   ]
  },
  {
   "cell_type": "code",
   "execution_count": 25,
   "metadata": {},
   "outputs": [],
   "source": []
  },
  {
   "cell_type": "code",
   "execution_count": 28,
   "metadata": {},
   "outputs": [],
   "source": [
    "scaler = StandardScaler()\n",
    "imputer = Imputer()\n",
    "\n",
    "X = imputer.fit_transform(train[ind_bool + ind_ordered + hh_bool + hh_ordered + hh_cont + sqr_ + new_cols])\n",
    "X_test_final = imputer.transform(test[ind_bool + ind_ordered + hh_bool + hh_ordered + hh_cont + sqr_ + new_cols])\n",
    "\n",
    "X = scaler.fit_transform(X)\n",
    "X_test_final = scaler.transform(X_test_final)\n",
    "\n",
    "y = train['Target']"
   ]
  },
  {
   "cell_type": "code",
   "execution_count": 29,
   "metadata": {},
   "outputs": [],
   "source": [
    "X_train,X_test,y_train,y_test = train_test_split(X,y,test_size = 0.33,random_state = 42)"
   ]
  },
  {
   "cell_type": "code",
   "execution_count": 37,
   "metadata": {},
   "outputs": [
    {
     "name": "stdout",
     "output_type": "stream",
     "text": [
      "[0]\teval-rmse:2.82531\ttrain-rmse:2.84711\n",
      "[1]\teval-rmse:2.69436\ttrain-rmse:2.71538\n",
      "[2]\teval-rmse:2.57034\ttrain-rmse:2.59103\n",
      "[3]\teval-rmse:2.45288\ttrain-rmse:2.4727\n",
      "[4]\teval-rmse:2.3417\ttrain-rmse:2.36075\n",
      "[5]\teval-rmse:2.23651\ttrain-rmse:2.25489\n",
      "[6]\teval-rmse:2.13662\ttrain-rmse:2.15441\n",
      "[7]\teval-rmse:2.04288\ttrain-rmse:2.05949\n",
      "[8]\teval-rmse:1.95384\ttrain-rmse:1.96963\n",
      "[9]\teval-rmse:1.86991\ttrain-rmse:1.88474\n",
      "[10]\teval-rmse:1.79045\ttrain-rmse:1.80441\n",
      "[11]\teval-rmse:1.71567\ttrain-rmse:1.72862\n",
      "[12]\teval-rmse:1.64556\ttrain-rmse:1.6571\n",
      "[13]\teval-rmse:1.57886\ttrain-rmse:1.58927\n",
      "[14]\teval-rmse:1.51596\ttrain-rmse:1.52479\n",
      "[15]\teval-rmse:1.45739\ttrain-rmse:1.46485\n",
      "[16]\teval-rmse:1.40184\ttrain-rmse:1.40765\n",
      "[17]\teval-rmse:1.35003\ttrain-rmse:1.35461\n",
      "[18]\teval-rmse:1.30107\ttrain-rmse:1.30408\n",
      "[19]\teval-rmse:1.25532\ttrain-rmse:1.2571\n",
      "[20]\teval-rmse:1.21199\ttrain-rmse:1.21168\n",
      "[21]\teval-rmse:1.17164\ttrain-rmse:1.16952\n",
      "[22]\teval-rmse:1.13422\ttrain-rmse:1.13013\n",
      "[23]\teval-rmse:1.09851\ttrain-rmse:1.09312\n",
      "[24]\teval-rmse:1.0654\ttrain-rmse:1.05817\n",
      "[25]\teval-rmse:1.03412\ttrain-rmse:1.02543\n",
      "[26]\teval-rmse:1.00582\ttrain-rmse:0.995445\n",
      "[27]\teval-rmse:0.978637\ttrain-rmse:0.966286\n",
      "[28]\teval-rmse:0.953526\ttrain-rmse:0.9393\n",
      "[29]\teval-rmse:0.930473\ttrain-rmse:0.91439\n",
      "[30]\teval-rmse:0.908565\ttrain-rmse:0.890413\n",
      "[31]\teval-rmse:0.889112\ttrain-rmse:0.869018\n",
      "[32]\teval-rmse:0.870136\ttrain-rmse:0.847934\n",
      "[33]\teval-rmse:0.85274\ttrain-rmse:0.828915\n",
      "[34]\teval-rmse:0.837111\ttrain-rmse:0.811607\n",
      "[35]\teval-rmse:0.82232\ttrain-rmse:0.794206\n",
      "[36]\teval-rmse:0.808753\ttrain-rmse:0.778683\n",
      "[37]\teval-rmse:0.796173\ttrain-rmse:0.764126\n",
      "[38]\teval-rmse:0.784051\ttrain-rmse:0.750272\n",
      "[39]\teval-rmse:0.773724\ttrain-rmse:0.738169\n",
      "[40]\teval-rmse:0.763825\ttrain-rmse:0.726309\n",
      "[41]\teval-rmse:0.754709\ttrain-rmse:0.715409\n",
      "[42]\teval-rmse:0.745731\ttrain-rmse:0.704908\n",
      "[43]\teval-rmse:0.738073\ttrain-rmse:0.6955\n",
      "[44]\teval-rmse:0.730954\ttrain-rmse:0.686768\n",
      "[45]\teval-rmse:0.72406\ttrain-rmse:0.677814\n",
      "[46]\teval-rmse:0.717952\ttrain-rmse:0.670201\n",
      "[47]\teval-rmse:0.711792\ttrain-rmse:0.662584\n",
      "[48]\teval-rmse:0.706693\ttrain-rmse:0.655916\n",
      "[49]\teval-rmse:0.702131\ttrain-rmse:0.650184\n",
      "[50]\teval-rmse:0.698135\ttrain-rmse:0.644514\n",
      "[51]\teval-rmse:0.694367\ttrain-rmse:0.639752\n",
      "[52]\teval-rmse:0.690475\ttrain-rmse:0.634361\n",
      "[53]\teval-rmse:0.686646\ttrain-rmse:0.628751\n",
      "[54]\teval-rmse:0.683554\ttrain-rmse:0.624291\n",
      "[55]\teval-rmse:0.68023\ttrain-rmse:0.61923\n",
      "[56]\teval-rmse:0.677264\ttrain-rmse:0.615655\n",
      "[57]\teval-rmse:0.67492\ttrain-rmse:0.611996\n",
      "[58]\teval-rmse:0.671939\ttrain-rmse:0.608087\n",
      "[59]\teval-rmse:0.669423\ttrain-rmse:0.604333\n",
      "[60]\teval-rmse:0.66724\ttrain-rmse:0.600893\n",
      "[61]\teval-rmse:0.665213\ttrain-rmse:0.598335\n",
      "[62]\teval-rmse:0.66305\ttrain-rmse:0.594989\n",
      "[63]\teval-rmse:0.661614\ttrain-rmse:0.591925\n",
      "[64]\teval-rmse:0.660076\ttrain-rmse:0.589951\n",
      "[65]\teval-rmse:0.658824\ttrain-rmse:0.58709\n",
      "[66]\teval-rmse:0.657662\ttrain-rmse:0.585373\n",
      "[67]\teval-rmse:0.655811\ttrain-rmse:0.582598\n",
      "[68]\teval-rmse:0.655005\ttrain-rmse:0.581227\n",
      "[69]\teval-rmse:0.653781\ttrain-rmse:0.578622\n",
      "[70]\teval-rmse:0.652992\ttrain-rmse:0.577377\n",
      "[71]\teval-rmse:0.651852\ttrain-rmse:0.575738\n",
      "[72]\teval-rmse:0.65136\ttrain-rmse:0.574044\n",
      "[73]\teval-rmse:0.650597\ttrain-rmse:0.572698\n",
      "[74]\teval-rmse:0.65011\ttrain-rmse:0.571898\n",
      "[75]\teval-rmse:0.647966\ttrain-rmse:0.569139\n",
      "[76]\teval-rmse:0.64749\ttrain-rmse:0.568263\n",
      "[77]\teval-rmse:0.647076\ttrain-rmse:0.56755\n",
      "[78]\teval-rmse:0.646696\ttrain-rmse:0.566259\n",
      "[79]\teval-rmse:0.646021\ttrain-rmse:0.565397\n",
      "[80]\teval-rmse:0.644357\ttrain-rmse:0.562818\n",
      "[81]\teval-rmse:0.644181\ttrain-rmse:0.562035\n",
      "[82]\teval-rmse:0.643024\ttrain-rmse:0.559994\n",
      "[83]\teval-rmse:0.642788\ttrain-rmse:0.558894\n",
      "[84]\teval-rmse:0.641589\ttrain-rmse:0.557213\n",
      "[85]\teval-rmse:0.640949\ttrain-rmse:0.555896\n",
      "[86]\teval-rmse:0.640206\ttrain-rmse:0.554813\n",
      "[87]\teval-rmse:0.639833\ttrain-rmse:0.554206\n",
      "[88]\teval-rmse:0.639198\ttrain-rmse:0.553299\n",
      "[89]\teval-rmse:0.638317\ttrain-rmse:0.551219\n",
      "[90]\teval-rmse:0.636674\ttrain-rmse:0.549101\n",
      "[91]\teval-rmse:0.636439\ttrain-rmse:0.548733\n",
      "[92]\teval-rmse:0.635733\ttrain-rmse:0.547841\n",
      "[93]\teval-rmse:0.635411\ttrain-rmse:0.547344\n",
      "[94]\teval-rmse:0.635163\ttrain-rmse:0.54642\n",
      "[95]\teval-rmse:0.634483\ttrain-rmse:0.545482\n",
      "[96]\teval-rmse:0.634135\ttrain-rmse:0.543705\n",
      "[97]\teval-rmse:0.633526\ttrain-rmse:0.542753\n",
      "[98]\teval-rmse:0.633254\ttrain-rmse:0.542384\n",
      "[99]\teval-rmse:0.633062\ttrain-rmse:0.541461\n",
      "[100]\teval-rmse:0.632588\ttrain-rmse:0.540391\n",
      "[101]\teval-rmse:0.632292\ttrain-rmse:0.539934\n",
      "[102]\teval-rmse:0.631912\ttrain-rmse:0.539509\n",
      "[103]\teval-rmse:0.631637\ttrain-rmse:0.539254\n",
      "[104]\teval-rmse:0.630863\ttrain-rmse:0.538358\n",
      "[105]\teval-rmse:0.630888\ttrain-rmse:0.537897\n",
      "[106]\teval-rmse:0.630613\ttrain-rmse:0.537602\n",
      "[107]\teval-rmse:0.629669\ttrain-rmse:0.536079\n",
      "[108]\teval-rmse:0.629402\ttrain-rmse:0.535677\n",
      "[109]\teval-rmse:0.629164\ttrain-rmse:0.535178\n",
      "[110]\teval-rmse:0.628652\ttrain-rmse:0.533885\n",
      "[111]\teval-rmse:0.628187\ttrain-rmse:0.532491\n",
      "[112]\teval-rmse:0.627299\ttrain-rmse:0.531422\n",
      "[113]\teval-rmse:0.62674\ttrain-rmse:0.529588\n",
      "[114]\teval-rmse:0.626661\ttrain-rmse:0.529461\n",
      "[115]\teval-rmse:0.626519\ttrain-rmse:0.529005\n",
      "[116]\teval-rmse:0.625874\ttrain-rmse:0.528144\n",
      "[117]\teval-rmse:0.625128\ttrain-rmse:0.527285\n",
      "[118]\teval-rmse:0.624075\ttrain-rmse:0.52532\n",
      "[119]\teval-rmse:0.623961\ttrain-rmse:0.525197\n",
      "[120]\teval-rmse:0.623127\ttrain-rmse:0.524457\n",
      "[121]\teval-rmse:0.622974\ttrain-rmse:0.52296\n",
      "[122]\teval-rmse:0.622842\ttrain-rmse:0.522552\n",
      "[123]\teval-rmse:0.622708\ttrain-rmse:0.52229\n",
      "[124]\teval-rmse:0.621428\ttrain-rmse:0.520466\n",
      "[125]\teval-rmse:0.620678\ttrain-rmse:0.519292\n",
      "[126]\teval-rmse:0.620436\ttrain-rmse:0.518214\n",
      "[127]\teval-rmse:0.620029\ttrain-rmse:0.517434\n",
      "[128]\teval-rmse:0.619827\ttrain-rmse:0.517131\n",
      "[129]\teval-rmse:0.619459\ttrain-rmse:0.515381\n",
      "[130]\teval-rmse:0.619298\ttrain-rmse:0.514641\n",
      "[131]\teval-rmse:0.618564\ttrain-rmse:0.513578\n",
      "[132]\teval-rmse:0.617759\ttrain-rmse:0.512515\n",
      "[133]\teval-rmse:0.617554\ttrain-rmse:0.512182\n",
      "[134]\teval-rmse:0.616832\ttrain-rmse:0.511164\n",
      "[135]\teval-rmse:0.616802\ttrain-rmse:0.511066\n",
      "[136]\teval-rmse:0.615937\ttrain-rmse:0.510318\n",
      "[137]\teval-rmse:0.615755\ttrain-rmse:0.510084\n",
      "[138]\teval-rmse:0.615472\ttrain-rmse:0.509729\n",
      "[139]\teval-rmse:0.614892\ttrain-rmse:0.508907\n",
      "[140]\teval-rmse:0.614788\ttrain-rmse:0.50875\n",
      "[141]\teval-rmse:0.614789\ttrain-rmse:0.508691\n",
      "[142]\teval-rmse:0.614233\ttrain-rmse:0.507634\n",
      "[143]\teval-rmse:0.613871\ttrain-rmse:0.507156\n",
      "[144]\teval-rmse:0.613627\ttrain-rmse:0.506904\n",
      "[145]\teval-rmse:0.613602\ttrain-rmse:0.506855\n",
      "[146]\teval-rmse:0.613584\ttrain-rmse:0.506241\n",
      "[147]\teval-rmse:0.613389\ttrain-rmse:0.505512\n",
      "[148]\teval-rmse:0.613257\ttrain-rmse:0.505372\n",
      "[149]\teval-rmse:0.61266\ttrain-rmse:0.504503\n",
      "[150]\teval-rmse:0.612132\ttrain-rmse:0.503755\n",
      "[151]\teval-rmse:0.612024\ttrain-rmse:0.503581\n",
      "[152]\teval-rmse:0.611681\ttrain-rmse:0.502916\n",
      "[153]\teval-rmse:0.61138\ttrain-rmse:0.502584\n",
      "[154]\teval-rmse:0.610893\ttrain-rmse:0.50206\n",
      "[155]\teval-rmse:0.610835\ttrain-rmse:0.501896\n",
      "[156]\teval-rmse:0.609891\ttrain-rmse:0.500513\n",
      "[157]\teval-rmse:0.609676\ttrain-rmse:0.499878\n",
      "[158]\teval-rmse:0.609214\ttrain-rmse:0.498936\n",
      "[159]\teval-rmse:0.609002\ttrain-rmse:0.498525\n",
      "[160]\teval-rmse:0.60834\ttrain-rmse:0.497509\n",
      "[161]\teval-rmse:0.607555\ttrain-rmse:0.496416\n",
      "[162]\teval-rmse:0.606874\ttrain-rmse:0.49541\n",
      "[163]\teval-rmse:0.606242\ttrain-rmse:0.494499\n",
      "[164]\teval-rmse:0.605844\ttrain-rmse:0.493866\n",
      "[165]\teval-rmse:0.605659\ttrain-rmse:0.49366\n",
      "[166]\teval-rmse:0.605246\ttrain-rmse:0.493237\n",
      "[167]\teval-rmse:0.604993\ttrain-rmse:0.492627\n",
      "[168]\teval-rmse:0.605041\ttrain-rmse:0.492293\n",
      "[169]\teval-rmse:0.604833\ttrain-rmse:0.492021\n",
      "[170]\teval-rmse:0.604851\ttrain-rmse:0.491936\n",
      "[171]\teval-rmse:0.604261\ttrain-rmse:0.491107\n",
      "[172]\teval-rmse:0.603813\ttrain-rmse:0.49071\n",
      "[173]\teval-rmse:0.60361\ttrain-rmse:0.490432\n",
      "[174]\teval-rmse:0.603504\ttrain-rmse:0.490156\n",
      "[175]\teval-rmse:0.603378\ttrain-rmse:0.489223\n",
      "[176]\teval-rmse:0.602659\ttrain-rmse:0.488264\n",
      "[177]\teval-rmse:0.601964\ttrain-rmse:0.487321\n",
      "[178]\teval-rmse:0.601635\ttrain-rmse:0.486792\n",
      "[179]\teval-rmse:0.601264\ttrain-rmse:0.486487\n",
      "[180]\teval-rmse:0.601114\ttrain-rmse:0.485919\n",
      "[181]\teval-rmse:0.601058\ttrain-rmse:0.485821\n",
      "[182]\teval-rmse:0.600552\ttrain-rmse:0.485061\n",
      "[183]\teval-rmse:0.600479\ttrain-rmse:0.484792\n",
      "[184]\teval-rmse:0.600412\ttrain-rmse:0.484603\n",
      "[185]\teval-rmse:0.6002\ttrain-rmse:0.484338\n",
      "[186]\teval-rmse:0.599859\ttrain-rmse:0.483837\n"
     ]
    },
    {
     "name": "stdout",
     "output_type": "stream",
     "text": [
      "[187]\teval-rmse:0.598693\ttrain-rmse:0.481941\n",
      "[188]\teval-rmse:0.598391\ttrain-rmse:0.481277\n",
      "[189]\teval-rmse:0.598055\ttrain-rmse:0.48069\n",
      "[190]\teval-rmse:0.597719\ttrain-rmse:0.480292\n",
      "[191]\teval-rmse:0.597489\ttrain-rmse:0.479823\n",
      "[192]\teval-rmse:0.597528\ttrain-rmse:0.479549\n",
      "[193]\teval-rmse:0.597018\ttrain-rmse:0.478691\n",
      "[194]\teval-rmse:0.596965\ttrain-rmse:0.478358\n",
      "[195]\teval-rmse:0.596757\ttrain-rmse:0.478202\n",
      "[196]\teval-rmse:0.595838\ttrain-rmse:0.476951\n",
      "[197]\teval-rmse:0.595528\ttrain-rmse:0.476513\n",
      "[198]\teval-rmse:0.595325\ttrain-rmse:0.476179\n",
      "[199]\teval-rmse:0.594655\ttrain-rmse:0.475069\n",
      "[200]\teval-rmse:0.594159\ttrain-rmse:0.474355\n",
      "[201]\teval-rmse:0.593767\ttrain-rmse:0.473704\n",
      "[202]\teval-rmse:0.593709\ttrain-rmse:0.473598\n",
      "[203]\teval-rmse:0.593664\ttrain-rmse:0.473538\n",
      "[204]\teval-rmse:0.593312\ttrain-rmse:0.472902\n",
      "[205]\teval-rmse:0.593013\ttrain-rmse:0.472304\n",
      "[206]\teval-rmse:0.592867\ttrain-rmse:0.472061\n",
      "[207]\teval-rmse:0.592803\ttrain-rmse:0.471802\n",
      "[208]\teval-rmse:0.592598\ttrain-rmse:0.471584\n",
      "[209]\teval-rmse:0.592372\ttrain-rmse:0.471125\n",
      "[210]\teval-rmse:0.592318\ttrain-rmse:0.470459\n",
      "[211]\teval-rmse:0.592206\ttrain-rmse:0.469867\n",
      "[212]\teval-rmse:0.592011\ttrain-rmse:0.469511\n",
      "[213]\teval-rmse:0.591737\ttrain-rmse:0.46913\n",
      "[214]\teval-rmse:0.591697\ttrain-rmse:0.468848\n",
      "[215]\teval-rmse:0.591619\ttrain-rmse:0.468586\n",
      "[216]\teval-rmse:0.591598\ttrain-rmse:0.467906\n",
      "[217]\teval-rmse:0.591537\ttrain-rmse:0.467666\n",
      "[218]\teval-rmse:0.591535\ttrain-rmse:0.46745\n",
      "[219]\teval-rmse:0.591077\ttrain-rmse:0.466739\n",
      "[220]\teval-rmse:0.590941\ttrain-rmse:0.466552\n",
      "[221]\teval-rmse:0.590908\ttrain-rmse:0.466438\n",
      "[222]\teval-rmse:0.590728\ttrain-rmse:0.466208\n",
      "[223]\teval-rmse:0.590492\ttrain-rmse:0.4657\n",
      "[224]\teval-rmse:0.590519\ttrain-rmse:0.46565\n",
      "[225]\teval-rmse:0.590484\ttrain-rmse:0.465559\n",
      "[226]\teval-rmse:0.590415\ttrain-rmse:0.4655\n",
      "[227]\teval-rmse:0.590121\ttrain-rmse:0.464833\n",
      "[228]\teval-rmse:0.590091\ttrain-rmse:0.464702\n",
      "[229]\teval-rmse:0.590074\ttrain-rmse:0.464581\n",
      "[230]\teval-rmse:0.589882\ttrain-rmse:0.464297\n",
      "[231]\teval-rmse:0.589609\ttrain-rmse:0.463887\n",
      "[232]\teval-rmse:0.589521\ttrain-rmse:0.463764\n",
      "[233]\teval-rmse:0.58925\ttrain-rmse:0.463324\n",
      "[234]\teval-rmse:0.588822\ttrain-rmse:0.462518\n",
      "[235]\teval-rmse:0.588588\ttrain-rmse:0.462033\n",
      "[236]\teval-rmse:0.588357\ttrain-rmse:0.461696\n",
      "[237]\teval-rmse:0.588336\ttrain-rmse:0.461617\n",
      "[238]\teval-rmse:0.588126\ttrain-rmse:0.46116\n",
      "[239]\teval-rmse:0.587757\ttrain-rmse:0.460468\n",
      "[240]\teval-rmse:0.587565\ttrain-rmse:0.4602\n",
      "[241]\teval-rmse:0.587423\ttrain-rmse:0.459534\n",
      "[242]\teval-rmse:0.586776\ttrain-rmse:0.45841\n",
      "[243]\teval-rmse:0.586718\ttrain-rmse:0.458302\n",
      "[244]\teval-rmse:0.586295\ttrain-rmse:0.457579\n",
      "[245]\teval-rmse:0.585584\ttrain-rmse:0.456649\n",
      "[246]\teval-rmse:0.585426\ttrain-rmse:0.456229\n",
      "[247]\teval-rmse:0.585344\ttrain-rmse:0.456109\n",
      "[248]\teval-rmse:0.584958\ttrain-rmse:0.455454\n",
      "[249]\teval-rmse:0.584899\ttrain-rmse:0.455344\n",
      "[250]\teval-rmse:0.584658\ttrain-rmse:0.454755\n",
      "[251]\teval-rmse:0.584583\ttrain-rmse:0.45461\n",
      "[252]\teval-rmse:0.58452\ttrain-rmse:0.454531\n",
      "[253]\teval-rmse:0.584489\ttrain-rmse:0.454448\n",
      "[254]\teval-rmse:0.584158\ttrain-rmse:0.453957\n",
      "[255]\teval-rmse:0.584116\ttrain-rmse:0.453883\n",
      "[256]\teval-rmse:0.584021\ttrain-rmse:0.453554\n",
      "[257]\teval-rmse:0.583495\ttrain-rmse:0.452877\n",
      "[258]\teval-rmse:0.583453\ttrain-rmse:0.45278\n",
      "[259]\teval-rmse:0.58325\ttrain-rmse:0.452417\n",
      "[260]\teval-rmse:0.583115\ttrain-rmse:0.452176\n",
      "[261]\teval-rmse:0.583024\ttrain-rmse:0.452044\n",
      "[262]\teval-rmse:0.582987\ttrain-rmse:0.451944\n",
      "[263]\teval-rmse:0.582956\ttrain-rmse:0.45188\n",
      "[264]\teval-rmse:0.582928\ttrain-rmse:0.451854\n",
      "[265]\teval-rmse:0.58264\ttrain-rmse:0.451515\n",
      "[266]\teval-rmse:0.582549\ttrain-rmse:0.451226\n",
      "[267]\teval-rmse:0.58232\ttrain-rmse:0.450688\n",
      "[268]\teval-rmse:0.582119\ttrain-rmse:0.450362\n",
      "[269]\teval-rmse:0.581582\ttrain-rmse:0.44961\n",
      "[270]\teval-rmse:0.581289\ttrain-rmse:0.449164\n",
      "[271]\teval-rmse:0.581205\ttrain-rmse:0.449086\n",
      "[272]\teval-rmse:0.581189\ttrain-rmse:0.449035\n",
      "[273]\teval-rmse:0.581122\ttrain-rmse:0.448933\n",
      "[274]\teval-rmse:0.580693\ttrain-rmse:0.448242\n",
      "[275]\teval-rmse:0.580222\ttrain-rmse:0.447392\n",
      "[276]\teval-rmse:0.579947\ttrain-rmse:0.446954\n",
      "[277]\teval-rmse:0.579741\ttrain-rmse:0.446413\n",
      "[278]\teval-rmse:0.579642\ttrain-rmse:0.446288\n",
      "[279]\teval-rmse:0.579663\ttrain-rmse:0.446172\n",
      "[280]\teval-rmse:0.579488\ttrain-rmse:0.445897\n",
      "[281]\teval-rmse:0.57954\ttrain-rmse:0.445587\n",
      "[282]\teval-rmse:0.579221\ttrain-rmse:0.444977\n",
      "[283]\teval-rmse:0.579165\ttrain-rmse:0.444898\n",
      "[284]\teval-rmse:0.57891\ttrain-rmse:0.444549\n",
      "[285]\teval-rmse:0.578615\ttrain-rmse:0.44406\n",
      "[286]\teval-rmse:0.578527\ttrain-rmse:0.443913\n",
      "[287]\teval-rmse:0.577883\ttrain-rmse:0.443213\n",
      "[288]\teval-rmse:0.577824\ttrain-rmse:0.443107\n",
      "[289]\teval-rmse:0.57776\ttrain-rmse:0.442983\n",
      "[290]\teval-rmse:0.577593\ttrain-rmse:0.44273\n",
      "[291]\teval-rmse:0.577366\ttrain-rmse:0.442159\n",
      "[292]\teval-rmse:0.577265\ttrain-rmse:0.4419\n",
      "[293]\teval-rmse:0.577196\ttrain-rmse:0.441778\n",
      "[294]\teval-rmse:0.577145\ttrain-rmse:0.441665\n",
      "[295]\teval-rmse:0.577089\ttrain-rmse:0.441104\n",
      "[296]\teval-rmse:0.576883\ttrain-rmse:0.440759\n",
      "[297]\teval-rmse:0.576443\ttrain-rmse:0.440292\n",
      "[298]\teval-rmse:0.576079\ttrain-rmse:0.439682\n",
      "[299]\teval-rmse:0.576043\ttrain-rmse:0.439602\n",
      "[300]\teval-rmse:0.575932\ttrain-rmse:0.439388\n",
      "[301]\teval-rmse:0.575601\ttrain-rmse:0.438888\n",
      "[302]\teval-rmse:0.57559\ttrain-rmse:0.438527\n",
      "[303]\teval-rmse:0.575005\ttrain-rmse:0.437442\n",
      "[304]\teval-rmse:0.575024\ttrain-rmse:0.436916\n",
      "[305]\teval-rmse:0.574952\ttrain-rmse:0.436806\n",
      "[306]\teval-rmse:0.574949\ttrain-rmse:0.436627\n",
      "[307]\teval-rmse:0.574543\ttrain-rmse:0.435854\n",
      "[308]\teval-rmse:0.573832\ttrain-rmse:0.434626\n",
      "[309]\teval-rmse:0.573772\ttrain-rmse:0.434511\n",
      "[310]\teval-rmse:0.573694\ttrain-rmse:0.434425\n",
      "[311]\teval-rmse:0.573372\ttrain-rmse:0.433963\n",
      "[312]\teval-rmse:0.573266\ttrain-rmse:0.433761\n",
      "[313]\teval-rmse:0.573229\ttrain-rmse:0.433702\n",
      "[314]\teval-rmse:0.57316\ttrain-rmse:0.433587\n",
      "[315]\teval-rmse:0.573027\ttrain-rmse:0.433365\n",
      "[316]\teval-rmse:0.57296\ttrain-rmse:0.433108\n",
      "[317]\teval-rmse:0.572852\ttrain-rmse:0.432488\n",
      "[318]\teval-rmse:0.572709\ttrain-rmse:0.432279\n",
      "[319]\teval-rmse:0.57264\ttrain-rmse:0.43219\n",
      "[320]\teval-rmse:0.572461\ttrain-rmse:0.431682\n",
      "[321]\teval-rmse:0.572374\ttrain-rmse:0.43109\n",
      "[322]\teval-rmse:0.572383\ttrain-rmse:0.430829\n",
      "[323]\teval-rmse:0.572248\ttrain-rmse:0.430631\n",
      "[324]\teval-rmse:0.571946\ttrain-rmse:0.430119\n",
      "[325]\teval-rmse:0.571899\ttrain-rmse:0.43004\n",
      "[326]\teval-rmse:0.571466\ttrain-rmse:0.429366\n",
      "[327]\teval-rmse:0.571339\ttrain-rmse:0.428786\n",
      "[328]\teval-rmse:0.571052\ttrain-rmse:0.428361\n",
      "[329]\teval-rmse:0.570537\ttrain-rmse:0.427444\n",
      "[330]\teval-rmse:0.570507\ttrain-rmse:0.427362\n",
      "[331]\teval-rmse:0.570468\ttrain-rmse:0.427269\n",
      "[332]\teval-rmse:0.570287\ttrain-rmse:0.427036\n",
      "[333]\teval-rmse:0.569704\ttrain-rmse:0.426109\n",
      "[334]\teval-rmse:0.569658\ttrain-rmse:0.426031\n",
      "[335]\teval-rmse:0.569499\ttrain-rmse:0.425836\n",
      "[336]\teval-rmse:0.569265\ttrain-rmse:0.425253\n",
      "[337]\teval-rmse:0.568715\ttrain-rmse:0.424411\n",
      "[338]\teval-rmse:0.568632\ttrain-rmse:0.424078\n",
      "[339]\teval-rmse:0.568481\ttrain-rmse:0.423894\n",
      "[340]\teval-rmse:0.56834\ttrain-rmse:0.423635\n",
      "[341]\teval-rmse:0.568223\ttrain-rmse:0.423152\n",
      "[342]\teval-rmse:0.567798\ttrain-rmse:0.422334\n",
      "[343]\teval-rmse:0.567812\ttrain-rmse:0.422119\n",
      "[344]\teval-rmse:0.5677\ttrain-rmse:0.421504\n",
      "[345]\teval-rmse:0.567355\ttrain-rmse:0.420992\n",
      "[346]\teval-rmse:0.567332\ttrain-rmse:0.420925\n",
      "[347]\teval-rmse:0.567136\ttrain-rmse:0.42045\n",
      "[348]\teval-rmse:0.566884\ttrain-rmse:0.420068\n",
      "[349]\teval-rmse:0.566773\ttrain-rmse:0.419814\n",
      "[350]\teval-rmse:0.566698\ttrain-rmse:0.419671\n",
      "[351]\teval-rmse:0.566298\ttrain-rmse:0.418883\n",
      "[352]\teval-rmse:0.566196\ttrain-rmse:0.418354\n",
      "[353]\teval-rmse:0.566045\ttrain-rmse:0.418075\n",
      "[354]\teval-rmse:0.565483\ttrain-rmse:0.417183\n",
      "[355]\teval-rmse:0.565237\ttrain-rmse:0.416732\n",
      "[356]\teval-rmse:0.564777\ttrain-rmse:0.416263\n",
      "[357]\teval-rmse:0.564827\ttrain-rmse:0.41617\n",
      "[358]\teval-rmse:0.564821\ttrain-rmse:0.415793\n",
      "[359]\teval-rmse:0.564559\ttrain-rmse:0.415237\n",
      "[360]\teval-rmse:0.564514\ttrain-rmse:0.415107\n",
      "[361]\teval-rmse:0.564159\ttrain-rmse:0.414528\n",
      "[362]\teval-rmse:0.563956\ttrain-rmse:0.414016\n",
      "[363]\teval-rmse:0.563385\ttrain-rmse:0.413388\n",
      "[364]\teval-rmse:0.563298\ttrain-rmse:0.412971\n",
      "[365]\teval-rmse:0.563234\ttrain-rmse:0.412864\n",
      "[366]\teval-rmse:0.563233\ttrain-rmse:0.412616\n",
      "[367]\teval-rmse:0.563198\ttrain-rmse:0.412354\n",
      "[368]\teval-rmse:0.562808\ttrain-rmse:0.411261\n",
      "[369]\teval-rmse:0.562539\ttrain-rmse:0.410727\n"
     ]
    },
    {
     "name": "stdout",
     "output_type": "stream",
     "text": [
      "[370]\teval-rmse:0.562463\ttrain-rmse:0.410612\n",
      "[371]\teval-rmse:0.56239\ttrain-rmse:0.410507\n",
      "[372]\teval-rmse:0.561978\ttrain-rmse:0.409815\n",
      "[373]\teval-rmse:0.561786\ttrain-rmse:0.409382\n",
      "[374]\teval-rmse:0.561527\ttrain-rmse:0.40891\n",
      "[375]\teval-rmse:0.561518\ttrain-rmse:0.408872\n",
      "[376]\teval-rmse:0.561391\ttrain-rmse:0.40867\n",
      "[377]\teval-rmse:0.561327\ttrain-rmse:0.408223\n",
      "[378]\teval-rmse:0.561067\ttrain-rmse:0.407621\n",
      "[379]\teval-rmse:0.560998\ttrain-rmse:0.407539\n",
      "[380]\teval-rmse:0.560518\ttrain-rmse:0.40699\n",
      "[381]\teval-rmse:0.560137\ttrain-rmse:0.406177\n",
      "[382]\teval-rmse:0.560135\ttrain-rmse:0.405703\n",
      "[383]\teval-rmse:0.559804\ttrain-rmse:0.405066\n",
      "[384]\teval-rmse:0.559643\ttrain-rmse:0.404767\n",
      "[385]\teval-rmse:0.559576\ttrain-rmse:0.404669\n",
      "[386]\teval-rmse:0.559207\ttrain-rmse:0.404283\n",
      "[387]\teval-rmse:0.559115\ttrain-rmse:0.404175\n",
      "[388]\teval-rmse:0.558783\ttrain-rmse:0.4035\n",
      "[389]\teval-rmse:0.558522\ttrain-rmse:0.403008\n",
      "[390]\teval-rmse:0.558413\ttrain-rmse:0.402572\n",
      "[391]\teval-rmse:0.557882\ttrain-rmse:0.401573\n",
      "[392]\teval-rmse:0.55776\ttrain-rmse:0.400947\n",
      "[393]\teval-rmse:0.557732\ttrain-rmse:0.400884\n",
      "[394]\teval-rmse:0.557422\ttrain-rmse:0.400041\n",
      "[395]\teval-rmse:0.557063\ttrain-rmse:0.399399\n",
      "[396]\teval-rmse:0.556891\ttrain-rmse:0.399045\n",
      "[397]\teval-rmse:0.556746\ttrain-rmse:0.398764\n",
      "[398]\teval-rmse:0.556703\ttrain-rmse:0.398377\n",
      "[399]\teval-rmse:0.556614\ttrain-rmse:0.397971\n",
      "[400]\teval-rmse:0.556519\ttrain-rmse:0.397802\n",
      "[401]\teval-rmse:0.556502\ttrain-rmse:0.397765\n",
      "[402]\teval-rmse:0.556489\ttrain-rmse:0.397735\n",
      "[403]\teval-rmse:0.556478\ttrain-rmse:0.397706\n",
      "[404]\teval-rmse:0.556416\ttrain-rmse:0.397615\n",
      "[405]\teval-rmse:0.556402\ttrain-rmse:0.397507\n",
      "[406]\teval-rmse:0.556397\ttrain-rmse:0.397493\n",
      "[407]\teval-rmse:0.556348\ttrain-rmse:0.397399\n",
      "[408]\teval-rmse:0.556289\ttrain-rmse:0.397303\n",
      "[409]\teval-rmse:0.556277\ttrain-rmse:0.397274\n",
      "[410]\teval-rmse:0.556223\ttrain-rmse:0.397175\n",
      "[411]\teval-rmse:0.556151\ttrain-rmse:0.397062\n",
      "[412]\teval-rmse:0.556147\ttrain-rmse:0.397046\n",
      "[413]\teval-rmse:0.556142\ttrain-rmse:0.39703\n",
      "[414]\teval-rmse:0.556121\ttrain-rmse:0.397001\n",
      "[415]\teval-rmse:0.556074\ttrain-rmse:0.396913\n",
      "[416]\teval-rmse:0.556015\ttrain-rmse:0.396776\n",
      "[417]\teval-rmse:0.555955\ttrain-rmse:0.396666\n",
      "[418]\teval-rmse:0.555945\ttrain-rmse:0.396638\n",
      "[419]\teval-rmse:0.555923\ttrain-rmse:0.396534\n",
      "[420]\teval-rmse:0.555873\ttrain-rmse:0.396449\n",
      "[421]\teval-rmse:0.555868\ttrain-rmse:0.396435\n",
      "[422]\teval-rmse:0.555851\ttrain-rmse:0.396413\n",
      "[423]\teval-rmse:0.555844\ttrain-rmse:0.396394\n",
      "[424]\teval-rmse:0.555814\ttrain-rmse:0.396345\n",
      "[425]\teval-rmse:0.55581\ttrain-rmse:0.39633\n",
      "[426]\teval-rmse:0.555764\ttrain-rmse:0.396189\n",
      "[427]\teval-rmse:0.555696\ttrain-rmse:0.396103\n",
      "[428]\teval-rmse:0.555627\ttrain-rmse:0.396037\n",
      "[429]\teval-rmse:0.555614\ttrain-rmse:0.39602\n",
      "[430]\teval-rmse:0.555549\ttrain-rmse:0.395912\n",
      "[431]\teval-rmse:0.55554\ttrain-rmse:0.395891\n",
      "[432]\teval-rmse:0.555527\ttrain-rmse:0.395864\n",
      "[433]\teval-rmse:0.555506\ttrain-rmse:0.395762\n",
      "[434]\teval-rmse:0.555476\ttrain-rmse:0.395689\n",
      "[435]\teval-rmse:0.555424\ttrain-rmse:0.395498\n",
      "[436]\teval-rmse:0.555404\ttrain-rmse:0.39547\n",
      "[437]\teval-rmse:0.555389\ttrain-rmse:0.395374\n",
      "[438]\teval-rmse:0.555317\ttrain-rmse:0.395251\n",
      "[439]\teval-rmse:0.555218\ttrain-rmse:0.395028\n",
      "[440]\teval-rmse:0.555199\ttrain-rmse:0.394972\n",
      "[441]\teval-rmse:0.555139\ttrain-rmse:0.39488\n",
      "[442]\teval-rmse:0.555111\ttrain-rmse:0.394833\n",
      "[443]\teval-rmse:0.555104\ttrain-rmse:0.394821\n",
      "[444]\teval-rmse:0.555036\ttrain-rmse:0.394757\n",
      "[445]\teval-rmse:0.554978\ttrain-rmse:0.394666\n",
      "[446]\teval-rmse:0.554932\ttrain-rmse:0.39448\n",
      "[447]\teval-rmse:0.554912\ttrain-rmse:0.394452\n",
      "[448]\teval-rmse:0.554914\ttrain-rmse:0.394387\n",
      "[449]\teval-rmse:0.554907\ttrain-rmse:0.394374\n",
      "[450]\teval-rmse:0.554884\ttrain-rmse:0.394274\n",
      "[451]\teval-rmse:0.554855\ttrain-rmse:0.394206\n",
      "[452]\teval-rmse:0.554827\ttrain-rmse:0.394159\n",
      "[453]\teval-rmse:0.554815\ttrain-rmse:0.394135\n",
      "[454]\teval-rmse:0.554771\ttrain-rmse:0.393942\n",
      "[455]\teval-rmse:0.554756\ttrain-rmse:0.393916\n",
      "[456]\teval-rmse:0.554744\ttrain-rmse:0.3939\n",
      "[457]\teval-rmse:0.554679\ttrain-rmse:0.393806\n",
      "[458]\teval-rmse:0.554661\ttrain-rmse:0.393753\n",
      "[459]\teval-rmse:0.554646\ttrain-rmse:0.393703\n",
      "[460]\teval-rmse:0.554546\ttrain-rmse:0.393485\n",
      "[461]\teval-rmse:0.554358\ttrain-rmse:0.393201\n",
      "[462]\teval-rmse:0.554339\ttrain-rmse:0.393174\n",
      "[463]\teval-rmse:0.554273\ttrain-rmse:0.393112\n",
      "[464]\teval-rmse:0.554179\ttrain-rmse:0.392954\n",
      "[465]\teval-rmse:0.554167\ttrain-rmse:0.392929\n",
      "[466]\teval-rmse:0.554045\ttrain-rmse:0.392705\n",
      "[467]\teval-rmse:0.553842\ttrain-rmse:0.3924\n",
      "[468]\teval-rmse:0.553796\ttrain-rmse:0.392341\n",
      "[469]\teval-rmse:0.553792\ttrain-rmse:0.392329\n",
      "[470]\teval-rmse:0.553598\ttrain-rmse:0.392036\n",
      "[471]\teval-rmse:0.553579\ttrain-rmse:0.39201\n",
      "[472]\teval-rmse:0.553484\ttrain-rmse:0.391854\n",
      "[473]\teval-rmse:0.553384\ttrain-rmse:0.391688\n",
      "[474]\teval-rmse:0.553366\ttrain-rmse:0.391663\n",
      "[475]\teval-rmse:0.553289\ttrain-rmse:0.391517\n",
      "[476]\teval-rmse:0.553243\ttrain-rmse:0.39146\n",
      "[477]\teval-rmse:0.553209\ttrain-rmse:0.391405\n",
      "[478]\teval-rmse:0.553212\ttrain-rmse:0.391341\n",
      "[479]\teval-rmse:0.553194\ttrain-rmse:0.391316\n",
      "[480]\teval-rmse:0.553105\ttrain-rmse:0.391145\n",
      "[481]\teval-rmse:0.553063\ttrain-rmse:0.391086\n",
      "[482]\teval-rmse:0.553025\ttrain-rmse:0.390898\n",
      "[483]\teval-rmse:0.552858\ttrain-rmse:0.390637\n",
      "[484]\teval-rmse:0.552852\ttrain-rmse:0.390626\n",
      "[485]\teval-rmse:0.552833\ttrain-rmse:0.390602\n",
      "[486]\teval-rmse:0.552797\ttrain-rmse:0.3905\n",
      "[487]\teval-rmse:0.552769\ttrain-rmse:0.390432\n",
      "[488]\teval-rmse:0.552665\ttrain-rmse:0.390223\n",
      "[489]\teval-rmse:0.552641\ttrain-rmse:0.390031\n",
      "[490]\teval-rmse:0.552606\ttrain-rmse:0.389931\n",
      "[491]\teval-rmse:0.552508\ttrain-rmse:0.389706\n",
      "[492]\teval-rmse:0.552446\ttrain-rmse:0.389601\n",
      "[493]\teval-rmse:0.552461\ttrain-rmse:0.389459\n",
      "[494]\teval-rmse:0.552455\ttrain-rmse:0.389448\n",
      "[495]\teval-rmse:0.552355\ttrain-rmse:0.38923\n",
      "[496]\teval-rmse:0.552368\ttrain-rmse:0.389091\n",
      "[497]\teval-rmse:0.552363\ttrain-rmse:0.389078\n",
      "[498]\teval-rmse:0.552302\ttrain-rmse:0.38888\n",
      "[499]\teval-rmse:0.552262\ttrain-rmse:0.388768\n"
     ]
    }
   ],
   "source": [
    "xgtrain = xgb.DMatrix(X_train,y_train)\n",
    "xgtest = xgb.DMatrix(X_test,y_test)\n",
    "\n",
    "param = {'max_depth':6, 'eta':1, 'silent':1, 'objective':'reg:linear'}\n",
    "\n",
    "watchlist = [(xgtest, 'eval'), (xgtrain, 'train')]\n",
    "num_round = 500\n",
    "\n",
    "eta_list = [0.05] * 200 \n",
    "eta_list = eta_list + [0.03] * 200\n",
    "eta_list = eta_list + [0.01]*100\n",
    "\n",
    "bst = xgb.train(param, xgtrain, num_round, watchlist, learning_rates=eta_list)"
   ]
  },
  {
   "cell_type": "code",
   "execution_count": 38,
   "metadata": {},
   "outputs": [],
   "source": [
    "from sklearn.metrics import f1_score\n",
    "\n",
    "def eval_wrapper(y,yhat):  \n",
    "    y = np.array(y)\n",
    "    y = y.astype(int)\n",
    "    yhat = np.array(yhat)\n",
    "    yhat = np.clip(np.round(yhat), np.min(y), np.max(y)).astype(int)   \n",
    "    return f1_score(yhat, y,average = 'macro')"
   ]
  },
  {
   "cell_type": "code",
   "execution_count": 39,
   "metadata": {},
   "outputs": [
    {
     "data": {
      "text/plain": [
       "0.6504788787109945"
      ]
     },
     "execution_count": 39,
     "metadata": {},
     "output_type": "execute_result"
    }
   ],
   "source": [
    "y_pred = bst.predict(xgtest,ntree_limit=bst.best_iteration)\n",
    "\n",
    "eval_wrapper(y_test,y_pred)"
   ]
  },
  {
   "cell_type": "markdown",
   "metadata": {
    "heading_collapsed": true
   },
   "source": [
    "### create test file of predictions"
   ]
  },
  {
   "cell_type": "code",
   "execution_count": null,
   "metadata": {
    "hidden": true
   },
   "outputs": [],
   "source": [
    "xgtest_true = xgb.DMatrix(X_test_final)\n",
    "\n",
    "y_test_final = bst.predict(xgtest_true)"
   ]
  },
  {
   "cell_type": "code",
   "execution_count": null,
   "metadata": {
    "hidden": true
   },
   "outputs": [],
   "source": [
    "y_test_final = np.clip(np.round(y_test_final), 1, 4).astype(int)"
   ]
  },
  {
   "cell_type": "code",
   "execution_count": null,
   "metadata": {
    "hidden": true
   },
   "outputs": [],
   "source": [
    "test.index"
   ]
  },
  {
   "cell_type": "code",
   "execution_count": null,
   "metadata": {
    "hidden": true
   },
   "outputs": [],
   "source": [
    "submission = pd.DataFrame(data = y_test_final,index=test.index,columns = ['Target'])\n",
    "submission.to_csv('submission.csv')"
   ]
  },
  {
   "cell_type": "code",
   "execution_count": null,
   "metadata": {
    "hidden": true
   },
   "outputs": [],
   "source": [
    "submission['Target'].value_counts(normalize = True)"
   ]
  },
  {
   "cell_type": "code",
   "execution_count": null,
   "metadata": {
    "hidden": true
   },
   "outputs": [],
   "source": []
  }
 ],
 "metadata": {
  "kernelspec": {
   "display_name": "Python 3",
   "language": "python",
   "name": "python3"
  },
  "language_info": {
   "codemirror_mode": {
    "name": "ipython",
    "version": 3
   },
   "file_extension": ".py",
   "mimetype": "text/x-python",
   "name": "python",
   "nbconvert_exporter": "python",
   "pygments_lexer": "ipython3",
   "version": "3.6.5"
  },
  "toc": {
   "nav_menu": {},
   "number_sections": true,
   "sideBar": true,
   "skip_h1_title": false,
   "title_cell": "Table of Contents",
   "title_sidebar": "Contents",
   "toc_cell": false,
   "toc_position": {
    "height": "calc(100% - 180px)",
    "left": "10px",
    "top": "150px",
    "width": "542px"
   },
   "toc_section_display": true,
   "toc_window_display": true
  }
 },
 "nbformat": 4,
 "nbformat_minor": 2
}
