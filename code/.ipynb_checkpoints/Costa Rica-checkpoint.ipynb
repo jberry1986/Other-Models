{
 "cells": [
  {
   "cell_type": "markdown",
   "metadata": {},
   "source": [
    "### import libraries and data"
   ]
  },
  {
   "cell_type": "code",
   "execution_count": 1,
   "metadata": {},
   "outputs": [],
   "source": [
    "import pandas as pd\n",
    "import numpy as np"
   ]
  },
  {
   "cell_type": "code",
   "execution_count": 2,
   "metadata": {},
   "outputs": [],
   "source": [
    "train = pd.read_csv('../data/poverty/train.csv')\n",
    "test = pd.read_csv('../data/poverty/test.csv')"
   ]
  },
  {
   "cell_type": "code",
   "execution_count": 3,
   "metadata": {},
   "outputs": [],
   "source": [
    "data_dict = pd.read_table('../data/poverty/data_dict.txt',header = None)"
   ]
  },
  {
   "cell_type": "code",
   "execution_count": 4,
   "metadata": {},
   "outputs": [],
   "source": [
    "data_dict = data_dict[0].str.split(pat = ',',expand = True)"
   ]
  },
  {
   "cell_type": "code",
   "execution_count": 5,
   "metadata": {},
   "outputs": [],
   "source": [
    "data_dict.set_index(0,inplace = True)"
   ]
  },
  {
   "cell_type": "code",
   "execution_count": 6,
   "metadata": {},
   "outputs": [
    {
     "data": {
      "text/html": [
       "<div>\n",
       "<style scoped>\n",
       "    .dataframe tbody tr th:only-of-type {\n",
       "        vertical-align: middle;\n",
       "    }\n",
       "\n",
       "    .dataframe tbody tr th {\n",
       "        vertical-align: top;\n",
       "    }\n",
       "\n",
       "    .dataframe thead th {\n",
       "        text-align: right;\n",
       "    }\n",
       "</style>\n",
       "<table border=\"1\" class=\"dataframe\">\n",
       "  <thead>\n",
       "    <tr style=\"text-align: right;\">\n",
       "      <th></th>\n",
       "      <th>1</th>\n",
       "      <th>2</th>\n",
       "      <th>3</th>\n",
       "      <th>4</th>\n",
       "    </tr>\n",
       "    <tr>\n",
       "      <th>0</th>\n",
       "      <th></th>\n",
       "      <th></th>\n",
       "      <th></th>\n",
       "      <th></th>\n",
       "    </tr>\n",
       "  </thead>\n",
       "  <tbody>\n",
       "    <tr>\n",
       "      <th>v2a1</th>\n",
       "      <td>Monthly rent payment</td>\n",
       "      <td>None</td>\n",
       "      <td>None</td>\n",
       "      <td>None</td>\n",
       "    </tr>\n",
       "    <tr>\n",
       "      <th>hacdor</th>\n",
       "      <td>=1 Overcrowding by bedrooms</td>\n",
       "      <td>None</td>\n",
       "      <td>None</td>\n",
       "      <td>None</td>\n",
       "    </tr>\n",
       "    <tr>\n",
       "      <th>rooms</th>\n",
       "      <td>number of all rooms in the house</td>\n",
       "      <td>None</td>\n",
       "      <td>None</td>\n",
       "      <td>None</td>\n",
       "    </tr>\n",
       "    <tr>\n",
       "      <th>hacapo</th>\n",
       "      <td>=1 Overcrowding by rooms</td>\n",
       "      <td>None</td>\n",
       "      <td>None</td>\n",
       "      <td>None</td>\n",
       "    </tr>\n",
       "    <tr>\n",
       "      <th>v14a</th>\n",
       "      <td>=1 has bathroom in the household</td>\n",
       "      <td>None</td>\n",
       "      <td>None</td>\n",
       "      <td>None</td>\n",
       "    </tr>\n",
       "  </tbody>\n",
       "</table>\n",
       "</div>"
      ],
      "text/plain": [
       "                                         1     2     3     4\n",
       "0                                                           \n",
       "v2a1                  Monthly rent payment  None  None  None\n",
       "hacdor         =1 Overcrowding by bedrooms  None  None  None\n",
       "rooms     number of all rooms in the house  None  None  None\n",
       "hacapo            =1 Overcrowding by rooms  None  None  None\n",
       "v14a      =1 has bathroom in the household  None  None  None"
      ]
     },
     "execution_count": 6,
     "metadata": {},
     "output_type": "execute_result"
    }
   ],
   "source": [
    "data_dict.head()"
   ]
  },
  {
   "cell_type": "code",
   "execution_count": 7,
   "metadata": {},
   "outputs": [
    {
     "data": {
      "text/plain": [
       "(9557, 143)"
      ]
     },
     "execution_count": 7,
     "metadata": {},
     "output_type": "execute_result"
    }
   ],
   "source": [
    "train.shape"
   ]
  },
  {
   "cell_type": "code",
   "execution_count": 8,
   "metadata": {},
   "outputs": [],
   "source": [
    "train.set_index('Id',inplace  = True)\n",
    "test.set_index('Id',inplace  = True)"
   ]
  },
  {
   "cell_type": "markdown",
   "metadata": {},
   "source": [
    "### analysis of target"
   ]
  },
  {
   "cell_type": "code",
   "execution_count": 9,
   "metadata": {},
   "outputs": [
    {
     "data": {
      "text/plain": [
       "4    0.627394\n",
       "2    0.167103\n",
       "3    0.126504\n",
       "1    0.079000\n",
       "Name: Target, dtype: float64"
      ]
     },
     "execution_count": 9,
     "metadata": {},
     "output_type": "execute_result"
    }
   ],
   "source": [
    "train['Target'].value_counts(normalize = True)"
   ]
  },
  {
   "cell_type": "raw",
   "metadata": {},
   "source": [
    "Target - the target is an ordinal variable indicating groups of income levels. \n",
    "1 = extreme poverty \n",
    "2 = moderate poverty \n",
    "3 = vulnerable households \n",
    "4 = non vulnerable households"
   ]
  },
  {
   "cell_type": "code",
   "execution_count": null,
   "metadata": {},
   "outputs": [],
   "source": []
  },
  {
   "cell_type": "markdown",
   "metadata": {},
   "source": [
    "### how do we want to split up our data types?"
   ]
  },
  {
   "cell_type": "code",
   "execution_count": 10,
   "metadata": {},
   "outputs": [],
   "source": [
    "data_types = train.dtypes"
   ]
  },
  {
   "cell_type": "raw",
   "metadata": {},
   "source": [
    "143 features. Break this down into steps for data cleaning"
   ]
  },
  {
   "cell_type": "code",
   "execution_count": 11,
   "metadata": {},
   "outputs": [
    {
     "data": {
      "text/plain": [
       "int64      130\n",
       "float64      8\n",
       "object       4\n",
       "dtype: int64"
      ]
     },
     "execution_count": 11,
     "metadata": {},
     "output_type": "execute_result"
    }
   ],
   "source": [
    "data_types.value_counts()"
   ]
  },
  {
   "cell_type": "markdown",
   "metadata": {},
   "source": [
    "#### object data types"
   ]
  },
  {
   "cell_type": "code",
   "execution_count": 12,
   "metadata": {},
   "outputs": [
    {
     "data": {
      "text/plain": [
       "idhogar       object\n",
       "dependency    object\n",
       "edjefe        object\n",
       "edjefa        object\n",
       "dtype: object"
      ]
     },
     "execution_count": 12,
     "metadata": {},
     "output_type": "execute_result"
    }
   ],
   "source": [
    "data_types[data_types == 'object']"
   ]
  },
  {
   "cell_type": "raw",
   "metadata": {},
   "source": [
    "one of these is the ID field which we should probably set to be the index. the other object fields are:\n",
    "    idhogar, Household level identifier\n",
    "    dependency, Dependency rate, calculated = (number of members of the household younger than 19 or older than 64)/(number of member of household between 19 and 64)\n",
    "    edjefe, years of education of male head of household, based on the interaction of escolari (years of education), head of household and gender, yes=1 and no=0\n",
    "    edjefa, years of education of female head of household, based on the interaction of escolari (years of education), head of household and gender, yes=1 and no=0"
   ]
  },
  {
   "cell_type": "code",
   "execution_count": null,
   "metadata": {},
   "outputs": [],
   "source": []
  },
  {
   "cell_type": "code",
   "execution_count": 13,
   "metadata": {},
   "outputs": [
    {
     "data": {
      "text/plain": [
       "no     3762\n",
       "6      1845\n",
       "11      751\n",
       "9       486\n",
       "3       307\n",
       "15      285\n",
       "8       257\n",
       "7       234\n",
       "5       222\n",
       "14      208\n",
       "17      202\n",
       "2       194\n",
       "4       137\n",
       "16      134\n",
       "yes     123\n",
       "12      113\n",
       "10      111\n",
       "13      103\n",
       "21       43\n",
       "18       19\n",
       "19       14\n",
       "20        7\n",
       "Name: edjefe, dtype: int64"
      ]
     },
     "execution_count": 13,
     "metadata": {},
     "output_type": "execute_result"
    }
   ],
   "source": [
    "train['edjefe'].value_counts()"
   ]
  },
  {
   "cell_type": "markdown",
   "metadata": {},
   "source": [
    "#### float data types"
   ]
  },
  {
   "cell_type": "code",
   "execution_count": 14,
   "metadata": {},
   "outputs": [],
   "source": [
    "float_index = data_types[data_types == 'float64'].index.values.tolist()"
   ]
  },
  {
   "cell_type": "code",
   "execution_count": 15,
   "metadata": {},
   "outputs": [
    {
     "data": {
      "text/plain": [
       "0\n",
       "v2a1                                            Monthly rent payment\n",
       "v18q1                               number of tablets household owns\n",
       "rez_esc                                       Years behind in school\n",
       "meaneduc                 average years of education for adults (18+)\n",
       "overcrowding                                      # persons per room\n",
       "SQBovercrowding                                 overcrowding squared\n",
       "SQBdependency                                     dependency squared\n",
       "SQBmeaned           square of the mean years of education of adul...\n",
       "Name: 1, dtype: object"
      ]
     },
     "execution_count": 15,
     "metadata": {},
     "output_type": "execute_result"
    }
   ],
   "source": [
    "data_dict.loc[float_index,1]"
   ]
  },
  {
   "cell_type": "code",
   "execution_count": 16,
   "metadata": {},
   "outputs": [
    {
     "data": {
      "text/plain": [
       "v2a1               6860\n",
       "v18q1              7342\n",
       "rez_esc            7928\n",
       "meaneduc              5\n",
       "overcrowding          0\n",
       "SQBovercrowding       0\n",
       "SQBdependency         0\n",
       "SQBmeaned             5\n",
       "dtype: int64"
      ]
     },
     "execution_count": 16,
     "metadata": {},
     "output_type": "execute_result"
    }
   ],
   "source": [
    "train[float_index].isnull().sum()"
   ]
  },
  {
   "cell_type": "markdown",
   "metadata": {},
   "source": [
    "#### integer data types"
   ]
  },
  {
   "cell_type": "code",
   "execution_count": 17,
   "metadata": {},
   "outputs": [],
   "source": [
    "int_index = data_types[data_types == 'int64'].index.values.tolist()"
   ]
  },
  {
   "cell_type": "code",
   "execution_count": 18,
   "metadata": {},
   "outputs": [
    {
     "name": "stderr",
     "output_type": "stream",
     "text": [
      "C:\\Users\\jberry2\\Anaconda\\lib\\site-packages\\ipykernel_launcher.py:1: FutureWarning: \n",
      "Passing list-likes to .loc or [] with any missing label will raise\n",
      "KeyError in the future, you can use .reindex() as an alternative.\n",
      "\n",
      "See the documentation here:\n",
      "https://pandas.pydata.org/pandas-docs/stable/indexing.html#deprecate-loc-reindex-listlike\n",
      "  \"\"\"Entry point for launching an IPython kernel.\n"
     ]
    },
    {
     "data": {
      "text/html": [
       "<div>\n",
       "<style scoped>\n",
       "    .dataframe tbody tr th:only-of-type {\n",
       "        vertical-align: middle;\n",
       "    }\n",
       "\n",
       "    .dataframe tbody tr th {\n",
       "        vertical-align: top;\n",
       "    }\n",
       "\n",
       "    .dataframe thead th {\n",
       "        text-align: right;\n",
       "    }\n",
       "</style>\n",
       "<table border=\"1\" class=\"dataframe\">\n",
       "  <thead>\n",
       "    <tr style=\"text-align: right;\">\n",
       "      <th></th>\n",
       "      <th>1</th>\n",
       "      <th>2</th>\n",
       "      <th>3</th>\n",
       "      <th>4</th>\n",
       "    </tr>\n",
       "    <tr>\n",
       "      <th>0</th>\n",
       "      <th></th>\n",
       "      <th></th>\n",
       "      <th></th>\n",
       "      <th></th>\n",
       "    </tr>\n",
       "  </thead>\n",
       "  <tbody>\n",
       "    <tr>\n",
       "      <th>hacdor</th>\n",
       "      <td>=1 Overcrowding by bedrooms</td>\n",
       "      <td>None</td>\n",
       "      <td>None</td>\n",
       "      <td>None</td>\n",
       "    </tr>\n",
       "    <tr>\n",
       "      <th>rooms</th>\n",
       "      <td>number of all rooms in the house</td>\n",
       "      <td>None</td>\n",
       "      <td>None</td>\n",
       "      <td>None</td>\n",
       "    </tr>\n",
       "    <tr>\n",
       "      <th>hacapo</th>\n",
       "      <td>=1 Overcrowding by rooms</td>\n",
       "      <td>None</td>\n",
       "      <td>None</td>\n",
       "      <td>None</td>\n",
       "    </tr>\n",
       "    <tr>\n",
       "      <th>v14a</th>\n",
       "      <td>=1 has bathroom in the household</td>\n",
       "      <td>None</td>\n",
       "      <td>None</td>\n",
       "      <td>None</td>\n",
       "    </tr>\n",
       "    <tr>\n",
       "      <th>refrig</th>\n",
       "      <td>=1 if the household has refrigerator</td>\n",
       "      <td>None</td>\n",
       "      <td>None</td>\n",
       "      <td>None</td>\n",
       "    </tr>\n",
       "    <tr>\n",
       "      <th>v18q</th>\n",
       "      <td>owns a tablet</td>\n",
       "      <td>None</td>\n",
       "      <td>None</td>\n",
       "      <td>None</td>\n",
       "    </tr>\n",
       "    <tr>\n",
       "      <th>r4h1</th>\n",
       "      <td>Males younger than 12 years of age</td>\n",
       "      <td>None</td>\n",
       "      <td>None</td>\n",
       "      <td>None</td>\n",
       "    </tr>\n",
       "    <tr>\n",
       "      <th>r4h2</th>\n",
       "      <td>Males 12 years of age and older</td>\n",
       "      <td>None</td>\n",
       "      <td>None</td>\n",
       "      <td>None</td>\n",
       "    </tr>\n",
       "    <tr>\n",
       "      <th>r4h3</th>\n",
       "      <td>Total males in the household</td>\n",
       "      <td>None</td>\n",
       "      <td>None</td>\n",
       "      <td>None</td>\n",
       "    </tr>\n",
       "    <tr>\n",
       "      <th>r4m1</th>\n",
       "      <td>Females younger than 12 years of age</td>\n",
       "      <td>None</td>\n",
       "      <td>None</td>\n",
       "      <td>None</td>\n",
       "    </tr>\n",
       "    <tr>\n",
       "      <th>r4m2</th>\n",
       "      <td>Females 12 years of age and older</td>\n",
       "      <td>None</td>\n",
       "      <td>None</td>\n",
       "      <td>None</td>\n",
       "    </tr>\n",
       "    <tr>\n",
       "      <th>r4m3</th>\n",
       "      <td>Total females in the household</td>\n",
       "      <td>None</td>\n",
       "      <td>None</td>\n",
       "      <td>None</td>\n",
       "    </tr>\n",
       "    <tr>\n",
       "      <th>r4t1</th>\n",
       "      <td>persons younger than 12 years of age</td>\n",
       "      <td>None</td>\n",
       "      <td>None</td>\n",
       "      <td>None</td>\n",
       "    </tr>\n",
       "    <tr>\n",
       "      <th>r4t2</th>\n",
       "      <td>persons 12 years of age and older</td>\n",
       "      <td>None</td>\n",
       "      <td>None</td>\n",
       "      <td>None</td>\n",
       "    </tr>\n",
       "    <tr>\n",
       "      <th>r4t3</th>\n",
       "      <td>Total persons in the household</td>\n",
       "      <td>None</td>\n",
       "      <td>None</td>\n",
       "      <td>None</td>\n",
       "    </tr>\n",
       "    <tr>\n",
       "      <th>tamhog</th>\n",
       "      <td>size of the household</td>\n",
       "      <td>None</td>\n",
       "      <td>None</td>\n",
       "      <td>None</td>\n",
       "    </tr>\n",
       "    <tr>\n",
       "      <th>tamviv</th>\n",
       "      <td>number of persons living in the household</td>\n",
       "      <td>None</td>\n",
       "      <td>None</td>\n",
       "      <td>None</td>\n",
       "    </tr>\n",
       "    <tr>\n",
       "      <th>escolari</th>\n",
       "      <td>years of schooling</td>\n",
       "      <td>None</td>\n",
       "      <td>None</td>\n",
       "      <td>None</td>\n",
       "    </tr>\n",
       "    <tr>\n",
       "      <th>hhsize</th>\n",
       "      <td>household size</td>\n",
       "      <td>None</td>\n",
       "      <td>None</td>\n",
       "      <td>None</td>\n",
       "    </tr>\n",
       "    <tr>\n",
       "      <th>paredblolad</th>\n",
       "      <td>=1 if predominant material on the outside wal...</td>\n",
       "      <td>None</td>\n",
       "      <td>None</td>\n",
       "      <td>None</td>\n",
       "    </tr>\n",
       "    <tr>\n",
       "      <th>paredzocalo</th>\n",
       "      <td>\"=1 if predominant material on the outside wa...</td>\n",
       "      <td>zinc or absbesto\"</td>\n",
       "      <td>None</td>\n",
       "      <td>None</td>\n",
       "    </tr>\n",
       "    <tr>\n",
       "      <th>paredpreb</th>\n",
       "      <td>=1 if predominant material on the outside wal...</td>\n",
       "      <td>None</td>\n",
       "      <td>None</td>\n",
       "      <td>None</td>\n",
       "    </tr>\n",
       "    <tr>\n",
       "      <th>pareddes</th>\n",
       "      <td>=1 if predominant material on the outside wal...</td>\n",
       "      <td>None</td>\n",
       "      <td>None</td>\n",
       "      <td>None</td>\n",
       "    </tr>\n",
       "    <tr>\n",
       "      <th>paredmad</th>\n",
       "      <td>=1 if predominant material on the outside wal...</td>\n",
       "      <td>None</td>\n",
       "      <td>None</td>\n",
       "      <td>None</td>\n",
       "    </tr>\n",
       "    <tr>\n",
       "      <th>paredzinc</th>\n",
       "      <td>=1 if predominant material on the outside wal...</td>\n",
       "      <td>None</td>\n",
       "      <td>None</td>\n",
       "      <td>None</td>\n",
       "    </tr>\n",
       "    <tr>\n",
       "      <th>paredfibras</th>\n",
       "      <td>=1 if predominant material on the outside wal...</td>\n",
       "      <td>None</td>\n",
       "      <td>None</td>\n",
       "      <td>None</td>\n",
       "    </tr>\n",
       "    <tr>\n",
       "      <th>paredother</th>\n",
       "      <td>=1 if predominant material on the outside wal...</td>\n",
       "      <td>None</td>\n",
       "      <td>None</td>\n",
       "      <td>None</td>\n",
       "    </tr>\n",
       "    <tr>\n",
       "      <th>pisomoscer</th>\n",
       "      <td>\"=1 if predominant material on the floor is m...</td>\n",
       "      <td>ceramic</td>\n",
       "      <td>terrazo\"</td>\n",
       "      <td>None</td>\n",
       "    </tr>\n",
       "    <tr>\n",
       "      <th>pisocemento</th>\n",
       "      <td>=1 if predominant material on the floor is ce...</td>\n",
       "      <td>None</td>\n",
       "      <td>None</td>\n",
       "      <td>None</td>\n",
       "    </tr>\n",
       "    <tr>\n",
       "      <th>pisoother</th>\n",
       "      <td>=1 if predominant material on the floor is other</td>\n",
       "      <td>None</td>\n",
       "      <td>None</td>\n",
       "      <td>None</td>\n",
       "    </tr>\n",
       "    <tr>\n",
       "      <th>...</th>\n",
       "      <td>...</td>\n",
       "      <td>...</td>\n",
       "      <td>...</td>\n",
       "      <td>...</td>\n",
       "    </tr>\n",
       "    <tr>\n",
       "      <th>instlevel6</th>\n",
       "      <td>=1 incomplete technical secondary level</td>\n",
       "      <td>None</td>\n",
       "      <td>None</td>\n",
       "      <td>None</td>\n",
       "    </tr>\n",
       "    <tr>\n",
       "      <th>instlevel7</th>\n",
       "      <td>=1 complete technical secondary level</td>\n",
       "      <td>None</td>\n",
       "      <td>None</td>\n",
       "      <td>None</td>\n",
       "    </tr>\n",
       "    <tr>\n",
       "      <th>instlevel8</th>\n",
       "      <td>=1 undergraduate and higher education</td>\n",
       "      <td>None</td>\n",
       "      <td>None</td>\n",
       "      <td>None</td>\n",
       "    </tr>\n",
       "    <tr>\n",
       "      <th>instlevel9</th>\n",
       "      <td>=1 postgraduate higher education</td>\n",
       "      <td>None</td>\n",
       "      <td>None</td>\n",
       "      <td>None</td>\n",
       "    </tr>\n",
       "    <tr>\n",
       "      <th>bedrooms</th>\n",
       "      <td>number of bedrooms</td>\n",
       "      <td>None</td>\n",
       "      <td>None</td>\n",
       "      <td>None</td>\n",
       "    </tr>\n",
       "    <tr>\n",
       "      <th>tipovivi1</th>\n",
       "      <td>=1 own and fully paid house</td>\n",
       "      <td>None</td>\n",
       "      <td>None</td>\n",
       "      <td>None</td>\n",
       "    </tr>\n",
       "    <tr>\n",
       "      <th>tipovivi2</th>\n",
       "      <td>\"=1 own</td>\n",
       "      <td>paying in installments\"</td>\n",
       "      <td>None</td>\n",
       "      <td>None</td>\n",
       "    </tr>\n",
       "    <tr>\n",
       "      <th>tipovivi3</th>\n",
       "      <td>=1 rented</td>\n",
       "      <td>None</td>\n",
       "      <td>None</td>\n",
       "      <td>None</td>\n",
       "    </tr>\n",
       "    <tr>\n",
       "      <th>tipovivi4</th>\n",
       "      <td>=1 precarious</td>\n",
       "      <td>None</td>\n",
       "      <td>None</td>\n",
       "      <td>None</td>\n",
       "    </tr>\n",
       "    <tr>\n",
       "      <th>tipovivi5</th>\n",
       "      <td>\"=1 other(assigned</td>\n",
       "      <td>borrowed)\"</td>\n",
       "      <td>None</td>\n",
       "      <td>None</td>\n",
       "    </tr>\n",
       "    <tr>\n",
       "      <th>computer</th>\n",
       "      <td>=1 if the household has notebook or desktop c...</td>\n",
       "      <td>None</td>\n",
       "      <td>None</td>\n",
       "      <td>None</td>\n",
       "    </tr>\n",
       "    <tr>\n",
       "      <th>television</th>\n",
       "      <td>=1 if the household has TV</td>\n",
       "      <td>None</td>\n",
       "      <td>None</td>\n",
       "      <td>None</td>\n",
       "    </tr>\n",
       "    <tr>\n",
       "      <th>mobilephone</th>\n",
       "      <td>=1 if mobile phone</td>\n",
       "      <td>None</td>\n",
       "      <td>None</td>\n",
       "      <td>None</td>\n",
       "    </tr>\n",
       "    <tr>\n",
       "      <th>qmobilephone</th>\n",
       "      <td># of mobile phones</td>\n",
       "      <td>None</td>\n",
       "      <td>None</td>\n",
       "      <td>None</td>\n",
       "    </tr>\n",
       "    <tr>\n",
       "      <th>lugar1</th>\n",
       "      <td>=1 region Central</td>\n",
       "      <td>None</td>\n",
       "      <td>None</td>\n",
       "      <td>None</td>\n",
       "    </tr>\n",
       "    <tr>\n",
       "      <th>lugar2</th>\n",
       "      <td>=1 region Chorotega</td>\n",
       "      <td>None</td>\n",
       "      <td>None</td>\n",
       "      <td>None</td>\n",
       "    </tr>\n",
       "    <tr>\n",
       "      <th>lugar3</th>\n",
       "      <td>=1 region PacÃ­fico central</td>\n",
       "      <td>None</td>\n",
       "      <td>None</td>\n",
       "      <td>None</td>\n",
       "    </tr>\n",
       "    <tr>\n",
       "      <th>lugar4</th>\n",
       "      <td>=1 region Brunca</td>\n",
       "      <td>None</td>\n",
       "      <td>None</td>\n",
       "      <td>None</td>\n",
       "    </tr>\n",
       "    <tr>\n",
       "      <th>lugar5</th>\n",
       "      <td>=1 region Huetar AtlÃ¡ntica</td>\n",
       "      <td>None</td>\n",
       "      <td>None</td>\n",
       "      <td>None</td>\n",
       "    </tr>\n",
       "    <tr>\n",
       "      <th>lugar6</th>\n",
       "      <td>=1 region Huetar Norte</td>\n",
       "      <td>None</td>\n",
       "      <td>None</td>\n",
       "      <td>None</td>\n",
       "    </tr>\n",
       "    <tr>\n",
       "      <th>area1</th>\n",
       "      <td>=1 zona urbana</td>\n",
       "      <td>None</td>\n",
       "      <td>None</td>\n",
       "      <td>None</td>\n",
       "    </tr>\n",
       "    <tr>\n",
       "      <th>area2</th>\n",
       "      <td>=2 zona rural</td>\n",
       "      <td>None</td>\n",
       "      <td>None</td>\n",
       "      <td>None</td>\n",
       "    </tr>\n",
       "    <tr>\n",
       "      <th>age</th>\n",
       "      <td>Age in years</td>\n",
       "      <td>None</td>\n",
       "      <td>None</td>\n",
       "      <td>None</td>\n",
       "    </tr>\n",
       "    <tr>\n",
       "      <th>SQBescolari</th>\n",
       "      <td>escolari squared</td>\n",
       "      <td>None</td>\n",
       "      <td>None</td>\n",
       "      <td>None</td>\n",
       "    </tr>\n",
       "    <tr>\n",
       "      <th>SQBage</th>\n",
       "      <td>age squared</td>\n",
       "      <td>None</td>\n",
       "      <td>None</td>\n",
       "      <td>None</td>\n",
       "    </tr>\n",
       "    <tr>\n",
       "      <th>SQBhogar_total</th>\n",
       "      <td>hogar_total squared</td>\n",
       "      <td>None</td>\n",
       "      <td>None</td>\n",
       "      <td>None</td>\n",
       "    </tr>\n",
       "    <tr>\n",
       "      <th>SQBedjefe</th>\n",
       "      <td>edjefe squared</td>\n",
       "      <td>None</td>\n",
       "      <td>None</td>\n",
       "      <td>None</td>\n",
       "    </tr>\n",
       "    <tr>\n",
       "      <th>SQBhogar_nin</th>\n",
       "      <td>hogar_nin squared</td>\n",
       "      <td>None</td>\n",
       "      <td>None</td>\n",
       "      <td>None</td>\n",
       "    </tr>\n",
       "    <tr>\n",
       "      <th>agesq</th>\n",
       "      <td>Age squared</td>\n",
       "      <td>None</td>\n",
       "      <td>None</td>\n",
       "      <td>None</td>\n",
       "    </tr>\n",
       "    <tr>\n",
       "      <th>Target</th>\n",
       "      <td>NaN</td>\n",
       "      <td>NaN</td>\n",
       "      <td>NaN</td>\n",
       "      <td>NaN</td>\n",
       "    </tr>\n",
       "  </tbody>\n",
       "</table>\n",
       "<p>130 rows × 4 columns</p>\n",
       "</div>"
      ],
      "text/plain": [
       "                                                                1  \\\n",
       "0                                                                   \n",
       "hacdor                                =1 Overcrowding by bedrooms   \n",
       "rooms                            number of all rooms in the house   \n",
       "hacapo                                   =1 Overcrowding by rooms   \n",
       "v14a                             =1 has bathroom in the household   \n",
       "refrig                       =1 if the household has refrigerator   \n",
       "v18q                                                owns a tablet   \n",
       "r4h1                           Males younger than 12 years of age   \n",
       "r4h2                              Males 12 years of age and older   \n",
       "r4h3                                 Total males in the household   \n",
       "r4m1                         Females younger than 12 years of age   \n",
       "r4m2                            Females 12 years of age and older   \n",
       "r4m3                               Total females in the household   \n",
       "r4t1                         persons younger than 12 years of age   \n",
       "r4t2                            persons 12 years of age and older   \n",
       "r4t3                               Total persons in the household   \n",
       "tamhog                                      size of the household   \n",
       "tamviv                  number of persons living in the household   \n",
       "escolari                                       years of schooling   \n",
       "hhsize                                             household size   \n",
       "paredblolad      =1 if predominant material on the outside wal...   \n",
       "paredzocalo      \"=1 if predominant material on the outside wa...   \n",
       "paredpreb        =1 if predominant material on the outside wal...   \n",
       "pareddes         =1 if predominant material on the outside wal...   \n",
       "paredmad         =1 if predominant material on the outside wal...   \n",
       "paredzinc        =1 if predominant material on the outside wal...   \n",
       "paredfibras      =1 if predominant material on the outside wal...   \n",
       "paredother       =1 if predominant material on the outside wal...   \n",
       "pisomoscer       \"=1 if predominant material on the floor is m...   \n",
       "pisocemento      =1 if predominant material on the floor is ce...   \n",
       "pisoother        =1 if predominant material on the floor is other   \n",
       "...                                                           ...   \n",
       "instlevel6                =1 incomplete technical secondary level   \n",
       "instlevel7                  =1 complete technical secondary level   \n",
       "instlevel8                  =1 undergraduate and higher education   \n",
       "instlevel9                       =1 postgraduate higher education   \n",
       "bedrooms                                       number of bedrooms   \n",
       "tipovivi1                             =1 own and fully paid house   \n",
       "tipovivi2                                                 \"=1 own   \n",
       "tipovivi3                                               =1 rented   \n",
       "tipovivi4                                           =1 precarious   \n",
       "tipovivi5                                      \"=1 other(assigned   \n",
       "computer         =1 if the household has notebook or desktop c...   \n",
       "television                             =1 if the household has TV   \n",
       "mobilephone                                    =1 if mobile phone   \n",
       "qmobilephone                                   # of mobile phones   \n",
       "lugar1                                          =1 region Central   \n",
       "lugar2                                        =1 region Chorotega   \n",
       "lugar3                                =1 region PacÃ­fico central   \n",
       "lugar4                                           =1 region Brunca   \n",
       "lugar5                                =1 region Huetar AtlÃ¡ntica   \n",
       "lugar6                                     =1 region Huetar Norte   \n",
       "area1                                              =1 zona urbana   \n",
       "area2                                               =2 zona rural   \n",
       "age                                                  Age in years   \n",
       "SQBescolari                                      escolari squared   \n",
       "SQBage                                                age squared   \n",
       "SQBhogar_total                                hogar_total squared   \n",
       "SQBedjefe                                          edjefe squared   \n",
       "SQBhogar_nin                                    hogar_nin squared   \n",
       "agesq                                                 Age squared   \n",
       "Target                                                        NaN   \n",
       "\n",
       "                                        2           3     4  \n",
       "0                                                            \n",
       "hacdor                               None        None  None  \n",
       "rooms                                None        None  None  \n",
       "hacapo                               None        None  None  \n",
       "v14a                                 None        None  None  \n",
       "refrig                               None        None  None  \n",
       "v18q                                 None        None  None  \n",
       "r4h1                                 None        None  None  \n",
       "r4h2                                 None        None  None  \n",
       "r4h3                                 None        None  None  \n",
       "r4m1                                 None        None  None  \n",
       "r4m2                                 None        None  None  \n",
       "r4m3                                 None        None  None  \n",
       "r4t1                                 None        None  None  \n",
       "r4t2                                 None        None  None  \n",
       "r4t3                                 None        None  None  \n",
       "tamhog                               None        None  None  \n",
       "tamviv                               None        None  None  \n",
       "escolari                             None        None  None  \n",
       "hhsize                               None        None  None  \n",
       "paredblolad                          None        None  None  \n",
       "paredzocalo             zinc or absbesto\"        None  None  \n",
       "paredpreb                            None        None  None  \n",
       "pareddes                             None        None  None  \n",
       "paredmad                             None        None  None  \n",
       "paredzinc                            None        None  None  \n",
       "paredfibras                          None        None  None  \n",
       "paredother                           None        None  None  \n",
       "pisomoscer                        ceramic    terrazo\"  None  \n",
       "pisocemento                          None        None  None  \n",
       "pisoother                            None        None  None  \n",
       "...                                   ...         ...   ...  \n",
       "instlevel6                           None        None  None  \n",
       "instlevel7                           None        None  None  \n",
       "instlevel8                           None        None  None  \n",
       "instlevel9                           None        None  None  \n",
       "bedrooms                             None        None  None  \n",
       "tipovivi1                            None        None  None  \n",
       "tipovivi2         paying in installments\"        None  None  \n",
       "tipovivi3                            None        None  None  \n",
       "tipovivi4                            None        None  None  \n",
       "tipovivi5                      borrowed)\"        None  None  \n",
       "computer                             None        None  None  \n",
       "television                           None        None  None  \n",
       "mobilephone                          None        None  None  \n",
       "qmobilephone                         None        None  None  \n",
       "lugar1                               None        None  None  \n",
       "lugar2                               None        None  None  \n",
       "lugar3                               None        None  None  \n",
       "lugar4                               None        None  None  \n",
       "lugar5                               None        None  None  \n",
       "lugar6                               None        None  None  \n",
       "area1                                None        None  None  \n",
       "area2                                None        None  None  \n",
       "age                                  None        None  None  \n",
       "SQBescolari                          None        None  None  \n",
       "SQBage                               None        None  None  \n",
       "SQBhogar_total                       None        None  None  \n",
       "SQBedjefe                            None        None  None  \n",
       "SQBhogar_nin                         None        None  None  \n",
       "agesq                                None        None  None  \n",
       "Target                                NaN         NaN   NaN  \n",
       "\n",
       "[130 rows x 4 columns]"
      ]
     },
     "execution_count": 18,
     "metadata": {},
     "output_type": "execute_result"
    }
   ],
   "source": [
    "data_dict.loc[int_index]"
   ]
  },
  {
   "cell_type": "markdown",
   "metadata": {},
   "source": [
    "#### credit to https://www.kaggle.com/willkoehrsen/start-here-a-complete-walkthrough who has determined the data types and how they should be used"
   ]
  },
  {
   "cell_type": "code",
   "execution_count": 19,
   "metadata": {},
   "outputs": [],
   "source": [
    "id_ = ['idhogar']\n",
    "\n",
    "target = ['Target']\n",
    "\n",
    "ind_bool = ['v18q', 'dis', 'male', 'female', 'estadocivil1', 'estadocivil2', 'estadocivil3', \n",
    "            'estadocivil4', 'estadocivil5', 'estadocivil6', 'estadocivil7', \n",
    "            'parentesco1', 'parentesco2',  'parentesco3', 'parentesco4', 'parentesco5', \n",
    "            'parentesco6', 'parentesco7', 'parentesco8',  'parentesco9', 'parentesco10', \n",
    "            'parentesco11', 'parentesco12', 'instlevel1', 'instlevel2', 'instlevel3', \n",
    "            'instlevel4', 'instlevel5', 'instlevel6', 'instlevel7', 'instlevel8', \n",
    "            'instlevel9', 'mobilephone']\n",
    "\n",
    "ind_ordered = ['rez_esc', 'escolari', 'age']\n",
    "\n",
    "hh_bool = ['hacdor', 'hacapo', 'v14a', 'refrig', 'paredblolad', 'paredzocalo', \n",
    "           'paredpreb','pisocemento', 'pareddes', 'paredmad',\n",
    "           'paredzinc', 'paredfibras', 'paredother', 'pisomoscer', 'pisoother', \n",
    "           'pisonatur', 'pisonotiene', 'pisomadera',\n",
    "           'techozinc', 'techoentrepiso', 'techocane', 'techootro', 'cielorazo', \n",
    "           'abastaguadentro', 'abastaguafuera', 'abastaguano',\n",
    "            'public', 'planpri', 'noelec', 'coopele', 'sanitario1', \n",
    "           'sanitario2', 'sanitario3', 'sanitario5',   'sanitario6',\n",
    "           'energcocinar1', 'energcocinar2', 'energcocinar3', 'energcocinar4', \n",
    "           'elimbasu1', 'elimbasu2', 'elimbasu3', 'elimbasu4', \n",
    "           'elimbasu5', 'elimbasu6', 'epared1', 'epared2', 'epared3',\n",
    "           'etecho1', 'etecho2', 'etecho3', 'eviv1', 'eviv2', 'eviv3', \n",
    "           'tipovivi1', 'tipovivi2', 'tipovivi3', 'tipovivi4', 'tipovivi5', \n",
    "           'computer', 'television', 'lugar1', 'lugar2', 'lugar3',\n",
    "           'lugar4', 'lugar5', 'lugar6', 'area1', 'area2']\n",
    "\n",
    "hh_ordered = [ 'rooms', 'r4h1', 'r4h2', 'r4h3', 'r4m1','r4m2','r4m3', 'r4t1',  'r4t2', \n",
    "              'r4t3', 'v18q1', 'tamhog','tamviv','hhsize','hogar_nin',\n",
    "              'hogar_adul','hogar_mayor','hogar_total',  'bedrooms', 'qmobilephone']\n",
    "\n",
    "hh_cont = ['v2a1', 'dependency', 'edjefe', 'edjefa', 'meaneduc', 'overcrowding']\n",
    "\n",
    "sqr_ = ['SQBescolari', 'SQBage', 'SQBhogar_total', 'SQBedjefe', \n",
    "        'SQBhogar_nin', 'SQBovercrowding', 'SQBdependency', 'SQBmeaned', 'agesq']"
   ]
  },
  {
   "cell_type": "raw",
   "metadata": {},
   "source": [
    "Now issues around the data types are:\n",
    "    - tidy up the object data types that are in there\n",
    "    - what to do with missing values?\n",
    "    - does the data make sense in terms of\n",
    "        duplicate records\n",
    "        logical"
   ]
  },
  {
   "cell_type": "markdown",
   "metadata": {},
   "source": [
    "#### tidy up object data types"
   ]
  },
  {
   "cell_type": "code",
   "execution_count": 20,
   "metadata": {},
   "outputs": [
    {
     "data": {
      "text/plain": [
       "idhogar       object\n",
       "dependency    object\n",
       "edjefe        object\n",
       "edjefa        object\n",
       "dtype: object"
      ]
     },
     "execution_count": 20,
     "metadata": {},
     "output_type": "execute_result"
    }
   ],
   "source": [
    "data_types[data_types == 'object']"
   ]
  },
  {
   "cell_type": "code",
   "execution_count": 21,
   "metadata": {},
   "outputs": [
    {
     "data": {
      "text/plain": [
       "1                                                                                                                          Dependency rate\n",
       "2     calculated = (number of members of the household younger than 19 or older than 64)/(number of member of household between 19 and 64)\n",
       "3                                                                                                                                     None\n",
       "4                                                                                                                                     None\n",
       "Name: dependency, dtype: object"
      ]
     },
     "execution_count": 21,
     "metadata": {},
     "output_type": "execute_result"
    }
   ],
   "source": [
    "pd.options.display.max_colwidth = 1000\n",
    "\n",
    "data_dict.loc['dependency']"
   ]
  },
  {
   "cell_type": "code",
   "execution_count": 22,
   "metadata": {},
   "outputs": [],
   "source": [
    "mapping = {'yes' : 1, 'no' : 0}\n",
    "\n",
    "train['dependency'] = train['dependency'].replace(mapping).astype(np.float64)\n",
    "train['edjefe'] = train['edjefe'].replace(mapping).astype(np.float64)\n",
    "train['edjefa'] = train['edjefa'].replace(mapping).astype(np.float64)"
   ]
  },
  {
   "cell_type": "code",
   "execution_count": 23,
   "metadata": {},
   "outputs": [],
   "source": [
    "test['dependency'] = test['dependency'].replace(mapping).astype(np.float64)\n",
    "test['edjefe'] = test['edjefe'].replace(mapping).astype(np.float64)\n",
    "test['edjefa'] = test['edjefa'].replace(mapping).astype(np.float64)"
   ]
  },
  {
   "cell_type": "markdown",
   "metadata": {},
   "source": [
    "#### missing values"
   ]
  },
  {
   "cell_type": "code",
   "execution_count": 24,
   "metadata": {},
   "outputs": [
    {
     "data": {
      "text/plain": [
       "rez_esc      7928\n",
       "v18q1        7342\n",
       "v2a1         6860\n",
       "meaneduc        5\n",
       "SQBmeaned       5\n",
       "dtype: int64"
      ]
     },
     "execution_count": 24,
     "metadata": {},
     "output_type": "execute_result"
    }
   ],
   "source": [
    "miss_vals = train[ind_bool + ind_ordered + hh_bool + hh_ordered + hh_cont + sqr_].isnull().sum()\n",
    "\n",
    "miss_vals[miss_vals != 0]"
   ]
  },
  {
   "cell_type": "code",
   "execution_count": 25,
   "metadata": {},
   "outputs": [
    {
     "data": {
      "text/html": [
       "<div>\n",
       "<style scoped>\n",
       "    .dataframe tbody tr th:only-of-type {\n",
       "        vertical-align: middle;\n",
       "    }\n",
       "\n",
       "    .dataframe tbody tr th {\n",
       "        vertical-align: top;\n",
       "    }\n",
       "\n",
       "    .dataframe thead th {\n",
       "        text-align: right;\n",
       "    }\n",
       "</style>\n",
       "<table border=\"1\" class=\"dataframe\">\n",
       "  <thead>\n",
       "    <tr style=\"text-align: right;\">\n",
       "      <th></th>\n",
       "      <th>1</th>\n",
       "    </tr>\n",
       "    <tr>\n",
       "      <th>0</th>\n",
       "      <th></th>\n",
       "    </tr>\n",
       "  </thead>\n",
       "  <tbody>\n",
       "    <tr>\n",
       "      <th>rez_esc</th>\n",
       "      <td>Years behind in school</td>\n",
       "    </tr>\n",
       "    <tr>\n",
       "      <th>v18q1</th>\n",
       "      <td>number of tablets household owns</td>\n",
       "    </tr>\n",
       "    <tr>\n",
       "      <th>v2a1</th>\n",
       "      <td>Monthly rent payment</td>\n",
       "    </tr>\n",
       "    <tr>\n",
       "      <th>meaneduc</th>\n",
       "      <td>average years of education for adults (18+)</td>\n",
       "    </tr>\n",
       "    <tr>\n",
       "      <th>SQBmeaned</th>\n",
       "      <td>square of the mean years of education of adults (&gt;=18) in the household</td>\n",
       "    </tr>\n",
       "  </tbody>\n",
       "</table>\n",
       "</div>"
      ],
      "text/plain": [
       "                                                                                  1\n",
       "0                                                                                  \n",
       "rez_esc                                                      Years behind in school\n",
       "v18q1                                              number of tablets household owns\n",
       "v2a1                                                           Monthly rent payment\n",
       "meaneduc                                average years of education for adults (18+)\n",
       "SQBmeaned   square of the mean years of education of adults (>=18) in the household"
      ]
     },
     "execution_count": 25,
     "metadata": {},
     "output_type": "execute_result"
    }
   ],
   "source": [
    "miss_values_index = miss_vals[miss_vals != 0].index.values.tolist()\n",
    "\n",
    "pd.options.display.max_colwidth = 1000\n",
    "\n",
    "data_dict.loc[miss_values_index,:1]"
   ]
  },
  {
   "cell_type": "raw",
   "metadata": {},
   "source": [
    "for mean education, as there are only 5 records we can probably impute\n",
    "\n",
    "for the other three we have over 60% missing data. lets drop these in both test and train for now"
   ]
  },
  {
   "cell_type": "code",
   "execution_count": 26,
   "metadata": {},
   "outputs": [],
   "source": [
    "train.drop(columns = ['rez_esc','v18q1','v2a1'],inplace = True)\n",
    "test.drop(columns = ['rez_esc','v18q1','v2a1'],inplace = True)\n",
    "\n",
    "#remove the values from the indexes that we have previous got rid of\n",
    "\n",
    "ind_ordered.remove('rez_esc')\n",
    "hh_ordered.remove('v18q1')\n",
    "hh_cont.remove('v2a1')"
   ]
  },
  {
   "cell_type": "markdown",
   "metadata": {},
   "source": [
    "#### grouped data"
   ]
  },
  {
   "cell_type": "code",
   "execution_count": 27,
   "metadata": {},
   "outputs": [],
   "source": [
    "ind_agged = train.groupby(['idhogar'])[ind_ordered].agg(['mean','min','max','std','count'])\n",
    "\n",
    "#(thanks to https://www.kaggle.com/willkoehrsen/start-here-a-complete-walkthrough for this snippet)\n",
    "\n",
    "new_cols = []\n",
    "for col in ind_agged.columns.levels[0]:\n",
    "    for stat in ind_agged.columns.levels[1]:\n",
    "        new_cols.append(f'{col}-{stat}')\n",
    "        \n",
    "        \n",
    "ind_agged.columns = new_cols"
   ]
  },
  {
   "cell_type": "code",
   "execution_count": 28,
   "metadata": {},
   "outputs": [],
   "source": [
    "train = pd.merge(train,ind_agged,left_on = 'idhogar',right_index = True).copy()"
   ]
  },
  {
   "cell_type": "code",
   "execution_count": 29,
   "metadata": {},
   "outputs": [],
   "source": [
    "ind_agged_t = test.groupby(['idhogar'])[ind_ordered].agg(['mean','min','max','std','count'])\n",
    "\n",
    "ind_agged_t.columns = new_cols"
   ]
  },
  {
   "cell_type": "code",
   "execution_count": 30,
   "metadata": {},
   "outputs": [
    {
     "data": {
      "text/plain": [
       "(7352, 10)"
      ]
     },
     "execution_count": 30,
     "metadata": {},
     "output_type": "execute_result"
    }
   ],
   "source": [
    "ind_agged_t.shape"
   ]
  },
  {
   "cell_type": "code",
   "execution_count": 31,
   "metadata": {},
   "outputs": [],
   "source": [
    "test = pd.merge(test,ind_agged_t,left_on = 'idhogar',right_index = True).copy()"
   ]
  },
  {
   "cell_type": "markdown",
   "metadata": {},
   "source": [
    "### creating percentage columns"
   ]
  },
  {
   "cell_type": "code",
   "execution_count": 32,
   "metadata": {},
   "outputs": [],
   "source": [
    "def calculate_percentages(num,denom):\n",
    "    if denom == 0:\n",
    "        return 0\n",
    "    else:\n",
    "        percentage = num/denom\n",
    "        return percentage"
   ]
  },
  {
   "cell_type": "code",
   "execution_count": 33,
   "metadata": {},
   "outputs": [],
   "source": [
    "train['r4h1_r4h3'] = train.apply(lambda x : calculate_percentages(x['r4h1'],x['r4h3']),axis = 1)\n",
    "train['r4m1_r4m3'] = train.apply(lambda x : calculate_percentages(x['r4m1'],x['r4m3']),axis = 1)\n",
    "train['r4t1_r4t3'] = train.apply(lambda x : calculate_percentages(x['r4t1'],x['r4t3']),axis = 1)"
   ]
  },
  {
   "cell_type": "code",
   "execution_count": 34,
   "metadata": {},
   "outputs": [],
   "source": [
    "test['r4h1_r4h3'] = test.apply(lambda x : calculate_percentages(x['r4h1'],x['r4h3']),axis = 1)\n",
    "test['r4m1_r4m3'] = test.apply(lambda x : calculate_percentages(x['r4m1'],x['r4m3']),axis = 1)\n",
    "test['r4t1_r4t3'] = test.apply(lambda x : calculate_percentages(x['r4t1'],x['r4t3']),axis = 1)"
   ]
  },
  {
   "cell_type": "code",
   "execution_count": 35,
   "metadata": {},
   "outputs": [],
   "source": [
    "new_cols.extend(['r4h1_r4h3','r4m1_r4m3','r4t1_r4t3'])"
   ]
  },
  {
   "cell_type": "code",
   "execution_count": 36,
   "metadata": {},
   "outputs": [],
   "source": [
    "train['nin%'] = train.apply(lambda x : calculate_percentages(x['hogar_nin'],x['hogar_total']),axis = 1)\n",
    "train['adul%'] = train.apply(lambda x : calculate_percentages(x['hogar_adul'],x['hogar_total']),axis = 1)\n",
    "train['mayor%'] = train.apply(lambda x : calculate_percentages(x['hogar_mayor'],x['hogar_total']),axis = 1)"
   ]
  },
  {
   "cell_type": "code",
   "execution_count": 37,
   "metadata": {},
   "outputs": [],
   "source": [
    "test['nin%'] = test.apply(lambda x : calculate_percentages(x['hogar_nin'],x['hogar_total']),axis = 1)\n",
    "test['adul%'] = test.apply(lambda x : calculate_percentages(x['hogar_adul'],x['hogar_total']),axis = 1)\n",
    "test['mayor%'] = test.apply(lambda x : calculate_percentages(x['hogar_mayor'],x['hogar_total']),axis = 1)"
   ]
  },
  {
   "cell_type": "code",
   "execution_count": 38,
   "metadata": {},
   "outputs": [],
   "source": [
    "new_cols.extend(['nin%','adul%','mayor%'])"
   ]
  },
  {
   "cell_type": "markdown",
   "metadata": {},
   "source": [
    "### create pipeline"
   ]
  },
  {
   "cell_type": "code",
   "execution_count": 39,
   "metadata": {},
   "outputs": [
    {
     "data": {
      "text/plain": [
       "int64      135\n",
       "float64     18\n",
       "dtype: int64"
      ]
     },
     "execution_count": 39,
     "metadata": {},
     "output_type": "execute_result"
    }
   ],
   "source": [
    "train[ind_bool + ind_ordered + hh_bool + hh_ordered + hh_cont + sqr_ + new_cols].dtypes.value_counts()"
   ]
  },
  {
   "cell_type": "code",
   "execution_count": 40,
   "metadata": {},
   "outputs": [],
   "source": [
    "from sklearn.preprocessing import StandardScaler, Imputer, PolynomialFeatures\n",
    "from sklearn.pipeline import Pipeline,FeatureUnion\n",
    "from sklearn.ensemble import RandomForestClassifier\n",
    "from xgboost.sklearn import XGBClassifier\n",
    "from sklearn.model_selection import cross_val_score,GridSearchCV, train_test_split"
   ]
  },
  {
   "cell_type": "code",
   "execution_count": 41,
   "metadata": {},
   "outputs": [],
   "source": [
    "trfm_pipeline = Pipeline([\n",
    "    ('imputer',Imputer(strategy = 'median'))\n",
    "    ,('scaler',StandardScaler())\n",
    "    #,('polynom',PolynomialFeatures(interaction_only=True))\n",
    "])\n",
    "\n",
    "# adding in polynomial features does not improve performance on the test set: my guess is that it is overfitting to train"
   ]
  },
  {
   "cell_type": "code",
   "execution_count": 42,
   "metadata": {},
   "outputs": [],
   "source": [
    "ind_feats = trfm_pipeline.fit(train[ind_bool + ind_ordered + hh_bool + hh_ordered + hh_cont + sqr_ + new_cols])\n",
    "\n",
    "#this returns an array"
   ]
  },
  {
   "cell_type": "code",
   "execution_count": 43,
   "metadata": {},
   "outputs": [],
   "source": [
    "X_train,X_test,y_train,y_test = train_test_split(train[ind_bool + ind_ordered + hh_bool + hh_ordered + hh_cont + sqr_ + new_cols]\n",
    "                                                ,train['Target']\n",
    "                                                ,test_size = 0.33)"
   ]
  },
  {
   "cell_type": "code",
   "execution_count": 54,
   "metadata": {},
   "outputs": [],
   "source": [
    "#very simply just do a random forest for now\n",
    "\n",
    "clf = RandomForestClassifier(random_state=42)"
   ]
  },
  {
   "cell_type": "code",
   "execution_count": 55,
   "metadata": {},
   "outputs": [],
   "source": [
    "model = Pipeline([\n",
    "    ('features',ind_feats)\n",
    "    ,('classifier',clf)\n",
    "])"
   ]
  },
  {
   "cell_type": "code",
   "execution_count": 56,
   "metadata": {},
   "outputs": [],
   "source": [
    "param_grid={}\n",
    "\n",
    "model_CV = GridSearchCV(model,param_grid,cv=10)"
   ]
  },
  {
   "cell_type": "code",
   "execution_count": 57,
   "metadata": {},
   "outputs": [
    {
     "data": {
      "text/plain": [
       "GridSearchCV(cv=10, error_score='raise',\n",
       "       estimator=Pipeline(memory=None,\n",
       "     steps=[('features', Pipeline(memory=None,\n",
       "     steps=[('imputer', Imputer(axis=0, copy=True, missing_values='NaN', strategy='median', verbose=0)), ('scaler', StandardScaler(copy=True, with_mean=True, with_std=True))])), ('classifier', RandomForestClassifier(bootstrap=True, class_weight=None, criteri...stimators=10, n_jobs=1,\n",
       "            oob_score=False, random_state=42, verbose=0, warm_start=False))]),\n",
       "       fit_params=None, iid=True, n_jobs=1, param_grid={},\n",
       "       pre_dispatch='2*n_jobs', refit=True, return_train_score='warn',\n",
       "       scoring=None, verbose=0)"
      ]
     },
     "execution_count": 57,
     "metadata": {},
     "output_type": "execute_result"
    }
   ],
   "source": [
    "model_CV.fit(X_train,y_train.values.ravel())"
   ]
  },
  {
   "cell_type": "code",
   "execution_count": 58,
   "metadata": {},
   "outputs": [],
   "source": [
    "from sklearn.metrics import f1_score,confusion_matrix,roc_curve"
   ]
  },
  {
   "cell_type": "code",
   "execution_count": 59,
   "metadata": {},
   "outputs": [
    {
     "name": "stdout",
     "output_type": "stream",
     "text": [
      "0.8464179819497148\n",
      "[[ 178   30    6   39]\n",
      " [   9  439   15   71]\n",
      " [   6   27  293   45]\n",
      " [   9   31   22 1934]]\n"
     ]
    }
   ],
   "source": [
    "test_pred = model_CV.predict(X_test)\n",
    "\n",
    "print(f1_score(y_test,test_pred,average='macro'))\n",
    "print(confusion_matrix(y_test,test_pred))"
   ]
  },
  {
   "cell_type": "markdown",
   "metadata": {},
   "source": [
    "### submit first attempt"
   ]
  },
  {
   "cell_type": "code",
   "execution_count": 60,
   "metadata": {
    "scrolled": true
   },
   "outputs": [],
   "source": [
    "predictions = model_CV.predict(test.loc[:, test.columns != 'idhogar'])"
   ]
  },
  {
   "cell_type": "code",
   "execution_count": 61,
   "metadata": {},
   "outputs": [],
   "source": [
    "submission = pd.DataFrame(data = predictions,index = test.index,columns = ['Target'])"
   ]
  },
  {
   "cell_type": "code",
   "execution_count": 62,
   "metadata": {},
   "outputs": [],
   "source": [
    "submission.to_csv('submission.csv')"
   ]
  },
  {
   "cell_type": "code",
   "execution_count": 53,
   "metadata": {},
   "outputs": [
    {
     "data": {
      "text/plain": [
       "4    0.658954\n",
       "2    0.204225\n",
       "1    0.135521\n",
       "3    0.001299\n",
       "Name: Target, dtype: float64"
      ]
     },
     "execution_count": 53,
     "metadata": {},
     "output_type": "execute_result"
    }
   ],
   "source": [
    "submission['Target'].value_counts(normalize = True)"
   ]
  },
  {
   "cell_type": "code",
   "execution_count": null,
   "metadata": {},
   "outputs": [],
   "source": []
  }
 ],
 "metadata": {
  "kernelspec": {
   "display_name": "Python 3",
   "language": "python",
   "name": "python3"
  },
  "language_info": {
   "codemirror_mode": {
    "name": "ipython",
    "version": 3
   },
   "file_extension": ".py",
   "mimetype": "text/x-python",
   "name": "python",
   "nbconvert_exporter": "python",
   "pygments_lexer": "ipython3",
   "version": "3.6.5"
  },
  "toc": {
   "nav_menu": {},
   "number_sections": true,
   "sideBar": true,
   "skip_h1_title": false,
   "title_cell": "Table of Contents",
   "title_sidebar": "Contents",
   "toc_cell": false,
   "toc_position": {},
   "toc_section_display": true,
   "toc_window_display": true
  }
 },
 "nbformat": 4,
 "nbformat_minor": 2
}
