{
 "cells": [
  {
   "cell_type": "markdown",
   "metadata": {},
   "source": [
    "# Tesco"
   ]
  },
  {
   "cell_type": "markdown",
   "metadata": {},
   "source": [
    "# Part 1"
   ]
  },
  {
   "cell_type": "code",
   "execution_count": 1,
   "metadata": {
    "collapsed": true
   },
   "outputs": [],
   "source": [
    "import pandas as pd\n",
    "import numpy as np"
   ]
  },
  {
   "cell_type": "code",
   "execution_count": 2,
   "metadata": {
    "collapsed": false
   },
   "outputs": [],
   "source": [
    "#import the data files\n",
    "filepath = '../input/Tesco/'\n",
    "\n",
    "transactions = pd.read_csv(filepath + 'transactions.tsv',engine = 'python',sep = '\\t')\n",
    "content_train = pd.read_csv(filepath + 'content_train.tsv',engine = 'python',sep = '\\t')\n",
    "content_test = pd.read_csv(filepath + 'content_test.tsv',engine = 'python',sep = '\\t')"
   ]
  },
  {
   "cell_type": "code",
   "execution_count": 3,
   "metadata": {
    "collapsed": false
   },
   "outputs": [
    {
     "name": "stdout",
     "output_type": "stream",
     "text": [
      "(2000, 3)\n",
      "(100000, 27)\n",
      "(20000, 18)\n"
     ]
    }
   ],
   "source": [
    "print(transactions.shape)\n",
    "print(content_train.shape)\n",
    "print(content_test.shape)"
   ]
  },
  {
   "cell_type": "markdown",
   "metadata": {},
   "source": [
    "Q1 - What is the average value of a transaction?"
   ]
  },
  {
   "cell_type": "code",
   "execution_count": 4,
   "metadata": {
    "collapsed": false
   },
   "outputs": [
    {
     "name": "stdout",
     "output_type": "stream",
     "text": [
      "The average overall transaction value is £286.18\n"
     ]
    }
   ],
   "source": [
    "#using the transactions table use the numpy library to calcuate the overall average\n",
    "print('The average overall transaction value is £' '%.2f' % np.average(transactions['transaction.value']))"
   ]
  },
  {
   "cell_type": "markdown",
   "metadata": {},
   "source": [
    "Q2 - Is there significant difference between spend in different store types?"
   ]
  },
  {
   "cell_type": "code",
   "execution_count": 5,
   "metadata": {
    "collapsed": false
   },
   "outputs": [
    {
     "name": "stdout",
     "output_type": "stream",
     "text": [
      "There are 4 store types\n"
     ]
    }
   ],
   "source": [
    "#using the transactions table, i guess we can look at the range of spending in the different store types.\n",
    "\n",
    "#firstly - how many store types are there?\n",
    "\n",
    "print('There are ' + str(transactions['store.type'].nunique()) + ' store types')"
   ]
  },
  {
   "cell_type": "code",
   "execution_count": 6,
   "metadata": {
    "collapsed": false
   },
   "outputs": [
    {
     "data": {
      "text/html": [
       "<div>\n",
       "<table border=\"1\" class=\"dataframe\">\n",
       "  <thead>\n",
       "    <tr>\n",
       "      <th></th>\n",
       "      <th colspan=\"4\" halign=\"left\">transaction.value</th>\n",
       "    </tr>\n",
       "    <tr>\n",
       "      <th></th>\n",
       "      <th>mean</th>\n",
       "      <th>median</th>\n",
       "      <th>sum</th>\n",
       "      <th>count</th>\n",
       "    </tr>\n",
       "    <tr>\n",
       "      <th>store.type</th>\n",
       "      <th></th>\n",
       "      <th></th>\n",
       "      <th></th>\n",
       "      <th></th>\n",
       "    </tr>\n",
       "  </thead>\n",
       "  <tbody>\n",
       "    <tr>\n",
       "      <th>Express</th>\n",
       "      <td>86.349468</td>\n",
       "      <td>25.795</td>\n",
       "      <td>24350.55</td>\n",
       "      <td>282</td>\n",
       "    </tr>\n",
       "    <tr>\n",
       "      <th>Extra</th>\n",
       "      <td>533.165920</td>\n",
       "      <td>111.150</td>\n",
       "      <td>214332.70</td>\n",
       "      <td>402</td>\n",
       "    </tr>\n",
       "    <tr>\n",
       "      <th>Metro</th>\n",
       "      <td>421.018131</td>\n",
       "      <td>27.760</td>\n",
       "      <td>205035.83</td>\n",
       "      <td>487</td>\n",
       "    </tr>\n",
       "    <tr>\n",
       "      <th>Superstore</th>\n",
       "      <td>155.166490</td>\n",
       "      <td>71.500</td>\n",
       "      <td>128633.02</td>\n",
       "      <td>829</td>\n",
       "    </tr>\n",
       "  </tbody>\n",
       "</table>\n",
       "</div>"
      ],
      "text/plain": [
       "           transaction.value                          \n",
       "                        mean   median        sum count\n",
       "store.type                                            \n",
       "Express            86.349468   25.795   24350.55   282\n",
       "Extra             533.165920  111.150  214332.70   402\n",
       "Metro             421.018131   27.760  205035.83   487\n",
       "Superstore        155.166490   71.500  128633.02   829"
      ]
     },
     "execution_count": 6,
     "metadata": {},
     "output_type": "execute_result"
    }
   ],
   "source": [
    "#let's look at mean, median, and total spend at each store type\n",
    "transactions.groupby(['store.type']).agg({'transaction.value' :[np.mean,np.median,np.sum,'count']})"
   ]
  },
  {
   "cell_type": "markdown",
   "metadata": {},
   "source": [
    "This tells me that there is a mean spend at Tesco Extra of £533! This seams high. Let''s do a simple order by to see if there are any outliers to strip out"
   ]
  },
  {
   "cell_type": "code",
   "execution_count": 7,
   "metadata": {
    "collapsed": false
   },
   "outputs": [
    {
     "data": {
      "text/html": [
       "<div>\n",
       "<table border=\"1\" class=\"dataframe\">\n",
       "  <thead>\n",
       "    <tr style=\"text-align: right;\">\n",
       "      <th></th>\n",
       "      <th>transaction.value</th>\n",
       "      <th>gender</th>\n",
       "      <th>store.type</th>\n",
       "    </tr>\n",
       "  </thead>\n",
       "  <tbody>\n",
       "    <tr>\n",
       "      <th>0</th>\n",
       "      <td>150032.00</td>\n",
       "      <td>Female</td>\n",
       "      <td>Metro</td>\n",
       "    </tr>\n",
       "    <tr>\n",
       "      <th>1</th>\n",
       "      <td>100000.00</td>\n",
       "      <td>Female</td>\n",
       "      <td>Extra</td>\n",
       "    </tr>\n",
       "    <tr>\n",
       "      <th>2</th>\n",
       "      <td>11840.25</td>\n",
       "      <td>Female</td>\n",
       "      <td>Extra</td>\n",
       "    </tr>\n",
       "    <tr>\n",
       "      <th>3</th>\n",
       "      <td>3180.76</td>\n",
       "      <td>Male</td>\n",
       "      <td>Extra</td>\n",
       "    </tr>\n",
       "    <tr>\n",
       "      <th>4</th>\n",
       "      <td>2502.39</td>\n",
       "      <td>Female</td>\n",
       "      <td>Extra</td>\n",
       "    </tr>\n",
       "  </tbody>\n",
       "</table>\n",
       "</div>"
      ],
      "text/plain": [
       "   transaction.value  gender store.type\n",
       "0          150032.00  Female      Metro\n",
       "1          100000.00  Female      Extra\n",
       "2           11840.25  Female      Extra\n",
       "3            3180.76    Male      Extra\n",
       "4            2502.39  Female      Extra"
      ]
     },
     "execution_count": 7,
     "metadata": {},
     "output_type": "execute_result"
    }
   ],
   "source": [
    "transactions = transactions.sort_values('transaction.value',ascending = False)\n",
    "transactions = transactions.reset_index(drop = True)\n",
    "transactions.head()"
   ]
  },
  {
   "cell_type": "code",
   "execution_count": 8,
   "metadata": {
    "collapsed": false
   },
   "outputs": [],
   "source": [
    "#I think we should strip out the top 10 transactions as they will be skewing the results. £150k at a tesco metro looks wrong!\n",
    "\n",
    "transactions = transactions.drop(transactions.index[:9])"
   ]
  },
  {
   "cell_type": "code",
   "execution_count": 9,
   "metadata": {
    "collapsed": false
   },
   "outputs": [
    {
     "data": {
      "text/html": [
       "<div>\n",
       "<table border=\"1\" class=\"dataframe\">\n",
       "  <thead>\n",
       "    <tr>\n",
       "      <th></th>\n",
       "      <th colspan=\"4\" halign=\"left\">transaction.value</th>\n",
       "    </tr>\n",
       "    <tr>\n",
       "      <th></th>\n",
       "      <th>mean</th>\n",
       "      <th>median</th>\n",
       "      <th>sum</th>\n",
       "      <th>count</th>\n",
       "    </tr>\n",
       "    <tr>\n",
       "      <th>store.type</th>\n",
       "      <th></th>\n",
       "      <th></th>\n",
       "      <th></th>\n",
       "      <th></th>\n",
       "    </tr>\n",
       "  </thead>\n",
       "  <tbody>\n",
       "    <tr>\n",
       "      <th>Express</th>\n",
       "      <td>86.349468</td>\n",
       "      <td>25.795</td>\n",
       "      <td>24350.55</td>\n",
       "      <td>282</td>\n",
       "    </tr>\n",
       "    <tr>\n",
       "      <th>Extra</th>\n",
       "      <td>225.412563</td>\n",
       "      <td>101.670</td>\n",
       "      <td>88812.55</td>\n",
       "      <td>394</td>\n",
       "    </tr>\n",
       "    <tr>\n",
       "      <th>Metro</th>\n",
       "      <td>113.176605</td>\n",
       "      <td>27.745</td>\n",
       "      <td>55003.83</td>\n",
       "      <td>486</td>\n",
       "    </tr>\n",
       "    <tr>\n",
       "      <th>Superstore</th>\n",
       "      <td>155.166490</td>\n",
       "      <td>71.500</td>\n",
       "      <td>128633.02</td>\n",
       "      <td>829</td>\n",
       "    </tr>\n",
       "  </tbody>\n",
       "</table>\n",
       "</div>"
      ],
      "text/plain": [
       "           transaction.value                          \n",
       "                        mean   median        sum count\n",
       "store.type                                            \n",
       "Express            86.349468   25.795   24350.55   282\n",
       "Extra             225.412563  101.670   88812.55   394\n",
       "Metro             113.176605   27.745   55003.83   486\n",
       "Superstore        155.166490   71.500  128633.02   829"
      ]
     },
     "execution_count": 9,
     "metadata": {},
     "output_type": "execute_result"
    }
   ],
   "source": [
    "transactions.groupby(['store.type']).agg({'transaction.value' :[np.mean,np.median,np.sum,'count']})"
   ]
  },
  {
   "cell_type": "markdown",
   "metadata": {},
   "source": [
    "This looks a bit more sensible. Tesco Extra has the highest mean and median spend, then Superstore, then Metro, then Express.\n",
    "\n",
    "Would also be interesting to take a quick look at split between male and female at the stores"
   ]
  },
  {
   "cell_type": "code",
   "execution_count": 10,
   "metadata": {
    "collapsed": false
   },
   "outputs": [
    {
     "data": {
      "text/html": [
       "<div>\n",
       "<table border=\"1\" class=\"dataframe\">\n",
       "  <thead>\n",
       "    <tr>\n",
       "      <th></th>\n",
       "      <th></th>\n",
       "      <th colspan=\"4\" halign=\"left\">transaction.value</th>\n",
       "    </tr>\n",
       "    <tr>\n",
       "      <th></th>\n",
       "      <th></th>\n",
       "      <th>mean</th>\n",
       "      <th>median</th>\n",
       "      <th>sum</th>\n",
       "      <th>count</th>\n",
       "    </tr>\n",
       "    <tr>\n",
       "      <th>store.type</th>\n",
       "      <th>gender</th>\n",
       "      <th></th>\n",
       "      <th></th>\n",
       "      <th></th>\n",
       "      <th></th>\n",
       "    </tr>\n",
       "  </thead>\n",
       "  <tbody>\n",
       "    <tr>\n",
       "      <th rowspan=\"2\" valign=\"top\">Express</th>\n",
       "      <th>Female</th>\n",
       "      <td>103.181314</td>\n",
       "      <td>26.950</td>\n",
       "      <td>14135.84</td>\n",
       "      <td>137</td>\n",
       "    </tr>\n",
       "    <tr>\n",
       "      <th>Male</th>\n",
       "      <td>70.446276</td>\n",
       "      <td>23.270</td>\n",
       "      <td>10214.71</td>\n",
       "      <td>145</td>\n",
       "    </tr>\n",
       "    <tr>\n",
       "      <th rowspan=\"2\" valign=\"top\">Extra</th>\n",
       "      <th>Female</th>\n",
       "      <td>247.911421</td>\n",
       "      <td>112.750</td>\n",
       "      <td>45367.79</td>\n",
       "      <td>183</td>\n",
       "    </tr>\n",
       "    <tr>\n",
       "      <th>Male</th>\n",
       "      <td>205.899336</td>\n",
       "      <td>95.940</td>\n",
       "      <td>43444.76</td>\n",
       "      <td>211</td>\n",
       "    </tr>\n",
       "    <tr>\n",
       "      <th rowspan=\"2\" valign=\"top\">Metro</th>\n",
       "      <th>Female</th>\n",
       "      <td>129.104170</td>\n",
       "      <td>33.920</td>\n",
       "      <td>31888.73</td>\n",
       "      <td>247</td>\n",
       "    </tr>\n",
       "    <tr>\n",
       "      <th>Male</th>\n",
       "      <td>96.715900</td>\n",
       "      <td>21.830</td>\n",
       "      <td>23115.10</td>\n",
       "      <td>239</td>\n",
       "    </tr>\n",
       "    <tr>\n",
       "      <th rowspan=\"2\" valign=\"top\">Superstore</th>\n",
       "      <th>Female</th>\n",
       "      <td>150.004528</td>\n",
       "      <td>77.140</td>\n",
       "      <td>61951.87</td>\n",
       "      <td>413</td>\n",
       "    </tr>\n",
       "    <tr>\n",
       "      <th>Male</th>\n",
       "      <td>160.291226</td>\n",
       "      <td>67.965</td>\n",
       "      <td>66681.15</td>\n",
       "      <td>416</td>\n",
       "    </tr>\n",
       "  </tbody>\n",
       "</table>\n",
       "</div>"
      ],
      "text/plain": [
       "                  transaction.value                         \n",
       "                               mean   median       sum count\n",
       "store.type gender                                           \n",
       "Express    Female        103.181314   26.950  14135.84   137\n",
       "           Male           70.446276   23.270  10214.71   145\n",
       "Extra      Female        247.911421  112.750  45367.79   183\n",
       "           Male          205.899336   95.940  43444.76   211\n",
       "Metro      Female        129.104170   33.920  31888.73   247\n",
       "           Male           96.715900   21.830  23115.10   239\n",
       "Superstore Female        150.004528   77.140  61951.87   413\n",
       "           Male          160.291226   67.965  66681.15   416"
      ]
     },
     "execution_count": 10,
     "metadata": {},
     "output_type": "execute_result"
    }
   ],
   "source": [
    "transactions.groupby(['store.type','gender']).agg({'transaction.value' :[np.mean,np.median,np.sum,'count']})"
   ]
  },
  {
   "cell_type": "markdown",
   "metadata": {},
   "source": [
    "Women tend to spend more at all store types!"
   ]
  },
  {
   "cell_type": "markdown",
   "metadata": {},
   "source": [
    "\n",
    "\n",
    "\n",
    "\n",
    "\n",
    "# Part 2\n",
    "## Q3 - Create a model to predict if a user will click on 1st marketing content (e.g. content_1). How well does it perform?"
   ]
  },
  {
   "cell_type": "markdown",
   "metadata": {},
   "source": [
    "This looks like we need to build a classification model. Two simple examples that spring to mind are logistic regression and a decision tree. Also look at random forest, and SVM."
   ]
  },
  {
   "cell_type": "code",
   "execution_count": 11,
   "metadata": {
    "collapsed": false
   },
   "outputs": [
    {
     "name": "stderr",
     "output_type": "stream",
     "text": [
      "C:\\Anaconda3\\lib\\site-packages\\sklearn\\cross_validation.py:41: DeprecationWarning: This module was deprecated in version 0.18 in favor of the model_selection module into which all the refactored classes and functions are moved. Also note that the interface of the new CV iterators are different from that of this module. This module will be removed in 0.20.\n",
      "  \"This module will be removed in 0.20.\", DeprecationWarning)\n"
     ]
    }
   ],
   "source": [
    "#import the scikitlearn libraries i am going to use\n",
    "from sklearn.linear_model import LogisticRegression\n",
    "from sklearn.cross_validation import train_test_split, KFold\n",
    "from sklearn.model_selection import cross_val_score\n",
    "from sklearn import preprocessing\n",
    "from sklearn import metrics\n",
    "from sklearn import tree\n",
    "from sklearn import svm\n",
    "from sklearn.ensemble import RandomForestClassifier\n",
    "from sklearn.metrics import confusion_matrix"
   ]
  },
  {
   "cell_type": "code",
   "execution_count": 12,
   "metadata": {
    "collapsed": false
   },
   "outputs": [
    {
     "data": {
      "text/plain": [
       "customer.id                       0\n",
       "content_1                     53978\n",
       "content_2                     57042\n",
       "content_3                     72686\n",
       "content_4                     61921\n",
       "content_5                     55170\n",
       "content_6                     50294\n",
       "content_7                     61804\n",
       "content_8                     61654\n",
       "content_9                     51975\n",
       "express.no.transactions           0\n",
       "express.total.spend               0\n",
       "metro.no.transactions             0\n",
       "metro.total.spend                 0\n",
       "superstore.no.transactions        0\n",
       "superstore.total.spend            0\n",
       "extra.no.transactions             0\n",
       "extra.total.spend                 0\n",
       "fandf.no.transactions             0\n",
       "fandf.total.spend                 0\n",
       "petrol.no.transactions            0\n",
       "petrol.total.spend                0\n",
       "direct.no.transactions            0\n",
       "direct.total.spend                0\n",
       "gender                            0\n",
       "affluency                         0\n",
       "county                            0\n",
       "dtype: int64"
      ]
     },
     "execution_count": 12,
     "metadata": {},
     "output_type": "execute_result"
    }
   ],
   "source": [
    "#first lets look at all of the fields and see how many nulls there are\n",
    "content_train.isnull().sum()"
   ]
  },
  {
   "cell_type": "code",
   "execution_count": 13,
   "metadata": {
    "collapsed": false
   },
   "outputs": [],
   "source": [
    "content_train = content_train.set_index('customer.id')"
   ]
  },
  {
   "cell_type": "markdown",
   "metadata": {
    "collapsed": true
   },
   "source": [
    " - so it looks like there are loads of NaNs in content_1 which we can exclude. \n",
    " - Lets not look at the other contact cards for now either\n",
    " - the spend and transactions fields are numerical so are fine, but i think we should normalise"
   ]
  },
  {
   "cell_type": "code",
   "execution_count": 14,
   "metadata": {
    "collapsed": false
   },
   "outputs": [
    {
     "name": "stdout",
     "output_type": "stream",
     "text": [
      "0.0    0.989092\n",
      "1.0    0.010908\n",
      "Name: content_1, dtype: float64\n",
      "0.0    45520\n",
      "1.0      502\n",
      "Name: content_1, dtype: int64\n"
     ]
    }
   ],
   "source": [
    "#check the output is binary\n",
    "content_train = content_train[np.isfinite(content_train['content_1'])]\n",
    "print(content_train.content_1.value_counts(normalize = True))\n",
    "print(content_train.content_1.value_counts(normalize = False))"
   ]
  },
  {
   "cell_type": "markdown",
   "metadata": {},
   "source": [
    "1.1% of customers who were shows the card clicked"
   ]
  },
  {
   "cell_type": "code",
   "execution_count": 15,
   "metadata": {
    "collapsed": true
   },
   "outputs": [],
   "source": [
    "#create some average transaction fields to make things a bit more manageable\n",
    "content_train['superstore.average'] = content_train['superstore.total.spend'] / content_train['superstore.no.transactions']\n",
    "content_train['express.average'] = content_train['express.total.spend'] / content_train['express.no.transactions']\n",
    "content_train['metro.average'] = content_train['metro.total.spend'] / content_train['metro.no.transactions']\n",
    "content_train['extra.average'] = content_train['extra.total.spend'] / content_train['extra.no.transactions']\n",
    "content_train['fandf.average'] = content_train['fandf.total.spend'] / content_train['fandf.no.transactions']\n",
    "content_train['petrol.average'] = content_train['petrol.total.spend'] / content_train['petrol.no.transactions']\n",
    "content_train['direct.average'] = content_train['direct.total.spend'] / content_train['direct.no.transactions']"
   ]
  },
  {
   "cell_type": "code",
   "execution_count": 16,
   "metadata": {
    "collapsed": false
   },
   "outputs": [
    {
     "name": "stdout",
     "output_type": "stream",
     "text": [
      "           express.average  direct.average  petrol.average  fandf.average  \\\n",
      "content_1                                                                   \n",
      "0.0              15.349167       92.653496       18.803667      34.288885   \n",
      "1.0              16.037089       92.252752       18.853784      34.374352   \n",
      "\n",
      "           superstore.average  metro.average  extra.average  \n",
      "content_1                                                    \n",
      "0.0                 56.488148      23.169127      57.003395  \n",
      "1.0                 59.974423      22.387589      52.753154  \n"
     ]
    }
   ],
   "source": [
    "#see if we can spot anything on these continuous fields\n",
    "f = {'superstore.average' :np.mean,'express.average' :np.mean,'metro.average' :np.mean,'extra.average' :np.mean\n",
    "     ,'fandf.average' :np.mean,'petrol.average' :np.mean,'direct.average' :np.mean}\n",
    "print(content_train.groupby('content_1').agg(f))"
   ]
  },
  {
   "cell_type": "markdown",
   "metadata": {},
   "source": [
    "Doesn't look like there's a lot of difference between the average spend in each channel for those who clicked and those who didnt click"
   ]
  },
  {
   "cell_type": "code",
   "execution_count": 17,
   "metadata": {
    "collapsed": false
   },
   "outputs": [
    {
     "name": "stdout",
     "output_type": "stream",
     "text": [
      "        content_1\n",
      "gender           \n",
      "Female   0.015594\n",
      "Male     0.006295\n",
      "           content_1\n",
      "affluency           \n",
      "High        0.012240\n",
      "Low         0.010243\n",
      "Mid         0.010404\n",
      "Very High   0.014153\n",
      "Very Low    0.010088\n"
     ]
    }
   ],
   "source": [
    "#now lets take a look at the discrete fields to see if we can spot anything (ignoring county)\n",
    "print(content_train.groupby('gender').agg({'content_1' : np.mean}))\n",
    "print(content_train.groupby('affluency').agg({'content_1' : np.mean}))"
   ]
  },
  {
   "cell_type": "code",
   "execution_count": 18,
   "metadata": {
    "collapsed": false
   },
   "outputs": [],
   "source": [
    "gender = pd.get_dummies(content_train['gender'])\n",
    "affluency = pd.get_dummies(content_train['affluency'])\n",
    "numerical_features = content_train[['superstore.average', 'express.average', 'metro.average',\n",
    "       'extra.average', 'fandf.average', 'petrol.average', 'direct.average']].fillna(0)\n",
    "indicator = content_train['content_1']"
   ]
  },
  {
   "cell_type": "code",
   "execution_count": 19,
   "metadata": {
    "collapsed": false
   },
   "outputs": [],
   "source": [
    "content_train_updated = pd.concat([indicator,numerical_features,gender,affluency],axis = 1)"
   ]
  },
  {
   "cell_type": "code",
   "execution_count": 20,
   "metadata": {
    "collapsed": false
   },
   "outputs": [
    {
     "data": {
      "text/html": [
       "<div>\n",
       "<table border=\"1\" class=\"dataframe\">\n",
       "  <thead>\n",
       "    <tr style=\"text-align: right;\">\n",
       "      <th></th>\n",
       "      <th>content_1</th>\n",
       "      <th>superstore.average</th>\n",
       "      <th>express.average</th>\n",
       "      <th>metro.average</th>\n",
       "      <th>extra.average</th>\n",
       "      <th>fandf.average</th>\n",
       "      <th>petrol.average</th>\n",
       "      <th>direct.average</th>\n",
       "      <th>Female</th>\n",
       "      <th>Male</th>\n",
       "      <th>High</th>\n",
       "      <th>Low</th>\n",
       "      <th>Mid</th>\n",
       "      <th>Very High</th>\n",
       "      <th>Very Low</th>\n",
       "    </tr>\n",
       "    <tr>\n",
       "      <th>customer.id</th>\n",
       "      <th></th>\n",
       "      <th></th>\n",
       "      <th></th>\n",
       "      <th></th>\n",
       "      <th></th>\n",
       "      <th></th>\n",
       "      <th></th>\n",
       "      <th></th>\n",
       "      <th></th>\n",
       "      <th></th>\n",
       "      <th></th>\n",
       "      <th></th>\n",
       "      <th></th>\n",
       "      <th></th>\n",
       "      <th></th>\n",
       "    </tr>\n",
       "  </thead>\n",
       "  <tbody>\n",
       "    <tr>\n",
       "      <th>3</th>\n",
       "      <td>0.0</td>\n",
       "      <td>52.182000</td>\n",
       "      <td>1.521818</td>\n",
       "      <td>25.976176</td>\n",
       "      <td>3.626923</td>\n",
       "      <td>96.017143</td>\n",
       "      <td>10.238545</td>\n",
       "      <td>111.085000</td>\n",
       "      <td>1.0</td>\n",
       "      <td>0.0</td>\n",
       "      <td>0.0</td>\n",
       "      <td>1.0</td>\n",
       "      <td>0.0</td>\n",
       "      <td>0.0</td>\n",
       "      <td>0.0</td>\n",
       "    </tr>\n",
       "    <tr>\n",
       "      <th>5</th>\n",
       "      <td>0.0</td>\n",
       "      <td>21.963333</td>\n",
       "      <td>3.780789</td>\n",
       "      <td>15.425641</td>\n",
       "      <td>60.969231</td>\n",
       "      <td>24.124444</td>\n",
       "      <td>17.794231</td>\n",
       "      <td>25.504118</td>\n",
       "      <td>1.0</td>\n",
       "      <td>0.0</td>\n",
       "      <td>0.0</td>\n",
       "      <td>1.0</td>\n",
       "      <td>0.0</td>\n",
       "      <td>0.0</td>\n",
       "      <td>0.0</td>\n",
       "    </tr>\n",
       "    <tr>\n",
       "      <th>6</th>\n",
       "      <td>0.0</td>\n",
       "      <td>23.158621</td>\n",
       "      <td>13.116429</td>\n",
       "      <td>2.284912</td>\n",
       "      <td>11.377778</td>\n",
       "      <td>29.322698</td>\n",
       "      <td>4.093556</td>\n",
       "      <td>56.192692</td>\n",
       "      <td>0.0</td>\n",
       "      <td>1.0</td>\n",
       "      <td>0.0</td>\n",
       "      <td>0.0</td>\n",
       "      <td>0.0</td>\n",
       "      <td>0.0</td>\n",
       "      <td>1.0</td>\n",
       "    </tr>\n",
       "    <tr>\n",
       "      <th>8</th>\n",
       "      <td>0.0</td>\n",
       "      <td>4.896429</td>\n",
       "      <td>3.961489</td>\n",
       "      <td>3.212561</td>\n",
       "      <td>170.455172</td>\n",
       "      <td>120.761667</td>\n",
       "      <td>15.047200</td>\n",
       "      <td>220.368621</td>\n",
       "      <td>0.0</td>\n",
       "      <td>1.0</td>\n",
       "      <td>1.0</td>\n",
       "      <td>0.0</td>\n",
       "      <td>0.0</td>\n",
       "      <td>0.0</td>\n",
       "      <td>0.0</td>\n",
       "    </tr>\n",
       "    <tr>\n",
       "      <th>10</th>\n",
       "      <td>0.0</td>\n",
       "      <td>185.022941</td>\n",
       "      <td>34.781607</td>\n",
       "      <td>54.677111</td>\n",
       "      <td>17.364242</td>\n",
       "      <td>0.000000</td>\n",
       "      <td>0.000000</td>\n",
       "      <td>104.464062</td>\n",
       "      <td>1.0</td>\n",
       "      <td>0.0</td>\n",
       "      <td>0.0</td>\n",
       "      <td>0.0</td>\n",
       "      <td>0.0</td>\n",
       "      <td>1.0</td>\n",
       "      <td>0.0</td>\n",
       "    </tr>\n",
       "  </tbody>\n",
       "</table>\n",
       "</div>"
      ],
      "text/plain": [
       "             content_1  superstore.average  express.average  metro.average  \\\n",
       "customer.id                                                                  \n",
       "3                  0.0           52.182000         1.521818      25.976176   \n",
       "5                  0.0           21.963333         3.780789      15.425641   \n",
       "6                  0.0           23.158621        13.116429       2.284912   \n",
       "8                  0.0            4.896429         3.961489       3.212561   \n",
       "10                 0.0          185.022941        34.781607      54.677111   \n",
       "\n",
       "             extra.average  fandf.average  petrol.average  direct.average  \\\n",
       "customer.id                                                                 \n",
       "3                 3.626923      96.017143       10.238545      111.085000   \n",
       "5                60.969231      24.124444       17.794231       25.504118   \n",
       "6                11.377778      29.322698        4.093556       56.192692   \n",
       "8               170.455172     120.761667       15.047200      220.368621   \n",
       "10               17.364242       0.000000        0.000000      104.464062   \n",
       "\n",
       "             Female  Male  High  Low  Mid  Very High  Very Low  \n",
       "customer.id                                                     \n",
       "3               1.0   0.0   0.0  1.0  0.0        0.0       0.0  \n",
       "5               1.0   0.0   0.0  1.0  0.0        0.0       0.0  \n",
       "6               0.0   1.0   0.0  0.0  0.0        0.0       1.0  \n",
       "8               0.0   1.0   1.0  0.0  0.0        0.0       0.0  \n",
       "10              1.0   0.0   0.0  0.0  0.0        1.0       0.0  "
      ]
     },
     "execution_count": 20,
     "metadata": {},
     "output_type": "execute_result"
    }
   ],
   "source": [
    "content_train_updated.head()"
   ]
  },
  {
   "cell_type": "code",
   "execution_count": 21,
   "metadata": {
    "collapsed": false
   },
   "outputs": [
    {
     "data": {
      "text/plain": [
       "<matplotlib.axes._subplots.AxesSubplot at 0xd477978>"
      ]
     },
     "execution_count": 21,
     "metadata": {},
     "output_type": "execute_result"
    },
    {
     "data": {
      "image/png": "[encoded data removed]",
      "text/plain": [
       "<matplotlib.figure.Figure at 0xd477080>"
      ]
     },
     "metadata": {},
     "output_type": "display_data"
    }
   ],
   "source": [
    "import seaborn as sb\n",
    "%matplotlib inline\n",
    "sb.heatmap(content_train_updated.corr())"
   ]
  },
  {
   "cell_type": "markdown",
   "metadata": {},
   "source": [
    "Doesn't really tell us a lot and don't need it a whole lot for classification"
   ]
  },
  {
   "cell_type": "code",
   "execution_count": 22,
   "metadata": {
    "collapsed": false
   },
   "outputs": [],
   "source": [
    "#split into features and target. for now i am going to use all of the features we have included in content_train_updated\n",
    "y = content_train_updated.ix[:,0].values\n",
    "X_unscaled = content_train_updated.ix[:,1:].values"
   ]
  },
  {
   "cell_type": "code",
   "execution_count": 23,
   "metadata": {
    "collapsed": false
   },
   "outputs": [],
   "source": [
    "from sklearn.feature_selection import SelectKBest\n",
    "from sklearn.feature_selection import chi2\n",
    "\n",
    "selector = SelectKBest(chi2, k=2)\n",
    "X_new = selector.fit(X_unscaled, y)"
   ]
  },
  {
   "cell_type": "code",
   "execution_count": 24,
   "metadata": {
    "collapsed": false
   },
   "outputs": [
    {
     "data": {
      "text/plain": [
       "array([  1.16358211e+02,   1.79322618e+01,   1.10330798e+01,\n",
       "         1.47795217e+02,   1.16920505e-03,   8.44218233e-03,\n",
       "         6.16344427e-01,   4.64598856e+01,   4.57347011e+01,\n",
       "         1.51867505e+00,   3.80447247e-01,   5.37412309e-01,\n",
       "         2.20703535e+00,   1.48106774e-01])"
      ]
     },
     "execution_count": 24,
     "metadata": {},
     "output_type": "execute_result"
    }
   ],
   "source": [
    "selector.scores_"
   ]
  },
  {
   "cell_type": "code",
   "execution_count": 25,
   "metadata": {
    "collapsed": false
   },
   "outputs": [],
   "source": [
    "X_unscaled = selector.transform(X_unscaled)"
   ]
  },
  {
   "cell_type": "code",
   "execution_count": 26,
   "metadata": {
    "collapsed": false
   },
   "outputs": [
    {
     "data": {
      "text/plain": [
       "array([[  52.182     ,    3.62692308],\n",
       "       [  21.96333333,   60.96923077],\n",
       "       [  23.15862069,   11.37777778],\n",
       "       ..., \n",
       "       [   8.18378788,   45.6669697 ],\n",
       "       [ 104.89546875,  182.80081967],\n",
       "       [  45.86894737,   22.62727273]])"
      ]
     },
     "execution_count": 26,
     "metadata": {},
     "output_type": "execute_result"
    }
   ],
   "source": [
    "X_unscaled"
   ]
  },
  {
   "cell_type": "code",
   "execution_count": 52,
   "metadata": {
    "collapsed": true
   },
   "outputs": [],
   "source": [
    "from sklearn.preprocessing import StandardScaler\n",
    "scaler = StandardScaler()\n",
    "X = scaler.fit_transform(X_unscaled)"
   ]
  },
  {
   "cell_type": "code",
   "execution_count": 53,
   "metadata": {
    "collapsed": false
   },
   "outputs": [
    {
     "data": {
      "text/plain": [
       "array([[-0.06918786, -0.87725701],\n",
       "       [-0.58145032,  0.07035495],\n",
       "       [-0.56118798, -0.74917003],\n",
       "       ..., \n",
       "       [-0.81503917, -0.18252301],\n",
       "       [ 0.82440322,  2.08368637],\n",
       "       [-0.17620581, -0.56326618]])"
      ]
     },
     "execution_count": 53,
     "metadata": {},
     "output_type": "execute_result"
    }
   ],
   "source": [
    "X"
   ]
  },
  {
   "cell_type": "code",
   "execution_count": 54,
   "metadata": {
    "collapsed": false
   },
   "outputs": [
    {
     "data": {
      "text/plain": [
       "1.0    0.5\n",
       "0.0    0.5\n",
       "Name: Indicator, dtype: float64"
      ]
     },
     "execution_count": 54,
     "metadata": {},
     "output_type": "execute_result"
    }
   ],
   "source": [
    "#Try oversampling to see if this reduce the impact of class imbalance\n",
    "from imblearn.over_sampling import RandomOverSampler\n",
    "ros = RandomOverSampler(random_state=0)\n",
    "X_resampled, y_resampled = ros.fit_sample(X, y)\n",
    "pd.DataFrame(y_resampled,columns = ['Indicator']).Indicator.value_counts(normalize = True)"
   ]
  },
  {
   "cell_type": "markdown",
   "metadata": {},
   "source": [
    "# Logistic Regression"
   ]
  },
  {
   "cell_type": "code",
   "execution_count": 55,
   "metadata": {
    "collapsed": false
   },
   "outputs": [
    {
     "name": "stdout",
     "output_type": "stream",
     "text": [
      "[-0.69204942 -0.69247268 -0.69249836 -0.69210402 -0.69216055]\n",
      "-0.692257004758\n"
     ]
    }
   ],
   "source": [
    "clf = LogisticRegression(class_weight='balanced')\n",
    "clf_scores = cross_val_score(clf, X_resampled, y_resampled, scoring='neg_log_loss', cv=5)\n",
    "print(clf_scores)\n",
    "print(np.mean(clf_scores))"
   ]
  },
  {
   "cell_type": "code",
   "execution_count": 56,
   "metadata": {
    "collapsed": false
   },
   "outputs": [],
   "source": [
    "clf.fit(X_resampled,y_resampled)\n",
    "clf_predicted = clf.predict_proba(X)\n",
    "clf_predicted_label = clf.predict(X)"
   ]
  },
  {
   "cell_type": "markdown",
   "metadata": {},
   "source": [
    "# Decision Trees"
   ]
  },
  {
   "cell_type": "code",
   "execution_count": 57,
   "metadata": {
    "collapsed": false
   },
   "outputs": [
    {
     "name": "stdout",
     "output_type": "stream",
     "text": [
      "[-0.20676223 -0.24280335 -0.21814363 -0.20296842 -0.18969012]\n",
      "-0.21207355014\n"
     ]
    }
   ],
   "source": [
    "my_tree = tree.DecisionTreeClassifier()\n",
    "tree_scores = cross_val_score(my_tree, X_resampled,y_resampled, scoring='neg_log_loss', cv=5)\n",
    "print(tree_scores)\n",
    "print(np.mean(tree_scores))"
   ]
  },
  {
   "cell_type": "markdown",
   "metadata": {},
   "source": [
    "Performing well, but is it overfitting with no parameters?"
   ]
  },
  {
   "cell_type": "code",
   "execution_count": 58,
   "metadata": {
    "collapsed": false
   },
   "outputs": [
    {
     "name": "stdout",
     "output_type": "stream",
     "text": [
      "[-0.56755189 -0.61046928 -0.57737303 -0.60634729 -0.56057736]\n",
      "-0.584463771413\n"
     ]
    }
   ],
   "source": [
    "max_depth = 10\n",
    "min_samples_split = 5\n",
    "my_tree_two = tree.DecisionTreeClassifier(max_depth = 10, min_samples_split = 5, random_state = 1)\n",
    "tree_scores = cross_val_score(my_tree_two, X_resampled,y_resampled, scoring='neg_log_loss', cv=5)\n",
    "print(tree_scores)\n",
    "print(np.mean(tree_scores))"
   ]
  },
  {
   "cell_type": "code",
   "execution_count": 59,
   "metadata": {
    "collapsed": true
   },
   "outputs": [],
   "source": [
    "my_tree_two.fit(X_resampled,y_resampled)\n",
    "my_tree_two_predicted = my_tree_two.predict_proba(X)\n",
    "my_tree_two_predicted_label = my_tree_two.predict(X)"
   ]
  },
  {
   "cell_type": "markdown",
   "metadata": {},
   "source": [
    "# Random Forest"
   ]
  },
  {
   "cell_type": "code",
   "execution_count": 60,
   "metadata": {
    "collapsed": false
   },
   "outputs": [
    {
     "name": "stdout",
     "output_type": "stream",
     "text": [
      "[-0.67002289 -0.67106186 -0.67062226 -0.67090012 -0.6707969 ]\n",
      "-0.670680805608\n"
     ]
    }
   ],
   "source": [
    "clfrf = RandomForestClassifier(max_depth=4, random_state=0, bootstrap=True)\n",
    "rf_scores = cross_val_score(clfrf, X_resampled,y_resampled, scoring='neg_log_loss', cv=5)\n",
    "print(rf_scores)\n",
    "print(np.mean(rf_scores))"
   ]
  },
  {
   "cell_type": "code",
   "execution_count": 34,
   "metadata": {
    "collapsed": true
   },
   "outputs": [],
   "source": [
    "clfrf.fit(X_resampled,y_resampled)\n",
    "clfrf_predicted = clfrf.predict_proba(X)\n",
    "clfrf_predicted_label = clfrf.predict(X)"
   ]
  },
  {
   "cell_type": "markdown",
   "metadata": {},
   "source": [
    "# SVM"
   ]
  },
  {
   "cell_type": "code",
   "execution_count": 33,
   "metadata": {
    "collapsed": false
   },
   "outputs": [
    {
     "name": "stdout",
     "output_type": "stream",
     "text": [
      "[-0.47801351 -0.47865182 -0.48288125 -0.47868504 -0.48241206]\n",
      "-0.480128735233\n"
     ]
    }
   ],
   "source": [
    "clfsvm = svm.SVC(probability=True, class_weight='balanced')\n",
    "svm_scores = cross_val_score(clfsvm, X_resampled,y_resampled, scoring='neg_log_loss', cv=5)\n",
    "print(svm_scores)\n",
    "print(np.mean(svm_scores))"
   ]
  },
  {
   "cell_type": "code",
   "execution_count": 35,
   "metadata": {
    "collapsed": true
   },
   "outputs": [],
   "source": [
    "clfsvm.fit(X_resampled,y_resampled)\n",
    "clfsvm_predicted = clfsvm.predict_proba(X)\n",
    "clfsvm_predicted_label = clfsvm.predict(X)"
   ]
  },
  {
   "cell_type": "markdown",
   "metadata": {},
   "source": [
    "# Confusion Matrices\n",
    "\n",
    "Worth looking at whether or not the model will actually predict anything. As we have imbalanced classes we could predict well by just predicting '0' every time"
   ]
  },
  {
   "cell_type": "code",
   "execution_count": 36,
   "metadata": {
    "collapsed": false
   },
   "outputs": [
    {
     "name": "stdout",
     "output_type": "stream",
     "text": [
      "Logistic\n",
      "[[23271 22249]\n",
      " [  148   354]]\n",
      "-0.666893001835\n",
      "Decision Tree\n",
      "[[25605 19915]\n",
      " [   49   453]]\n",
      "-0.510640730397\n",
      "Random Forest\n",
      "[[24945 20575]\n",
      " [  145   357]]\n",
      "-0.643314153089\n",
      "SVM\n",
      "[[30043 15477]\n",
      " [   53   449]]\n",
      "-0.480128735233\n"
     ]
    }
   ],
   "source": [
    "print('Logistic')\n",
    "print(confusion_matrix(y,clf_predicted_label))\n",
    "print(np.mean(clf_scores))\n",
    "print('Decision Tree')\n",
    "print(confusion_matrix(y,my_tree_two_predicted_label))\n",
    "print(np.mean(tree_scores))\n",
    "print('Random Forest')\n",
    "print(confusion_matrix(y,clfrf_predicted_label))\n",
    "print(np.mean(rf_scores))\n",
    "print('SVM')\n",
    "print(confusion_matrix(y,clfsvm_predicted_label))\n",
    "print(np.mean(svm_scores))"
   ]
  },
  {
   "cell_type": "markdown",
   "metadata": {},
   "source": [
    "This is a tricky one. SVM does have a low log_loss score and at least predicts some clicks, whereas the random forest just seems to predict nothing. \n",
    "\n",
    "However, the SVM creates a large number of false negatives, which presumably will reappear in test\n",
    "\n",
    "Will go for SVM to create the prediction file. To further improve we could look at:\n",
    " - Feature Interaction\n",
    " - More Careful Feature Selection\n",
    " - Penalising the model using CV\n",
    " - Neural Networks???"
   ]
  },
  {
   "cell_type": "markdown",
   "metadata": {},
   "source": [
    "# Apply the chosen model (SVM) on the test data set and submit"
   ]
  },
  {
   "cell_type": "code",
   "execution_count": 37,
   "metadata": {
    "collapsed": true
   },
   "outputs": [],
   "source": [
    "#create the fields\n",
    "content_test['superstore.average'] = content_test['superstore.total.spend'] / content_test['superstore.no.transactions']\n",
    "content_test['express.average'] = content_test['express.total.spend'] / content_test['express.no.transactions']\n",
    "content_test['metro.average'] = content_test['metro.total.spend'] / content_test['metro.no.transactions']\n",
    "content_test['extra.average'] = content_test['extra.total.spend'] / content_test['extra.no.transactions']\n",
    "content_test['fandf.average'] = content_test['fandf.total.spend'] / content_test['fandf.no.transactions']\n",
    "content_test['petrol.average'] = content_test['petrol.total.spend'] / content_test['petrol.no.transactions']\n",
    "content_test['direct.average'] = content_test['direct.total.spend'] / content_test['direct.no.transactions']"
   ]
  },
  {
   "cell_type": "code",
   "execution_count": 38,
   "metadata": {
    "collapsed": false
   },
   "outputs": [
    {
     "data": {
      "text/html": [
       "<div>\n",
       "<table border=\"1\" class=\"dataframe\">\n",
       "  <thead>\n",
       "    <tr style=\"text-align: right;\">\n",
       "      <th></th>\n",
       "      <th>customer.id</th>\n",
       "      <th>express.no.transactions</th>\n",
       "      <th>express.total.spend</th>\n",
       "      <th>metro.no.transactions</th>\n",
       "      <th>metro.total.spend</th>\n",
       "      <th>superstore.no.transactions</th>\n",
       "      <th>superstore.total.spend</th>\n",
       "      <th>extra.no.transactions</th>\n",
       "      <th>extra.total.spend</th>\n",
       "      <th>fandf.no.transactions</th>\n",
       "      <th>...</th>\n",
       "      <th>gender</th>\n",
       "      <th>affluency</th>\n",
       "      <th>county</th>\n",
       "      <th>superstore.average</th>\n",
       "      <th>express.average</th>\n",
       "      <th>metro.average</th>\n",
       "      <th>extra.average</th>\n",
       "      <th>fandf.average</th>\n",
       "      <th>petrol.average</th>\n",
       "      <th>direct.average</th>\n",
       "    </tr>\n",
       "  </thead>\n",
       "  <tbody>\n",
       "    <tr>\n",
       "      <th>0</th>\n",
       "      <td>100001</td>\n",
       "      <td>103</td>\n",
       "      <td>1199.25</td>\n",
       "      <td>48</td>\n",
       "      <td>294.87</td>\n",
       "      <td>56</td>\n",
       "      <td>2281.35</td>\n",
       "      <td>44</td>\n",
       "      <td>108.05</td>\n",
       "      <td>17</td>\n",
       "      <td>...</td>\n",
       "      <td>Male</td>\n",
       "      <td>Very Low</td>\n",
       "      <td>Norfolk</td>\n",
       "      <td>40.738393</td>\n",
       "      <td>11.643204</td>\n",
       "      <td>6.143125</td>\n",
       "      <td>2.455682</td>\n",
       "      <td>22.155882</td>\n",
       "      <td>NaN</td>\n",
       "      <td>5.638571</td>\n",
       "    </tr>\n",
       "    <tr>\n",
       "      <th>1</th>\n",
       "      <td>100002</td>\n",
       "      <td>45</td>\n",
       "      <td>59.75</td>\n",
       "      <td>40</td>\n",
       "      <td>1174.78</td>\n",
       "      <td>60</td>\n",
       "      <td>3218.08</td>\n",
       "      <td>61</td>\n",
       "      <td>2138.64</td>\n",
       "      <td>69</td>\n",
       "      <td>...</td>\n",
       "      <td>Male</td>\n",
       "      <td>Mid</td>\n",
       "      <td>Greater London</td>\n",
       "      <td>53.634667</td>\n",
       "      <td>1.327778</td>\n",
       "      <td>29.369500</td>\n",
       "      <td>35.059672</td>\n",
       "      <td>30.371159</td>\n",
       "      <td>16.490286</td>\n",
       "      <td>19.002308</td>\n",
       "    </tr>\n",
       "    <tr>\n",
       "      <th>2</th>\n",
       "      <td>100003</td>\n",
       "      <td>40</td>\n",
       "      <td>95.37</td>\n",
       "      <td>43</td>\n",
       "      <td>842.20</td>\n",
       "      <td>45</td>\n",
       "      <td>1543.47</td>\n",
       "      <td>18</td>\n",
       "      <td>1401.68</td>\n",
       "      <td>38</td>\n",
       "      <td>...</td>\n",
       "      <td>Male</td>\n",
       "      <td>High</td>\n",
       "      <td>Tyne and Wear</td>\n",
       "      <td>34.299333</td>\n",
       "      <td>2.384250</td>\n",
       "      <td>19.586047</td>\n",
       "      <td>77.871111</td>\n",
       "      <td>6.030789</td>\n",
       "      <td>NaN</td>\n",
       "      <td>257.540256</td>\n",
       "    </tr>\n",
       "    <tr>\n",
       "      <th>3</th>\n",
       "      <td>100004</td>\n",
       "      <td>59</td>\n",
       "      <td>1362.03</td>\n",
       "      <td>30</td>\n",
       "      <td>474.25</td>\n",
       "      <td>48</td>\n",
       "      <td>120.68</td>\n",
       "      <td>47</td>\n",
       "      <td>32.65</td>\n",
       "      <td>0</td>\n",
       "      <td>...</td>\n",
       "      <td>Male</td>\n",
       "      <td>Mid</td>\n",
       "      <td>Greater Manchester</td>\n",
       "      <td>2.514167</td>\n",
       "      <td>23.085254</td>\n",
       "      <td>15.808333</td>\n",
       "      <td>0.694681</td>\n",
       "      <td>NaN</td>\n",
       "      <td>8.864286</td>\n",
       "      <td>88.934839</td>\n",
       "    </tr>\n",
       "    <tr>\n",
       "      <th>4</th>\n",
       "      <td>100005</td>\n",
       "      <td>101</td>\n",
       "      <td>4565.07</td>\n",
       "      <td>39</td>\n",
       "      <td>910.03</td>\n",
       "      <td>35</td>\n",
       "      <td>467.30</td>\n",
       "      <td>34</td>\n",
       "      <td>292.99</td>\n",
       "      <td>30</td>\n",
       "      <td>...</td>\n",
       "      <td>Female</td>\n",
       "      <td>High</td>\n",
       "      <td>Derby</td>\n",
       "      <td>13.351429</td>\n",
       "      <td>45.198713</td>\n",
       "      <td>23.334103</td>\n",
       "      <td>8.617353</td>\n",
       "      <td>58.571667</td>\n",
       "      <td>33.055000</td>\n",
       "      <td>37.653864</td>\n",
       "    </tr>\n",
       "  </tbody>\n",
       "</table>\n",
       "<p>5 rows × 25 columns</p>\n",
       "</div>"
      ],
      "text/plain": [
       "   customer.id  express.no.transactions  express.total.spend  \\\n",
       "0       100001                      103              1199.25   \n",
       "1       100002                       45                59.75   \n",
       "2       100003                       40                95.37   \n",
       "3       100004                       59              1362.03   \n",
       "4       100005                      101              4565.07   \n",
       "\n",
       "   metro.no.transactions  metro.total.spend  superstore.no.transactions  \\\n",
       "0                     48             294.87                          56   \n",
       "1                     40            1174.78                          60   \n",
       "2                     43             842.20                          45   \n",
       "3                     30             474.25                          48   \n",
       "4                     39             910.03                          35   \n",
       "\n",
       "   superstore.total.spend  extra.no.transactions  extra.total.spend  \\\n",
       "0                 2281.35                     44             108.05   \n",
       "1                 3218.08                     61            2138.64   \n",
       "2                 1543.47                     18            1401.68   \n",
       "3                  120.68                     47              32.65   \n",
       "4                  467.30                     34             292.99   \n",
       "\n",
       "   fandf.no.transactions       ...        gender  affluency  \\\n",
       "0                     17       ...          Male   Very Low   \n",
       "1                     69       ...          Male        Mid   \n",
       "2                     38       ...          Male       High   \n",
       "3                      0       ...          Male        Mid   \n",
       "4                     30       ...        Female       High   \n",
       "\n",
       "               county  superstore.average  express.average metro.average  \\\n",
       "0             Norfolk           40.738393        11.643204      6.143125   \n",
       "1      Greater London           53.634667         1.327778     29.369500   \n",
       "2       Tyne and Wear           34.299333         2.384250     19.586047   \n",
       "3  Greater Manchester            2.514167        23.085254     15.808333   \n",
       "4               Derby           13.351429        45.198713     23.334103   \n",
       "\n",
       "  extra.average fandf.average  petrol.average  direct.average  \n",
       "0      2.455682     22.155882             NaN        5.638571  \n",
       "1     35.059672     30.371159       16.490286       19.002308  \n",
       "2     77.871111      6.030789             NaN      257.540256  \n",
       "3      0.694681           NaN        8.864286       88.934839  \n",
       "4      8.617353     58.571667       33.055000       37.653864  \n",
       "\n",
       "[5 rows x 25 columns]"
      ]
     },
     "execution_count": 38,
     "metadata": {},
     "output_type": "execute_result"
    }
   ],
   "source": [
    "content_test.head()"
   ]
  },
  {
   "cell_type": "code",
   "execution_count": 39,
   "metadata": {
    "collapsed": true
   },
   "outputs": [],
   "source": [
    "gender_test = pd.get_dummies(content_test['gender'])\n",
    "affluency_test = pd.get_dummies(content_test['affluency'])\n",
    "numerical_features_test = content_test[['superstore.average', 'express.average', 'metro.average',\n",
    "       'extra.average', 'fandf.average', 'petrol.average', 'direct.average']].fillna(0)\n",
    "customer_id = content_test['customer.id']\n",
    "\n",
    "content_test_updated = pd.concat([customer_id,numerical_features_test,gender_test,affluency_test],axis = 1)"
   ]
  },
  {
   "cell_type": "code",
   "execution_count": 40,
   "metadata": {
    "collapsed": false
   },
   "outputs": [
    {
     "data": {
      "text/html": [
       "<div>\n",
       "<table border=\"1\" class=\"dataframe\">\n",
       "  <thead>\n",
       "    <tr style=\"text-align: right;\">\n",
       "      <th></th>\n",
       "      <th>customer.id</th>\n",
       "      <th>superstore.average</th>\n",
       "      <th>express.average</th>\n",
       "      <th>metro.average</th>\n",
       "      <th>extra.average</th>\n",
       "      <th>fandf.average</th>\n",
       "      <th>petrol.average</th>\n",
       "      <th>direct.average</th>\n",
       "      <th>Female</th>\n",
       "      <th>Male</th>\n",
       "      <th>High</th>\n",
       "      <th>Low</th>\n",
       "      <th>Mid</th>\n",
       "      <th>Very High</th>\n",
       "      <th>Very Low</th>\n",
       "    </tr>\n",
       "  </thead>\n",
       "  <tbody>\n",
       "    <tr>\n",
       "      <th>0</th>\n",
       "      <td>100001</td>\n",
       "      <td>40.738393</td>\n",
       "      <td>11.643204</td>\n",
       "      <td>6.143125</td>\n",
       "      <td>2.455682</td>\n",
       "      <td>22.155882</td>\n",
       "      <td>0.000000</td>\n",
       "      <td>5.638571</td>\n",
       "      <td>0.0</td>\n",
       "      <td>1.0</td>\n",
       "      <td>0.0</td>\n",
       "      <td>0.0</td>\n",
       "      <td>0.0</td>\n",
       "      <td>0.0</td>\n",
       "      <td>1.0</td>\n",
       "    </tr>\n",
       "    <tr>\n",
       "      <th>1</th>\n",
       "      <td>100002</td>\n",
       "      <td>53.634667</td>\n",
       "      <td>1.327778</td>\n",
       "      <td>29.369500</td>\n",
       "      <td>35.059672</td>\n",
       "      <td>30.371159</td>\n",
       "      <td>16.490286</td>\n",
       "      <td>19.002308</td>\n",
       "      <td>0.0</td>\n",
       "      <td>1.0</td>\n",
       "      <td>0.0</td>\n",
       "      <td>0.0</td>\n",
       "      <td>1.0</td>\n",
       "      <td>0.0</td>\n",
       "      <td>0.0</td>\n",
       "    </tr>\n",
       "    <tr>\n",
       "      <th>2</th>\n",
       "      <td>100003</td>\n",
       "      <td>34.299333</td>\n",
       "      <td>2.384250</td>\n",
       "      <td>19.586047</td>\n",
       "      <td>77.871111</td>\n",
       "      <td>6.030789</td>\n",
       "      <td>0.000000</td>\n",
       "      <td>257.540256</td>\n",
       "      <td>0.0</td>\n",
       "      <td>1.0</td>\n",
       "      <td>1.0</td>\n",
       "      <td>0.0</td>\n",
       "      <td>0.0</td>\n",
       "      <td>0.0</td>\n",
       "      <td>0.0</td>\n",
       "    </tr>\n",
       "    <tr>\n",
       "      <th>3</th>\n",
       "      <td>100004</td>\n",
       "      <td>2.514167</td>\n",
       "      <td>23.085254</td>\n",
       "      <td>15.808333</td>\n",
       "      <td>0.694681</td>\n",
       "      <td>0.000000</td>\n",
       "      <td>8.864286</td>\n",
       "      <td>88.934839</td>\n",
       "      <td>0.0</td>\n",
       "      <td>1.0</td>\n",
       "      <td>0.0</td>\n",
       "      <td>0.0</td>\n",
       "      <td>1.0</td>\n",
       "      <td>0.0</td>\n",
       "      <td>0.0</td>\n",
       "    </tr>\n",
       "    <tr>\n",
       "      <th>4</th>\n",
       "      <td>100005</td>\n",
       "      <td>13.351429</td>\n",
       "      <td>45.198713</td>\n",
       "      <td>23.334103</td>\n",
       "      <td>8.617353</td>\n",
       "      <td>58.571667</td>\n",
       "      <td>33.055000</td>\n",
       "      <td>37.653864</td>\n",
       "      <td>1.0</td>\n",
       "      <td>0.0</td>\n",
       "      <td>1.0</td>\n",
       "      <td>0.0</td>\n",
       "      <td>0.0</td>\n",
       "      <td>0.0</td>\n",
       "      <td>0.0</td>\n",
       "    </tr>\n",
       "  </tbody>\n",
       "</table>\n",
       "</div>"
      ],
      "text/plain": [
       "   customer.id  superstore.average  express.average  metro.average  \\\n",
       "0       100001           40.738393        11.643204       6.143125   \n",
       "1       100002           53.634667         1.327778      29.369500   \n",
       "2       100003           34.299333         2.384250      19.586047   \n",
       "3       100004            2.514167        23.085254      15.808333   \n",
       "4       100005           13.351429        45.198713      23.334103   \n",
       "\n",
       "   extra.average  fandf.average  petrol.average  direct.average  Female  Male  \\\n",
       "0       2.455682      22.155882        0.000000        5.638571     0.0   1.0   \n",
       "1      35.059672      30.371159       16.490286       19.002308     0.0   1.0   \n",
       "2      77.871111       6.030789        0.000000      257.540256     0.0   1.0   \n",
       "3       0.694681       0.000000        8.864286       88.934839     0.0   1.0   \n",
       "4       8.617353      58.571667       33.055000       37.653864     1.0   0.0   \n",
       "\n",
       "   High  Low  Mid  Very High  Very Low  \n",
       "0   0.0  0.0  0.0        0.0       1.0  \n",
       "1   0.0  0.0  1.0        0.0       0.0  \n",
       "2   1.0  0.0  0.0        0.0       0.0  \n",
       "3   0.0  0.0  1.0        0.0       0.0  \n",
       "4   1.0  0.0  0.0        0.0       0.0  "
      ]
     },
     "execution_count": 40,
     "metadata": {},
     "output_type": "execute_result"
    }
   ],
   "source": [
    "content_test_updated.head()"
   ]
  },
  {
   "cell_type": "code",
   "execution_count": 41,
   "metadata": {
    "collapsed": true
   },
   "outputs": [],
   "source": [
    "X_test_unscaled = content_test_updated.ix[:,1:].values"
   ]
  },
  {
   "cell_type": "code",
   "execution_count": 42,
   "metadata": {
    "collapsed": false
   },
   "outputs": [],
   "source": [
    "X_test_unscaled\n",
    "X_test = scaler.transform(X_test_unscaled)\n",
    "#this uses the mean and SD from the training set as opposed to set. more rows in training data so more accurate mean and SD"
   ]
  },
  {
   "cell_type": "code",
   "execution_count": 43,
   "metadata": {
    "collapsed": true
   },
   "outputs": [],
   "source": [
    "clfsvm_predicted_label_test = clfsvm.predict(X_test)"
   ]
  },
  {
   "cell_type": "code",
   "execution_count": 44,
   "metadata": {
    "collapsed": false
   },
   "outputs": [],
   "source": [
    "results = pd.DataFrame(clfsvm_predicted_label_test,customer_id,columns = ['content_1'])"
   ]
  },
  {
   "cell_type": "code",
   "execution_count": 45,
   "metadata": {
    "collapsed": false
   },
   "outputs": [
    {
     "data": {
      "text/plain": [
       "0.0    0.6481\n",
       "1.0    0.3519\n",
       "Name: content_1, dtype: float64"
      ]
     },
     "execution_count": 45,
     "metadata": {},
     "output_type": "execute_result"
    }
   ],
   "source": [
    "results.content_1.value_counts(normalize = True)"
   ]
  },
  {
   "cell_type": "code",
   "execution_count": 46,
   "metadata": {
    "collapsed": true
   },
   "outputs": [],
   "source": [
    "results.to_csv('../input/Tesco/content_1_results.csv',sep = ',',index_label = ['customer.id'])"
   ]
  },
  {
   "cell_type": "markdown",
   "metadata": {},
   "source": [
    "# q4 - Please give a high-level description of how you would create a production system to deliver the most relevant content card to the user on the website. Bear in mind:\n",
    "The spend and website interaction data would be delivered (updated) daily\n",
    "The decision as to what content to show each customer needs to be delivered in real-time (via an API)\n",
    "The whole process needs to be automated, with no manual interaction\n",
    "Please state what tools and technology you would use to achieve this"
   ]
  },
  {
   "cell_type": "markdown",
   "metadata": {},
   "source": [
    "This is a similar concept to a recommender system, whereby a user will be recommended the most appropriate content card.\n",
    "\n",
    "I would probably use an algorithm such as Alternating Least Squares as a product recommender for the user. This is best done in Spark, and we can talk to a Spark cluster in Python through PySpark. This can then be trained and cross validated to come up with an optimal set of hyper parameters. The model would then be ready for implementation, where each user has at least one product (or content card) to be recommended to them.\n",
    "\n",
    "\n",
    "Once recommendations are made, we can shut down our spark cluster and make the list of users and recommendations available through an API.\n",
    "\n",
    "\n",
    "Data will be constantly flowing into the model, and the engine will need to be able to handle growing volumes of data and compute the recommendations. To handle this such a data pipeline, I would:\n",
    "\t - have the user data in a DB like Redshift or SQL\n",
    "\t - Data for the recommendations would then be inserted into a flat file like a csv\n",
    "\t - Our Spark cluster could then be initialised\n",
    "\t - Our python script (PySpark) to generate the model would then be run and upload list of users and recommendations to DB\n",
    "\t - The API would then make this data available to the website, forwarding the user ID as its main parameter, to generate the        appropriate content card(s)\n",
    "\t\t\n",
    "\n",
    "AWS would be my preferred service for managing this pipeline."
   ]
  },
  {
   "cell_type": "code",
   "execution_count": null,
   "metadata": {
    "collapsed": true
   },
   "outputs": [],
   "source": []
  }
 ],
 "metadata": {
  "anaconda-cloud": {},
  "kernelspec": {
   "display_name": "Python [Root]",
   "language": "python",
   "name": "Python [Root]"
  },
  "language_info": {
   "codemirror_mode": {
    "name": "ipython",
    "version": 3
   },
   "file_extension": ".py",
   "mimetype": "text/x-python",
   "name": "python",
   "nbconvert_exporter": "python",
   "pygments_lexer": "ipython3",
   "version": "3.5.2"
  }
 },
 "nbformat": 4,
 "nbformat_minor": 0
}
